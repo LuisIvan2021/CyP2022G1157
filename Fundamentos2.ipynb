{
  "nbformat": 4,
  "nbformat_minor": 0,
  "metadata": {
    "colab": {
      "name": "Fundamentos2.ipynb",
      "provenance": [],
      "collapsed_sections": [],
      "authorship_tag": "ABX9TyPxneWBgKjezGmjA7pcYuVz",
      "include_colab_link": true
    },
    "kernelspec": {
      "name": "python3",
      "display_name": "Python 3"
    },
    "language_info": {
      "name": "python"
    }
  },
  "cells": [
    {
      "cell_type": "markdown",
      "metadata": {
        "id": "view-in-github",
        "colab_type": "text"
      },
      "source": [
        "<a href=\"https://colab.research.google.com/github/LuisIvan2021/CyP2022G1157/blob/main/Fundamentos2.ipynb\" target=\"_parent\"><img src=\"https://colab.research.google.com/assets/colab-badge.svg\" alt=\"Open In Colab\"/></a>"
      ]
    },
    {
      "cell_type": "markdown",
      "metadata": {
        "id": "8w7D_ZUXFj97"
      },
      "source": [
        "#Tipos de datos estructurados de phyton\n",
        "1. listas\n",
        "2. tuplas\n",
        "3. diccionarios\n",
        "4. conjunto(opcional)"
      ]
    },
    {
      "cell_type": "markdown",
      "metadata": {
        "id": "Pau0VIPmFwcl"
      },
      "source": [
        "#listas\n",
        "\n",
        "-Tipo de dato que agrupa variables o valores.\n",
        "- Estructura secuencial (undexados empezando por 0)\n",
        "\n",
        "-se declara de dos formas\n",
        "\n",
        " -usando [ ]\n",
        "  -usando list()\n",
        "  -usando un generador\n",
        "\n",
        "-Puede contener tipos de dato diversos (en otros lenguajes de prog, eso no es posible de forma directa)\n",
        "\n",
        "-Los elementos internos se seleccionan con []\n",
        "\n",
        "-Soporta slicing\n",
        "\n",
        "-SON MUTABLES\n",
        "\n",
        "-Generadores (var for x in range(10))\n",
        "\n",
        "-Al ser una clase contiene muchos metodos utiles"
      ]
    },
    {
      "cell_type": "code",
      "metadata": {
        "colab": {
          "base_uri": "https://localhost:8080/"
        },
        "id": "T7Vokl7nGp0w",
        "outputId": "26946ae7-2029-4007-ce22-1a902e00eeca"
      },
      "source": [
        "numeros=[10,5,2,3,1]\n",
        "print(numeros)\n",
        "\n",
        "numeros2= list()\n",
        "numeros2.append(10)\n",
        "numeros2.append(5)\n",
        "numeros2.append(2)\n",
        "numeros2.append(3)\n",
        "numeros2.append(1)\n",
        "print(numeros2)\n",
        "numeros[2] = 20\n",
        "print(numeros)\n",
        "numeros[4] = 33\n",
        "numeros.append(88)\n",
        "print(numeros)"
      ],
      "execution_count": null,
      "outputs": [
        {
          "output_type": "stream",
          "name": "stdout",
          "text": [
            "[10, 5, 2, 3, 1]\n",
            "[10, 5, 2, 3, 1]\n",
            "[10, 5, 20, 3, 1]\n",
            "[10, 5, 20, 3, 33, 88]\n"
          ]
        }
      ]
    },
    {
      "cell_type": "code",
      "metadata": {
        "colab": {
          "base_uri": "https://localhost:8080/"
        },
        "id": "4EpBBFF9IcXq",
        "outputId": "dad01b6f-99a8-405e-cd5e-95f27b05644e"
      },
      "source": [
        "#tipos diversos\n",
        "\n",
        "cosas= [12,2,True,\"Jose\",1.57,[\"pera\",\"kiwi\",\"uva\"]]\n",
        "print(cosas)\n",
        "print(cosas[1])\n",
        "print(cosas[4])\n",
        "print(cosas[5])\n",
        "print(cosas[5][1])\n",
        "print(cosas[3][1:3])\n",
        "cosas[3]= cosas[3].upper()\n",
        "print(cosas)"
      ],
      "execution_count": null,
      "outputs": [
        {
          "output_type": "stream",
          "name": "stdout",
          "text": [
            "[12, 2, True, 'Jose', 1.57, ['pera', 'kiwi', 'uva']]\n",
            "2\n",
            "1.57\n",
            "['pera', 'kiwi', 'uva']\n",
            "kiwi\n",
            "os\n",
            "[12, 2, True, 'JOSE', 1.57, ['pera', 'kiwi', 'uva']]\n"
          ]
        }
      ]
    },
    {
      "cell_type": "code",
      "metadata": {
        "colab": {
          "base_uri": "https://localhost:8080/"
        },
        "id": "a3wWpLTYL87m",
        "outputId": "d113756d-bb19-4d53-8fa2-456930550924"
      },
      "source": [
        "numeros=[1,2,3,4,5,6,7,8,9,10,11]\n",
        "print(numeros)\n",
        "#slicing\n",
        "#4 al 8\n",
        "print(numeros[3:8])\n",
        "#2: 9,10\n",
        "print(numeros[8:10])\n",
        "print(numeros[-3:-1])\n",
        "#3: imprimir la lsita en orden inverso[11...1]\n",
        "print(numeros[::-1])\n"
      ],
      "execution_count": null,
      "outputs": [
        {
          "output_type": "stream",
          "name": "stdout",
          "text": [
            "[1, 2, 3, 4, 5, 6, 7, 8, 9, 10, 11]\n",
            "[4, 5, 6, 7, 8]\n",
            "[9, 10]\n",
            "[9, 10]\n",
            "[11, 10, 9, 8, 7, 6, 5, 4, 3, 2, 1]\n"
          ]
        }
      ]
    },
    {
      "cell_type": "code",
      "metadata": {
        "colab": {
          "base_uri": "https://localhost:8080/"
        },
        "id": "44hJtatxPtE4",
        "outputId": "96b5e5e6-b8c1-44b8-e6c9-23b3e4a8aa2b"
      },
      "source": [
        "#crear una lista con un generador\n",
        "numeros= [x^3 for x in range(101)]\n",
        "print(numeros)"
      ],
      "execution_count": null,
      "outputs": [
        {
          "output_type": "stream",
          "name": "stdout",
          "text": [
            "[0, 3, 6, 9, 12, 15, 18, 21, 24, 27, 30, 33, 36, 39, 42, 45, 48, 51, 54, 57, 60, 63, 66, 69, 72, 75, 78, 81, 84, 87, 90, 93, 96, 99, 102, 105, 108, 111, 114, 117, 120, 123, 126, 129, 132, 135, 138, 141, 144, 147, 150, 153, 156, 159, 162, 165, 168, 171, 174, 177, 180, 183, 186, 189, 192, 195, 198, 201, 204, 207, 210, 213, 216, 219, 222, 225, 228, 231, 234, 237, 240, 243, 246, 249, 252, 255, 258, 261, 264, 267, 270, 273, 276, 279, 282, 285, 288, 291, 294, 297, 300]\n"
          ]
        }
      ]
    },
    {
      "cell_type": "markdown",
      "metadata": {
        "id": "4zVKZfguQwC5"
      },
      "source": [
        "# Funcion range()\n",
        "tiene los mismos componentes que slicing\n",
        "\n",
        "ini,stop, invremento\n",
        "\n",
        "range(1,101,1)"
      ]
    },
    {
      "cell_type": "code",
      "metadata": {
        "colab": {
          "base_uri": "https://localhost:8080/"
        },
        "id": "TZM-yfyFMQu9",
        "outputId": "b6716e04-ec23-4178-f4a0-29c00886b04b"
      },
      "source": [
        "numeros= [x^3 for x in range(50,101,5)]\n",
        "print(numeros)"
      ],
      "execution_count": null,
      "outputs": [
        {
          "output_type": "stream",
          "name": "stdout",
          "text": [
            "[49, 52, 63, 66, 69, 72, 83, 86, 89, 92, 103]\n"
          ]
        }
      ]
    },
    {
      "cell_type": "markdown",
      "metadata": {
        "id": "6B_i3xrXRI5o"
      },
      "source": [
        "# metodos disponibles de las listas\n"
      ]
    },
    {
      "cell_type": "code",
      "metadata": {
        "colab": {
          "base_uri": "https://localhost:8080/"
        },
        "id": "uDHoOSM_ROAo",
        "outputId": "6ca4472f-5b58-4ba3-eba0-d314bf117c15"
      },
      "source": [
        "dir(list)"
      ],
      "execution_count": null,
      "outputs": [
        {
          "output_type": "execute_result",
          "data": {
            "text/plain": [
              "['__add__',\n",
              " '__class__',\n",
              " '__contains__',\n",
              " '__delattr__',\n",
              " '__delitem__',\n",
              " '__dir__',\n",
              " '__doc__',\n",
              " '__eq__',\n",
              " '__format__',\n",
              " '__ge__',\n",
              " '__getattribute__',\n",
              " '__getitem__',\n",
              " '__gt__',\n",
              " '__hash__',\n",
              " '__iadd__',\n",
              " '__imul__',\n",
              " '__init__',\n",
              " '__init_subclass__',\n",
              " '__iter__',\n",
              " '__le__',\n",
              " '__len__',\n",
              " '__lt__',\n",
              " '__mul__',\n",
              " '__ne__',\n",
              " '__new__',\n",
              " '__reduce__',\n",
              " '__reduce_ex__',\n",
              " '__repr__',\n",
              " '__reversed__',\n",
              " '__rmul__',\n",
              " '__setattr__',\n",
              " '__setitem__',\n",
              " '__sizeof__',\n",
              " '__str__',\n",
              " '__subclasshook__',\n",
              " 'append',\n",
              " 'clear',\n",
              " 'copy',\n",
              " 'count',\n",
              " 'extend',\n",
              " 'index',\n",
              " 'insert',\n",
              " 'pop',\n",
              " 'remove',\n",
              " 'reverse',\n",
              " 'sort']"
            ]
          },
          "metadata": {},
          "execution_count": 38
        }
      ]
    },
    {
      "cell_type": "code",
      "metadata": {
        "colab": {
          "base_uri": "https://localhost:8080/"
        },
        "id": "_E0iwCHDSt1w",
        "outputId": "c66b4046-5481-4337-dfdf-b45f9952dff8"
      },
      "source": [
        "numeros= [4,1,15,8,22,34,50]\n",
        "print(numeros)\n",
        "numeros.append(99)\n",
        "print(numeros)\n",
        "#numeros.clear()\n",
        "#numero= []\n",
        "print(numeros)\n",
        "\n",
        "frutas=[\"uvsa\",\"kiwi\",\"manzana\"]\n",
        "copia= frutas\n",
        "print(frutas)\n",
        "print(copia)\n",
        "frutas.append(\"naranja\")\n",
        "print(frutas)\n",
        "print(copia)\n",
        "\n",
        "colores=[\"rojo\",\"azul\",\"blanco\"]\n",
        "copia2= colores.copy()\n",
        "print(colores)\n",
        "print(copia2)\n",
        "colores.append(\"verde\")\n",
        "print(colores)\n",
        "print(copia2)\n",
        "\n",
        "print(\"Numero de veces que aparece el 15=\", numeros.count(15))\n",
        "\n",
        "#extend\n",
        "\n",
        "nombres=[\"jose\",\"pedro\",\"karina\"]\n",
        "otrosnombres=[\"josue\",\"diana\", \"dalia\"]\n",
        "\n",
        "print(nombres)\n",
        "print(otrosnombres)\n",
        "nombres= nombres+otrosnombres\n",
        "print(nombres)\n",
        "print(otrosnombres)\n",
        "\n",
        "#lo mismo con el metodo extend\n",
        "otrosnombres.extend([\"jesus\",\"maria\",\"jose\"])\n",
        "\n",
        "print(\"jesus esta en la posicion:\", otrosnombres.index(\"jesus\"))\n",
        "otrosnombres.insert(4,\"espiritu santo\")\n",
        "print(otrosnombres)\n",
        "\n",
        "#POP\n",
        "resultado= otrosnombres.pop()\n",
        "print(otrosnombres)\n",
        "print(resultado)"
      ],
      "execution_count": null,
      "outputs": [
        {
          "output_type": "stream",
          "name": "stdout",
          "text": [
            "[4, 1, 15, 8, 22, 34, 50]\n",
            "[4, 1, 15, 8, 22, 34, 50, 99]\n",
            "[4, 1, 15, 8, 22, 34, 50, 99]\n",
            "['uvsa', 'kiwi', 'manzana']\n",
            "['uvsa', 'kiwi', 'manzana']\n",
            "['uvsa', 'kiwi', 'manzana', 'naranja']\n",
            "['uvsa', 'kiwi', 'manzana', 'naranja']\n",
            "['rojo', 'azul', 'blanco']\n",
            "['rojo', 'azul', 'blanco']\n",
            "['rojo', 'azul', 'blanco', 'verde']\n",
            "['rojo', 'azul', 'blanco']\n",
            "Numero de veces que aparece el 15= 1\n",
            "['jose', 'pedro', 'karina']\n",
            "['josue', 'diana', 'dalia']\n",
            "['jose', 'pedro', 'karina', 'josue', 'diana', 'dalia']\n",
            "['josue', 'diana', 'dalia']\n",
            "jesus esta en la posicion: 3\n",
            "['josue', 'diana', 'dalia', 'jesus', 'espiritu santo', 'maria', 'jose']\n",
            "['josue', 'diana', 'dalia', 'jesus', 'espiritu santo', 'maria']\n",
            "jose\n"
          ]
        }
      ]
    },
    {
      "cell_type": "markdown",
      "metadata": {
        "id": "wYNApz4tv7uu"
      },
      "source": [
        "# Tuplas\n",
        "\n",
        "### Caracteristicas de las tuplas\n",
        "\n",
        "- Datos agrupados\n",
        "- Se declara usando#\n",
        "  -()\n",
        "  - tuple()\n",
        "-Estrucctura secuencial, indexada apartir de 0\n",
        "- Pueden tener de 0 a n elementos\n",
        "-NO SON MUTABLES (no se puede eliminar y/o cambiar)\n",
        "- Son buenas para almacenar informcacion de consulta.\n",
        "- Pueden almacenar informacion de difernetes tipos de datos.\n",
        "- Pueden estar anidadas\n",
        "- Tienen metodos utiles"
      ]
    },
    {
      "cell_type": "code",
      "metadata": {
        "colab": {
          "base_uri": "https://localhost:8080/"
        },
        "id": "BB5KyUZDw8Px",
        "outputId": "a70ca239-b822-4347-b99b-7ea3a0b7b7d3"
      },
      "source": [
        "info = (\"juan23\", \"dios1234\", \"123.232.1.12\")\n",
        "print(info)\n",
        "print(info[1])\n",
        "#print(info[1]) = \"patito23\"\n",
        "\n",
        "numeros= (1,2,3,4,5,6,7,8,9,10,11,12,13,14,15)\n",
        "print(numeros)\n",
        "print(numeros[5:11])\n",
        "\n",
        "cosas= (info, numeros)\n",
        "print(cosas)\n",
        "\n",
        "print(cosas[1][5:11])\n",
        "print(cosas[0][2][4:7])\n",
        "print(cosas[0][2][-8:-5])\n",
        "\n"
      ],
      "execution_count": 15,
      "outputs": [
        {
          "output_type": "stream",
          "name": "stdout",
          "text": [
            "('juan23', 'dios1234', '123.232.1.12')\n",
            "dios1234\n",
            "(1, 2, 3, 4, 5, 6, 7, 8, 9, 10, 11, 12, 13, 14, 15)\n",
            "(6, 7, 8, 9, 10, 11)\n",
            "(('juan23', 'dios1234', '123.232.1.12'), (1, 2, 3, 4, 5, 6, 7, 8, 9, 10, 11, 12, 13, 14, 15))\n",
            "(6, 7, 8, 9, 10, 11)\n",
            "232\n",
            "232\n"
          ]
        }
      ]
    },
    {
      "cell_type": "markdown",
      "metadata": {
        "id": "4ALDsEv40pr2"
      },
      "source": [
        "#metodos de las tuplas\n",
        "Son los mismos de las listas pero los que no involucren mutabilidad."
      ]
    },
    {
      "cell_type": "code",
      "metadata": {
        "colab": {
          "base_uri": "https://localhost:8080/"
        },
        "id": "r0-QKC0W0y8A",
        "outputId": "f3f8bbf3-fd25-4ce3-8d42-f2f689d35043"
      },
      "source": [
        "dir(tuple)"
      ],
      "execution_count": 16,
      "outputs": [
        {
          "output_type": "execute_result",
          "data": {
            "text/plain": [
              "['__add__',\n",
              " '__class__',\n",
              " '__contains__',\n",
              " '__delattr__',\n",
              " '__dir__',\n",
              " '__doc__',\n",
              " '__eq__',\n",
              " '__format__',\n",
              " '__ge__',\n",
              " '__getattribute__',\n",
              " '__getitem__',\n",
              " '__getnewargs__',\n",
              " '__gt__',\n",
              " '__hash__',\n",
              " '__init__',\n",
              " '__init_subclass__',\n",
              " '__iter__',\n",
              " '__le__',\n",
              " '__len__',\n",
              " '__lt__',\n",
              " '__mul__',\n",
              " '__ne__',\n",
              " '__new__',\n",
              " '__reduce__',\n",
              " '__reduce_ex__',\n",
              " '__repr__',\n",
              " '__rmul__',\n",
              " '__setattr__',\n",
              " '__sizeof__',\n",
              " '__str__',\n",
              " '__subclasshook__',\n",
              " 'count',\n",
              " 'index']"
            ]
          },
          "metadata": {},
          "execution_count": 16
        }
      ]
    },
    {
      "cell_type": "markdown",
      "metadata": {
        "id": "5PZL48D52yS1"
      },
      "source": [
        "# Diccionarios\n",
        "### Caracteristicas de los diccionarios\n",
        "\n",
        "- Agrupan datos pero de forma no lineal.\n",
        "- Se declaran con:\n",
        "  -{}\n",
        "  -dict()\n",
        "- Formado por pares del tipo llave: valor, dende:\n",
        "  - Llave es de tipo string (siempre)\n",
        "  - Valor puede ser de cualquier tipo de datos, incluyendo los diccionarios.\n",
        "- Se seleccionan con la llave de la forma : [\"id_llave\"]\n",
        "- Son mutables\n",
        "- Son anidables\n",
        "- Son equivalentes al tipo de dato JSON del lenguaje JavaScript (JS)"
      ]
    },
    {
      "cell_type": "code",
      "metadata": {
        "colab": {
          "base_uri": "https://localhost:8080/"
        },
        "id": "iXOeZTex34_V",
        "outputId": "eb33cc13-7f00-45a7-ebb9-38eff7a37269"
      },
      "source": [
        "alumno= {\"nombre\": \"Jose\"}\n",
        "print(alumno)\n",
        "print(alumno['nombre'])\n",
        "alumno = {\"nombre\":\"Jose\", \"nc\":\"2129229292\", \"edad\": 18}\n",
        "print(alumno[\"edad\"])\n",
        "print(\"Edad del alumno =\",alumno[\"edad\"])\n",
        "print(alumno[\"nombre\"].upper())\n",
        "alumno2 = dict()# {}\n",
        "alumno2[\"nombre\"]=\"Jose\"\n",
        "print(alumno2)\n",
        "alumno2[\"nc\"]=\"2129229292\"\n",
        "alumno2[\"edad\"]= 18\n",
        "print(alumno2)\n",
        "alumno2[\"edad\"]= alumno2[\"edad\"] +1\n",
        "print(alumno2)\n"
      ],
      "execution_count": 30,
      "outputs": [
        {
          "output_type": "stream",
          "name": "stdout",
          "text": [
            "{'nombre': 'Jose'}\n",
            "Jose\n",
            "18\n",
            "Edad del alumno = 18\n",
            "JOSE\n",
            "{'nombre': 'Jose'}\n",
            "{'nombre': 'Jose', 'nc': '2129229292', 'edad': 18}\n",
            "{'nombre': 'Jose', 'nc': '2129229292', 'edad': 19}\n"
          ]
        }
      ]
    },
    {
      "cell_type": "code",
      "metadata": {
        "colab": {
          "base_uri": "https://localhost:8080/"
        },
        "id": "XcuO6EfB8SIG",
        "outputId": "dd29576b-fa77-43b1-e5b3-9e2dd36c65bb"
      },
      "source": [
        "cliente= {\"id\":\"CT2121\",\n",
        "          \"nombre\":\"Jose Pedroza Rosales\",\n",
        "          \"telefono\":\"casa=554456565 cel= 0445567767\"}\n",
        "print(cliente)\n",
        "cliente = { \"id\":\"CT2121\" ,\n",
        "            \"nombre\" : {\n",
        "                \"nombres\" : [\"José\", \"Eduardo\"],\n",
        "                \"paterno\" : \"Pedroza\",\n",
        "                \"materno\" : \"Rosales\"\n",
        "            } ,\n",
        "            \"telefonos\" : {\n",
        "                \"casa\" : \"55-6632-4234\",\n",
        "                \"trabajo\":\"55-443-3232\" ,\n",
        "                \"celular\":\"044-55-234234\"\n",
        "            } ,\n",
        "           \"productos\":{\n",
        "               \"ahorro\":{ \"numero_cuenta\":\"7788\" , \"ahorro\": 2500.5 },\n",
        "               \"tarjetas\":[\n",
        "                            {\"tipo\":\"debito\" , \"saldo\" : 10000.5  },\n",
        "                            {\"tipo\":\"credito preferente\" , \"limite\":250000.5},\n",
        "                            {\"tipo\":\"lite\" , \"limite\": 15000.5 }\n",
        "                ]\n",
        "           },\n",
        "           \"direccion\":{\n",
        "               \"calle\":\"Av. central\",\n",
        "               \"numero\" : 1245,\n",
        "               \"colonia\" :\"Impulsora\",\n",
        "               \"delegacion\" :\"neza\",\n",
        "               \"estado\" : {\n",
        "                            \"clave\" : 15,\n",
        "                           \"nombre_corto\":\"EdoMex\",\n",
        "                           \"nombre\": \"Estado de México\"\n",
        "                            }\n",
        "           }\n",
        "\n",
        "            }\n",
        "print( cliente[\"telefonos\"][\"casa\"] )\n",
        "print(cliente)\n",
        "print(cliente[\"productos\"][\"ahorro\"][\"ahorro\"])\n",
        "print( cliente [\"productos\"][\"tarjetas\"][2][\"limite\"])\n",
        "print( cliente [\"direccion\"][\"estado\"][\"nombre\"].upper())\n",
        "\n",
        "\n"
      ],
      "execution_count": 47,
      "outputs": [
        {
          "output_type": "stream",
          "name": "stdout",
          "text": [
            "{'id': 'CT2121', 'nombre': 'Jose Pedroza Rosales', 'telefono': 'casa=554456565 cel= 0445567767'}\n",
            "55-6632-4234\n",
            "{'id': 'CT2121', 'nombre': {'nombres': ['José', 'Eduardo'], 'paterno': 'Pedroza', 'materno': 'Rosales'}, 'telefonos': {'casa': '55-6632-4234', 'trabajo': '55-443-3232', 'celular': '044-55-234234'}, 'productos': {'ahorro': {'numero_cuenta': '7788', 'ahorro': 2500.5}, 'tarjetas': [{'tipo': 'debito', 'saldo': 10000.5}, {'tipo': 'credito preferente', 'limite': 250000.5}, {'tipo': 'lite', 'limite': 15000.5}]}, 'direccion': {'calle': 'Av. central', 'numero': 1245, 'colonia': 'Impulsora', 'delegacion': 'neza', 'estado': {'clave': 15, 'nombre_corto': 'EdoMex', 'nombre': 'Estado de México'}}}\n",
            "2500.5\n",
            "15000.5\n",
            "ESTADO DE MÉXICO\n"
          ]
        }
      ]
    }
  ]
}