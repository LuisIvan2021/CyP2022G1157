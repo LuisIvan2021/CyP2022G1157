{
  "nbformat": 4,
  "nbformat_minor": 0,
  "metadata": {
    "colab": {
      "name": "Fundamentos2.ipynb",
      "provenance": [],
      "collapsed_sections": [],
      "authorship_tag": "ABX9TyPA3gKqHfDrQQVq7MdogFRO",
      "include_colab_link": true
    },
    "kernelspec": {
      "name": "python3",
      "display_name": "Python 3"
    },
    "language_info": {
      "name": "python"
    }
  },
  "cells": [
    {
      "cell_type": "markdown",
      "metadata": {
        "id": "view-in-github",
        "colab_type": "text"
      },
      "source": [
        "<a href=\"https://colab.research.google.com/github/LuisIvan2021/CyP2022G1157/blob/main/Fundamentos2.ipynb\" target=\"_parent\"><img src=\"https://colab.research.google.com/assets/colab-badge.svg\" alt=\"Open In Colab\"/></a>"
      ]
    },
    {
      "cell_type": "markdown",
      "metadata": {
        "id": "8w7D_ZUXFj97"
      },
      "source": [
        "#Tipos de datos estructurados de phyton\n",
        "1. listas\n",
        "2. tuplas\n",
        "3. diccionarios\n",
        "4. conjunto(opcional)"
      ]
    },
    {
      "cell_type": "markdown",
      "metadata": {
        "id": "Pau0VIPmFwcl"
      },
      "source": [
        "#listas\n",
        "\n",
        "-Tipo de dato que agrupa variables o valores.\n",
        "- Estructura secuencial (undexados empezando por 0)\n",
        "\n",
        "-se declara de dos formas\n",
        "\n",
        " -usando [ ]\n",
        "  -usando list()\n",
        "  -usando un generador\n",
        "\n",
        "-Puede contener tipos de dato diversos (en otros lenguajes de prog, eso no es posible de forma directa)\n",
        "\n",
        "-Los elementos internos se seleccionan con []\n",
        "\n",
        "-Soporta slicing\n",
        "\n",
        "-SON MUTABLES\n",
        "\n",
        "-Generadores (var for x in range(10))\n",
        "\n",
        "-Al ser una clase contiene muchos metodos utiles"
      ]
    },
    {
      "cell_type": "code",
      "metadata": {
        "colab": {
          "base_uri": "https://localhost:8080/"
        },
        "id": "T7Vokl7nGp0w",
        "outputId": "26946ae7-2029-4007-ce22-1a902e00eeca"
      },
      "source": [
        "numeros=[10,5,2,3,1]\n",
        "print(numeros)\n",
        "\n",
        "numeros2= list()\n",
        "numeros2.append(10)\n",
        "numeros2.append(5)\n",
        "numeros2.append(2)\n",
        "numeros2.append(3)\n",
        "numeros2.append(1)\n",
        "print(numeros2)\n",
        "numeros[2] = 20\n",
        "print(numeros)\n",
        "numeros[4] = 33\n",
        "numeros.append(88)\n",
        "print(numeros)"
      ],
      "execution_count": 23,
      "outputs": [
        {
          "output_type": "stream",
          "name": "stdout",
          "text": [
            "[10, 5, 2, 3, 1]\n",
            "[10, 5, 2, 3, 1]\n",
            "[10, 5, 20, 3, 1]\n",
            "[10, 5, 20, 3, 33, 88]\n"
          ]
        }
      ]
    },
    {
      "cell_type": "code",
      "metadata": {
        "colab": {
          "base_uri": "https://localhost:8080/"
        },
        "id": "4EpBBFF9IcXq",
        "outputId": "dad01b6f-99a8-405e-cd5e-95f27b05644e"
      },
      "source": [
        "#tipos diversos\n",
        "\n",
        "cosas= [12,2,True,\"Jose\",1.57,[\"pera\",\"kiwi\",\"uva\"]]\n",
        "print(cosas)\n",
        "print(cosas[1])\n",
        "print(cosas[4])\n",
        "print(cosas[5])\n",
        "print(cosas[5][1])\n",
        "print(cosas[3][1:3])\n",
        "cosas[3]= cosas[3].upper()\n",
        "print(cosas)"
      ],
      "execution_count": 24,
      "outputs": [
        {
          "output_type": "stream",
          "name": "stdout",
          "text": [
            "[12, 2, True, 'Jose', 1.57, ['pera', 'kiwi', 'uva']]\n",
            "2\n",
            "1.57\n",
            "['pera', 'kiwi', 'uva']\n",
            "kiwi\n",
            "os\n",
            "[12, 2, True, 'JOSE', 1.57, ['pera', 'kiwi', 'uva']]\n"
          ]
        }
      ]
    },
    {
      "cell_type": "code",
      "metadata": {
        "colab": {
          "base_uri": "https://localhost:8080/"
        },
        "id": "a3wWpLTYL87m",
        "outputId": "d113756d-bb19-4d53-8fa2-456930550924"
      },
      "source": [
        "numeros=[1,2,3,4,5,6,7,8,9,10,11]\n",
        "print(numeros)\n",
        "#slicing\n",
        "#4 al 8\n",
        "print(numeros[3:8])\n",
        "#2: 9,10\n",
        "print(numeros[8:10])\n",
        "print(numeros[-3:-1])\n",
        "#3: imprimir la lsita en orden inverso[11...1]\n",
        "print(numeros[::-1])\n"
      ],
      "execution_count": 36,
      "outputs": [
        {
          "output_type": "stream",
          "name": "stdout",
          "text": [
            "[1, 2, 3, 4, 5, 6, 7, 8, 9, 10, 11]\n",
            "[4, 5, 6, 7, 8]\n",
            "[9, 10]\n",
            "[9, 10]\n",
            "[11, 10, 9, 8, 7, 6, 5, 4, 3, 2, 1]\n"
          ]
        }
      ]
    },
    {
      "cell_type": "code",
      "metadata": {
        "colab": {
          "base_uri": "https://localhost:8080/"
        },
        "id": "44hJtatxPtE4",
        "outputId": "96b5e5e6-b8c1-44b8-e6c9-23b3e4a8aa2b"
      },
      "source": [
        "#crear una lista con un generador\n",
        "numeros= [x^3 for x in range(101)]\n",
        "print(numeros)"
      ],
      "execution_count": 35,
      "outputs": [
        {
          "output_type": "stream",
          "name": "stdout",
          "text": [
            "[0, 3, 6, 9, 12, 15, 18, 21, 24, 27, 30, 33, 36, 39, 42, 45, 48, 51, 54, 57, 60, 63, 66, 69, 72, 75, 78, 81, 84, 87, 90, 93, 96, 99, 102, 105, 108, 111, 114, 117, 120, 123, 126, 129, 132, 135, 138, 141, 144, 147, 150, 153, 156, 159, 162, 165, 168, 171, 174, 177, 180, 183, 186, 189, 192, 195, 198, 201, 204, 207, 210, 213, 216, 219, 222, 225, 228, 231, 234, 237, 240, 243, 246, 249, 252, 255, 258, 261, 264, 267, 270, 273, 276, 279, 282, 285, 288, 291, 294, 297, 300]\n"
          ]
        }
      ]
    },
    {
      "cell_type": "markdown",
      "metadata": {
        "id": "4zVKZfguQwC5"
      },
      "source": [
        "# Funcion range()\n",
        "tiene los mismos componentes que slicing\n",
        "\n",
        "ini,stop, invremento\n",
        "\n",
        "range(1,101,1)"
      ]
    },
    {
      "cell_type": "code",
      "metadata": {
        "colab": {
          "base_uri": "https://localhost:8080/"
        },
        "id": "TZM-yfyFMQu9",
        "outputId": "b6716e04-ec23-4178-f4a0-29c00886b04b"
      },
      "source": [
        "numeros= [x^3 for x in range(50,101,5)]\n",
        "print(numeros)"
      ],
      "execution_count": 37,
      "outputs": [
        {
          "output_type": "stream",
          "name": "stdout",
          "text": [
            "[49, 52, 63, 66, 69, 72, 83, 86, 89, 92, 103]\n"
          ]
        }
      ]
    },
    {
      "cell_type": "markdown",
      "metadata": {
        "id": "6B_i3xrXRI5o"
      },
      "source": [
        "# metodos disponibles de las listas\n"
      ]
    },
    {
      "cell_type": "code",
      "metadata": {
        "colab": {
          "base_uri": "https://localhost:8080/"
        },
        "id": "uDHoOSM_ROAo",
        "outputId": "6ca4472f-5b58-4ba3-eba0-d314bf117c15"
      },
      "source": [
        "dir(list)"
      ],
      "execution_count": 38,
      "outputs": [
        {
          "output_type": "execute_result",
          "data": {
            "text/plain": [
              "['__add__',\n",
              " '__class__',\n",
              " '__contains__',\n",
              " '__delattr__',\n",
              " '__delitem__',\n",
              " '__dir__',\n",
              " '__doc__',\n",
              " '__eq__',\n",
              " '__format__',\n",
              " '__ge__',\n",
              " '__getattribute__',\n",
              " '__getitem__',\n",
              " '__gt__',\n",
              " '__hash__',\n",
              " '__iadd__',\n",
              " '__imul__',\n",
              " '__init__',\n",
              " '__init_subclass__',\n",
              " '__iter__',\n",
              " '__le__',\n",
              " '__len__',\n",
              " '__lt__',\n",
              " '__mul__',\n",
              " '__ne__',\n",
              " '__new__',\n",
              " '__reduce__',\n",
              " '__reduce_ex__',\n",
              " '__repr__',\n",
              " '__reversed__',\n",
              " '__rmul__',\n",
              " '__setattr__',\n",
              " '__setitem__',\n",
              " '__sizeof__',\n",
              " '__str__',\n",
              " '__subclasshook__',\n",
              " 'append',\n",
              " 'clear',\n",
              " 'copy',\n",
              " 'count',\n",
              " 'extend',\n",
              " 'index',\n",
              " 'insert',\n",
              " 'pop',\n",
              " 'remove',\n",
              " 'reverse',\n",
              " 'sort']"
            ]
          },
          "metadata": {},
          "execution_count": 38
        }
      ]
    },
    {
      "cell_type": "code",
      "metadata": {
        "colab": {
          "base_uri": "https://localhost:8080/"
        },
        "id": "_E0iwCHDSt1w",
        "outputId": "c66b4046-5481-4337-dfdf-b45f9952dff8"
      },
      "source": [
        "numeros= [4,1,15,8,22,34,50]\n",
        "print(numeros)\n",
        "numeros.append(99)\n",
        "print(numeros)\n",
        "#numeros.clear()\n",
        "#numero= []\n",
        "print(numeros)\n",
        "\n",
        "frutas=[\"uvsa\",\"kiwi\",\"manzana\"]\n",
        "copia= frutas\n",
        "print(frutas)\n",
        "print(copia)\n",
        "frutas.append(\"naranja\")\n",
        "print(frutas)\n",
        "print(copia)\n",
        "\n",
        "colores=[\"rojo\",\"azul\",\"blanco\"]\n",
        "copia2= colores.copy()\n",
        "print(colores)\n",
        "print(copia2)\n",
        "colores.append(\"verde\")\n",
        "print(colores)\n",
        "print(copia2)\n",
        "\n",
        "print(\"Numero de veces que aparece el 15=\", numeros.count(15))\n",
        "\n",
        "#extend\n",
        "\n",
        "nombres=[\"jose\",\"pedro\",\"karina\"]\n",
        "otrosnombres=[\"josue\",\"diana\", \"dalia\"]\n",
        "\n",
        "print(nombres)\n",
        "print(otrosnombres)\n",
        "nombres= nombres+otrosnombres\n",
        "print(nombres)\n",
        "print(otrosnombres)\n",
        "\n",
        "#lo mismo con el metodo extend\n",
        "otrosnombres.extend([\"jesus\",\"maria\",\"jose\"])\n",
        "\n",
        "print(\"jesus esta en la posicion:\", otrosnombres.index(\"jesus\"))\n",
        "otrosnombres.insert(4,\"espiritu santo\")\n",
        "print(otrosnombres)\n",
        "\n",
        "#POP\n",
        "resultado= otrosnombres.pop()\n",
        "print(otrosnombres)\n",
        "print(resultado)"
      ],
      "execution_count": 49,
      "outputs": [
        {
          "output_type": "stream",
          "name": "stdout",
          "text": [
            "[4, 1, 15, 8, 22, 34, 50]\n",
            "[4, 1, 15, 8, 22, 34, 50, 99]\n",
            "[4, 1, 15, 8, 22, 34, 50, 99]\n",
            "['uvsa', 'kiwi', 'manzana']\n",
            "['uvsa', 'kiwi', 'manzana']\n",
            "['uvsa', 'kiwi', 'manzana', 'naranja']\n",
            "['uvsa', 'kiwi', 'manzana', 'naranja']\n",
            "['rojo', 'azul', 'blanco']\n",
            "['rojo', 'azul', 'blanco']\n",
            "['rojo', 'azul', 'blanco', 'verde']\n",
            "['rojo', 'azul', 'blanco']\n",
            "Numero de veces que aparece el 15= 1\n",
            "['jose', 'pedro', 'karina']\n",
            "['josue', 'diana', 'dalia']\n",
            "['jose', 'pedro', 'karina', 'josue', 'diana', 'dalia']\n",
            "['josue', 'diana', 'dalia']\n",
            "jesus esta en la posicion: 3\n",
            "['josue', 'diana', 'dalia', 'jesus', 'espiritu santo', 'maria', 'jose']\n",
            "['josue', 'diana', 'dalia', 'jesus', 'espiritu santo', 'maria']\n",
            "jose\n"
          ]
        }
      ]
    }
  ]
}