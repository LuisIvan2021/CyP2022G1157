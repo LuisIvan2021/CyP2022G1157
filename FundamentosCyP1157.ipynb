{
  "nbformat": 4,
  "nbformat_minor": 0,
  "metadata": {
    "colab": {
      "name": "FundamentosCyP1157.ipynb",
      "provenance": [],
      "collapsed_sections": []
    },
    "kernelspec": {
      "name": "python3",
      "display_name": "Python 3"
    },
    "language_info": {
      "name": "python"
    }
  },
  "cells": [
    {
      "cell_type": "code",
      "metadata": {
        "colab": {
          "base_uri": "https://localhost:8080/"
        },
        "id": "xxjFXMJ8VfVX",
        "outputId": "25e393e2-c7c8-43e3-b6eb-274e7976a448"
      },
      "source": [
        "nombre= \"José\" #Tipo de dato string (cadena de caracteres)\n",
        "\n",
        "print(nombre)"
      ],
      "execution_count": 1,
      "outputs": [
        {
          "output_type": "stream",
          "name": "stdout",
          "text": [
            "José\n"
          ]
        }
      ]
    },
    {
      "cell_type": "markdown",
      "metadata": {
        "id": "Yi40_wtaXM-7"
      },
      "source": [
        "# Tipos de datos en python\n",
        "### Tipos de datos simples\n",
        "- str --> String cadena de caractéres.\n",
        "- int --> Numeros enteros\n",
        "- float --> Numeros con notacion de punto flotante\n",
        "- complex --> Numeros complejos\n",
        "- bool --> Booleano ( True or False)\n",
        "- byte --> 8 bitd\n",
        "### Tipos de datos estructurados (compuestos)\n",
        "-list --> Listas (Arreglos en otros leng)\n",
        "- tuple --> Listas no mutables\n",
        "- dict --> Diccionarios\n",
        "- set y frozenset --> Conjuntos"
      ]
    },
    {
      "cell_type": "code",
      "metadata": {
        "colab": {
          "base_uri": "https://localhost:8080/"
        },
        "id": "EK7bKQgbaXMm",
        "outputId": "f07534ce-1346-4704-df33-93c028e7b169"
      },
      "source": [
        "import sys\n",
        "edad = 19\n",
        "print(\"Tu edad es: \",edad) # al final de una linea de código\n",
        "# este es un compentario de linea simple\n",
        "\n",
        "\"\"\"\n",
        "\n",
        "Comentario de multiple linea\n",
        "En lemguaje C, C++ y Java el comentario de multiple linea es con /* ... */\n",
        "\n",
        "En lenguaje C, C++ y Java el comentario de una sola linea es con: //\n",
        "\n",
        "\"\"\"\n",
        "# Tipos de datos numericos int y float\n",
        "\n",
        "print (sys.getsizeof(edad) )\n",
        "#el tipo de dato INT utiliza diferente cantidad de bits segun el leg\n",
        "# de prog. por ejemplo en C utiliza 16 bits.\n",
        "\n",
        "edad = edad + 1\n",
        "\n",
        "print( edad )\n",
        "\n",
        "estatura = 1.56\n",
        "print(estatura)\n",
        "print( sys.getsizeof(estatura))\n",
        "estatura = estatura + 0.1\n",
        "print(estatura)\n",
        "print( round(estatura,2))\n",
        "#RESTA\n",
        "\n",
        "edad+=1 #edad = edad +1\n",
        "print(\"Tu edad es: \",edad)\n",
        "\n",
        "edad-=1#edad = edad -1\n",
        "print(\"Tu edad es: \",edad)\n",
        "\n",
        "edad +=1\n",
        "edad/=2 #edad = edad /2\n",
        "print(\"La mitad de tu edad es: \",edad)\n",
        "\n",
        "edad =21\n",
        "#volver a calcular la mitad de la edad pero solo dejar la parte entera\n",
        "edad = edad //2\n",
        "print(\"La mitad de tu edad es: \",edad)\n",
        "\n",
        "#En la mayoria de los len no permite operaciones entre diferentes\n",
        "#tipos de datos, en python no es el caso\n",
        "#\n",
        "numero = edad /2.0\n",
        "print(numero)\n",
        "#\n",
        "numero *= 3\n",
        "print(numero)\n",
        "#\n",
        "numero = 5.0\n",
        "numero = numero **2\n",
        "print(numero)\n"
      ],
      "execution_count": 18,
      "outputs": [
        {
          "output_type": "stream",
          "name": "stdout",
          "text": [
            "Tu edad es:  19\n",
            "28\n",
            "20\n",
            "1.56\n",
            "24\n",
            "1.6600000000000001\n",
            "1.66\n",
            "Tu edad es:  21\n",
            "Tu edad es:  20\n",
            "La mitad de tu edad es:  10.5\n",
            "La mitad de tu edad es:  10\n",
            "5.0\n",
            "15.0\n",
            "25.0\n",
            "10.5\n"
          ]
        }
      ]
    },
    {
      "cell_type": "code",
      "metadata": {
        "colab": {
          "base_uri": "https://localhost:8080/"
        },
        "id": "9ZC9U5cTlwdR",
        "outputId": "3d5d928a-e5a9-4af4-b0d7-cad0d67d9903"
      },
      "source": [
        "#operador modulo\n",
        "numero= 21\n",
        "print(numero /2)\n",
        "print(numero //2)\n",
        "\n",
        "# El operador modulo da como resultado el residuo de una division entera\n",
        "print(numero %2)\n",
        "\n",
        "numero = 24\n",
        "print(\"Residuo de 24/5: \",numero %5)\n",
        "#Operadores relacionales (logicos)\n",
        "print(\"24 es par:\", numero %2 == 0)\n",
        "#diferencia\n",
        "print(\"24 es diferente a 23 =\",numero != 23)\n",
        "\n",
        "print(\"24 es mayor o igual que 23: \",numero >=23)\n",
        "print(\"24 es mayor que 23: \",numero >23)\n",
        "print(\"24 es menor que 23: \",numero <23)\n",
        "\n",
        "print(\"24 es mayor o igual que 23: \",numero >=23)\n",
        "print(\"24 es menor o igual que 23: \",numero <=23)\n",
        "\n",
        "print(\"El tipo de dato de la variable numero es:\", type(numero))\n",
        "print(\"El tipo de dato de la variable numero /2.0 es:\", type(numero/2.0))"
      ],
      "execution_count": 37,
      "outputs": [
        {
          "output_type": "stream",
          "name": "stdout",
          "text": [
            "10.5\n",
            "10\n",
            "1\n",
            "Residuo de 24/5:  4\n",
            "24 es par: True\n",
            "24 es diferente a 23 = True\n",
            "24 es mayor o igual que 23:  True\n",
            "24 es mayor que 23:  True\n",
            "24 es menor que 23:  False\n",
            "24 es mayor o igual que 23:  True\n",
            "24 es menor o igual que 23:  False\n",
            "El tipo de dato de la variable numero es: <class 'int'>\n",
            "El tipo de dato de la variable numero /2.0 es: <class 'float'>\n"
          ]
        }
      ]
    },
    {
      "cell_type": "markdown",
      "metadata": {
        "id": "QXDLo1Wnphom"
      },
      "source": [
        "# Tipo de dato String (str) en Python\n",
        "\n",
        "- se maneja como un arreglo ( tipo de dato compuesto)\n",
        "- Se puede acceder a los elemntos de el string por medio del indice del caracter\n",
        "- Es mutable\n",
        "- Tiene metodos utiles (potentes)\n",
        "- slicing"
      ]
    },
    {
      "cell_type": "code",
      "metadata": {
        "colab": {
          "base_uri": "https://localhost:8080/"
        },
        "id": "VR-aXFwQqFAA",
        "outputId": "ef07ea08-c964-4344-b466-1af44901873f"
      },
      "source": [
        "nombre = 'Jose'\n",
        "carrera = \"Ingenieria en computación\"\n",
        "frase = \"\"\" El conocimiento\n",
        "me persigue,...\n",
        "per\n",
        "yo soy más rápido\n",
        "\"\"\"\n",
        "print(nombre)\n",
        "print(carrera)\n",
        "print(frase)\n",
        "\n",
        "# La funcion type de Python te devuelve el tipo de dato de una variables\n",
        "print(type(nombre))\n",
        "print(nombre)\n",
        "\n",
        "paterno = str( \"Peréz\" )\n",
        "print(type(paterno))\n",
        "print(paterno)"
      ],
      "execution_count": 39,
      "outputs": [
        {
          "output_type": "stream",
          "name": "stdout",
          "text": [
            "Jose\n",
            "Ingenieria en computación\n",
            " El conocimiento\n",
            "me persigue,...\n",
            "per\n",
            "yo soy más rápido\n",
            "\n",
            "<class 'str'>\n",
            "Jose\n",
            "<class 'str'>\n",
            "Perez\n"
          ]
        }
      ]
    }
  ]
}