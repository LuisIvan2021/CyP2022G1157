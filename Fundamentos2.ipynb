{
  "nbformat": 4,
  "nbformat_minor": 0,
  "metadata": {
    "colab": {
      "name": "Fundamentos2.ipynb",
      "provenance": [],
      "collapsed_sections": [],
      "authorship_tag": "ABX9TyOTPYPMtVW/IdgXZvTNk2sk",
      "include_colab_link": true
    },
    "kernelspec": {
      "name": "python3",
      "display_name": "Python 3"
    },
    "language_info": {
      "name": "python"
    }
  },
  "cells": [
    {
      "cell_type": "markdown",
      "metadata": {
        "id": "view-in-github",
        "colab_type": "text"
      },
      "source": [
        "<a href=\"https://colab.research.google.com/github/LuisIvan2021/CyP2022G1157/blob/main/Fundamentos2.ipynb\" target=\"_parent\"><img src=\"https://colab.research.google.com/assets/colab-badge.svg\" alt=\"Open In Colab\"/></a>"
      ]
    },
    {
      "cell_type": "markdown",
      "metadata": {
        "id": "8w7D_ZUXFj97"
      },
      "source": [
        "#Tipos de datos estructurados de phyton\n",
        "1. listas\n",
        "2. tuplas\n",
        "3. diccionarios\n",
        "4. conjunto(opcional)"
      ]
    },
    {
      "cell_type": "markdown",
      "metadata": {
        "id": "Pau0VIPmFwcl"
      },
      "source": [
        "#listas\n",
        "\n",
        "-Tipo de dato que agrupa variables o valores.\n",
        "- Estructura secuencial (undexados empezando por 0)\n",
        "\n",
        "-se declara de dos formas\n",
        "\n",
        " -usando [ ]\n",
        "  -usando list()\n",
        "  -usando un generador\n",
        "\n",
        "-Puede contener tipos de dato diversos (en otros lenguajes de prog, eso no es posible de forma directa)\n",
        "\n",
        "-Los elementos internos se seleccionan con []\n",
        "\n",
        "-Soporta slicing\n",
        "\n",
        "-SON MUTABLES\n",
        "\n",
        "-Generadores (var for x in range(10))\n",
        "\n",
        "-Al ser una clase contiene muchos metodos utiles"
      ]
    },
    {
      "cell_type": "code",
      "metadata": {
        "colab": {
          "base_uri": "https://localhost:8080/"
        },
        "id": "T7Vokl7nGp0w",
        "outputId": "b71379ca-1810-4bd4-9d7f-375df5035251"
      },
      "source": [
        "numeros=[10,5,2,3,1]\n",
        "print(numeros)\n",
        "\n",
        "numeros2= list()\n",
        "numeros2.append(10)\n",
        "numeros2.append(5)\n",
        "numeros2.append(2)\n",
        "numeros2.append(3)\n",
        "numeros2.append(1)\n",
        "print(numeros2)\n",
        "numeros[2] = 20\n",
        "print(numeros)\n",
        "numeros[4] = 33\n",
        "numeros.append(88)\n",
        "print(numeros)"
      ],
      "execution_count": 2,
      "outputs": [
        {
          "output_type": "stream",
          "name": "stdout",
          "text": [
            "[10, 5, 2, 3, 1]\n",
            "[10, 5, 2, 3, 1]\n",
            "[10, 5, 20, 3, 1]\n",
            "[10, 5, 20, 3, 33, 88]\n"
          ]
        }
      ]
    },
    {
      "cell_type": "code",
      "metadata": {
        "colab": {
          "base_uri": "https://localhost:8080/"
        },
        "id": "4EpBBFF9IcXq",
        "outputId": "603362fc-b2bb-4671-8f85-75502389adcf"
      },
      "source": [
        "#tipos diversos\n",
        "\n",
        "cosas= [12,2,True,\"Jose\",1.57,[\"pera\",\"kiwi\",\"uva\"]]\n",
        "print(cosas)\n",
        "print(cosas[1])\n",
        "print(cosas[4])\n",
        "print(cosas[5])\n",
        "print(cosas[5][1])\n",
        "print(cosas[3][1:3])\n",
        "cosas[3]= cosas[3].upper()\n",
        "print(cosas)"
      ],
      "execution_count": 3,
      "outputs": [
        {
          "output_type": "stream",
          "name": "stdout",
          "text": [
            "[12, 2, True, 'Jose', 1.57, ['pera', 'kiwi', 'uva']]\n",
            "2\n",
            "1.57\n",
            "['pera', 'kiwi', 'uva']\n",
            "kiwi\n",
            "os\n",
            "[12, 2, True, 'JOSE', 1.57, ['pera', 'kiwi', 'uva']]\n"
          ]
        }
      ]
    },
    {
      "cell_type": "code",
      "metadata": {
        "colab": {
          "base_uri": "https://localhost:8080/"
        },
        "id": "a3wWpLTYL87m",
        "outputId": "cd82a892-0d65-46b1-bb92-6b8e29f8b82e"
      },
      "source": [
        "numeros=[1,2,3,4,5,6,7,8,9,10,11]\n",
        "print(numeros)\n",
        "#slicing\n",
        "#4 al 8\n",
        "print(numeros[3:8])\n",
        "#2: 9,10\n",
        "print(numeros[8:10])\n",
        "print(numeros[-3:-1])\n",
        "#3: imprimir la lsita en orden inverso[11...1]\n",
        "print(numeros[::-1])\n"
      ],
      "execution_count": 4,
      "outputs": [
        {
          "output_type": "stream",
          "name": "stdout",
          "text": [
            "[1, 2, 3, 4, 5, 6, 7, 8, 9, 10, 11]\n",
            "[4, 5, 6, 7, 8]\n",
            "[9, 10]\n",
            "[9, 10]\n",
            "[11, 10, 9, 8, 7, 6, 5, 4, 3, 2, 1]\n"
          ]
        }
      ]
    },
    {
      "cell_type": "code",
      "metadata": {
        "colab": {
          "base_uri": "https://localhost:8080/"
        },
        "id": "44hJtatxPtE4",
        "outputId": "0b3a520a-e21e-461e-ffe8-20e91065b67d"
      },
      "source": [
        "#crear una lista con un generador\n",
        "numeros= [x^3 for x in range(101)]\n",
        "print(numeros)"
      ],
      "execution_count": 5,
      "outputs": [
        {
          "output_type": "stream",
          "name": "stdout",
          "text": [
            "[3, 2, 1, 0, 7, 6, 5, 4, 11, 10, 9, 8, 15, 14, 13, 12, 19, 18, 17, 16, 23, 22, 21, 20, 27, 26, 25, 24, 31, 30, 29, 28, 35, 34, 33, 32, 39, 38, 37, 36, 43, 42, 41, 40, 47, 46, 45, 44, 51, 50, 49, 48, 55, 54, 53, 52, 59, 58, 57, 56, 63, 62, 61, 60, 67, 66, 65, 64, 71, 70, 69, 68, 75, 74, 73, 72, 79, 78, 77, 76, 83, 82, 81, 80, 87, 86, 85, 84, 91, 90, 89, 88, 95, 94, 93, 92, 99, 98, 97, 96, 103]\n"
          ]
        }
      ]
    },
    {
      "cell_type": "markdown",
      "metadata": {
        "id": "4zVKZfguQwC5"
      },
      "source": [
        "# Funcion range()\n",
        "tiene los mismos componentes que slicing\n",
        "\n",
        "ini,stop, invremento\n",
        "\n",
        "range(1,101,1)"
      ]
    },
    {
      "cell_type": "code",
      "metadata": {
        "colab": {
          "base_uri": "https://localhost:8080/"
        },
        "id": "TZM-yfyFMQu9",
        "outputId": "9399d01b-0e7b-4b58-ec64-a1152f63df48"
      },
      "source": [
        "numeros= [x^3 for x in range(50,101,5)]\n",
        "print(numeros)"
      ],
      "execution_count": 6,
      "outputs": [
        {
          "output_type": "stream",
          "name": "stdout",
          "text": [
            "[49, 52, 63, 66, 69, 72, 83, 86, 89, 92, 103]\n"
          ]
        }
      ]
    },
    {
      "cell_type": "markdown",
      "metadata": {
        "id": "6B_i3xrXRI5o"
      },
      "source": [
        "# metodos disponibles de las listas\n"
      ]
    },
    {
      "cell_type": "code",
      "metadata": {
        "colab": {
          "base_uri": "https://localhost:8080/"
        },
        "id": "uDHoOSM_ROAo",
        "outputId": "5d206870-0dd1-4568-e486-0e7369b5267d"
      },
      "source": [
        "dir(list)"
      ],
      "execution_count": 7,
      "outputs": [
        {
          "output_type": "execute_result",
          "data": {
            "text/plain": [
              "['__add__',\n",
              " '__class__',\n",
              " '__contains__',\n",
              " '__delattr__',\n",
              " '__delitem__',\n",
              " '__dir__',\n",
              " '__doc__',\n",
              " '__eq__',\n",
              " '__format__',\n",
              " '__ge__',\n",
              " '__getattribute__',\n",
              " '__getitem__',\n",
              " '__gt__',\n",
              " '__hash__',\n",
              " '__iadd__',\n",
              " '__imul__',\n",
              " '__init__',\n",
              " '__init_subclass__',\n",
              " '__iter__',\n",
              " '__le__',\n",
              " '__len__',\n",
              " '__lt__',\n",
              " '__mul__',\n",
              " '__ne__',\n",
              " '__new__',\n",
              " '__reduce__',\n",
              " '__reduce_ex__',\n",
              " '__repr__',\n",
              " '__reversed__',\n",
              " '__rmul__',\n",
              " '__setattr__',\n",
              " '__setitem__',\n",
              " '__sizeof__',\n",
              " '__str__',\n",
              " '__subclasshook__',\n",
              " 'append',\n",
              " 'clear',\n",
              " 'copy',\n",
              " 'count',\n",
              " 'extend',\n",
              " 'index',\n",
              " 'insert',\n",
              " 'pop',\n",
              " 'remove',\n",
              " 'reverse',\n",
              " 'sort']"
            ]
          },
          "metadata": {},
          "execution_count": 7
        }
      ]
    },
    {
      "cell_type": "code",
      "metadata": {
        "colab": {
          "base_uri": "https://localhost:8080/"
        },
        "id": "_E0iwCHDSt1w",
        "outputId": "7c0d2655-07a7-46eb-9d26-966d1aaab770"
      },
      "source": [
        "numeros= [4,1,15,8,22,34,50]\n",
        "print(numeros)\n",
        "numeros.append(99)\n",
        "print(numeros)\n",
        "#numeros.clear()\n",
        "#numero= []\n",
        "print(numeros)\n",
        "\n",
        "frutas=[\"uvsa\",\"kiwi\",\"manzana\"]\n",
        "copia= frutas\n",
        "print(frutas)\n",
        "print(copia)\n",
        "frutas.append(\"naranja\")\n",
        "print(frutas)\n",
        "print(copia)\n",
        "\n",
        "colores=[\"rojo\",\"azul\",\"blanco\"]\n",
        "copia2= colores.copy()\n",
        "print(colores)\n",
        "print(copia2)\n",
        "colores.append(\"verde\")\n",
        "print(colores)\n",
        "print(copia2)\n",
        "\n",
        "print(\"Numero de veces que aparece el 15=\", numeros.count(15))\n",
        "\n",
        "#extend\n",
        "\n",
        "nombres=[\"jose\",\"pedro\",\"karina\"]\n",
        "otrosnombres=[\"josue\",\"diana\", \"dalia\"]\n",
        "\n",
        "print(nombres)\n",
        "print(otrosnombres)\n",
        "nombres= nombres+otrosnombres\n",
        "print(nombres)\n",
        "print(otrosnombres)\n",
        "\n",
        "#lo mismo con el metodo extend\n",
        "otrosnombres.extend([\"jesus\",\"maria\",\"jose\"])\n",
        "\n",
        "print(\"jesus esta en la posicion:\", otrosnombres.index(\"jesus\"))\n",
        "otrosnombres.insert(4,\"espiritu santo\")\n",
        "print(otrosnombres)\n",
        "\n",
        "#POP\n",
        "resultado= otrosnombres.pop()\n",
        "print(otrosnombres)\n",
        "print(resultado)"
      ],
      "execution_count": 8,
      "outputs": [
        {
          "output_type": "stream",
          "name": "stdout",
          "text": [
            "[4, 1, 15, 8, 22, 34, 50]\n",
            "[4, 1, 15, 8, 22, 34, 50, 99]\n",
            "[4, 1, 15, 8, 22, 34, 50, 99]\n",
            "['uvsa', 'kiwi', 'manzana']\n",
            "['uvsa', 'kiwi', 'manzana']\n",
            "['uvsa', 'kiwi', 'manzana', 'naranja']\n",
            "['uvsa', 'kiwi', 'manzana', 'naranja']\n",
            "['rojo', 'azul', 'blanco']\n",
            "['rojo', 'azul', 'blanco']\n",
            "['rojo', 'azul', 'blanco', 'verde']\n",
            "['rojo', 'azul', 'blanco']\n",
            "Numero de veces que aparece el 15= 1\n",
            "['jose', 'pedro', 'karina']\n",
            "['josue', 'diana', 'dalia']\n",
            "['jose', 'pedro', 'karina', 'josue', 'diana', 'dalia']\n",
            "['josue', 'diana', 'dalia']\n",
            "jesus esta en la posicion: 3\n",
            "['josue', 'diana', 'dalia', 'jesus', 'espiritu santo', 'maria', 'jose']\n",
            "['josue', 'diana', 'dalia', 'jesus', 'espiritu santo', 'maria']\n",
            "jose\n"
          ]
        }
      ]
    },
    {
      "cell_type": "markdown",
      "metadata": {
        "id": "wYNApz4tv7uu"
      },
      "source": [
        "# Tuplas\n",
        "\n",
        "### Caracteristicas de las tuplas\n",
        "\n",
        "- Datos agrupados\n",
        "- Se declara usando#\n",
        "\n",
        "  --( )\n",
        "  - tuple()\n",
        "-Estrucctura secuencial, indexada apartir de 0\n",
        "- Pueden tener de 0 a n elementos\n",
        "-NO SON MUTABLES (no se puede eliminar y/o cambiar)\n",
        "- Son buenas para almacenar informcacion de consulta.\n",
        "- Pueden almacenar informacion de difernetes tipos de datos.\n",
        "- Pueden estar anidadas\n",
        "- Tienen metodos utiles"
      ]
    },
    {
      "cell_type": "code",
      "metadata": {
        "colab": {
          "base_uri": "https://localhost:8080/"
        },
        "id": "BB5KyUZDw8Px",
        "outputId": "6adaa4e6-567c-4d7a-a00d-7469cbfcddf9"
      },
      "source": [
        "info = (\"juan23\", \"dios1234\", \"123.232.1.12\")\n",
        "print(info)\n",
        "print(info[1])\n",
        "#print(info[1]) = \"patito23\"\n",
        "\n",
        "numeros= (1,2,3,4,5,6,7,8,9,10,11,12,13,14,15)\n",
        "print(numeros)\n",
        "print(numeros[5:11])\n",
        "\n",
        "cosas= (info, numeros)\n",
        "print(cosas)\n",
        "\n",
        "print(cosas[1][5:11])\n",
        "print(cosas[0][2][4:7])\n",
        "print(cosas[0][2][-8:-5])\n",
        "\n"
      ],
      "execution_count": 9,
      "outputs": [
        {
          "output_type": "stream",
          "name": "stdout",
          "text": [
            "('juan23', 'dios1234', '123.232.1.12')\n",
            "dios1234\n",
            "(1, 2, 3, 4, 5, 6, 7, 8, 9, 10, 11, 12, 13, 14, 15)\n",
            "(6, 7, 8, 9, 10, 11)\n",
            "(('juan23', 'dios1234', '123.232.1.12'), (1, 2, 3, 4, 5, 6, 7, 8, 9, 10, 11, 12, 13, 14, 15))\n",
            "(6, 7, 8, 9, 10, 11)\n",
            "232\n",
            "232\n"
          ]
        }
      ]
    },
    {
      "cell_type": "markdown",
      "metadata": {
        "id": "4ALDsEv40pr2"
      },
      "source": [
        "#metodos de las tuplas\n",
        "Son los mismos de las listas pero los que no involucren mutabilidad."
      ]
    },
    {
      "cell_type": "code",
      "metadata": {
        "colab": {
          "base_uri": "https://localhost:8080/"
        },
        "id": "r0-QKC0W0y8A",
        "outputId": "726ea987-732a-4a51-9ec0-7ad3b4669e63"
      },
      "source": [
        "dir(tuple)"
      ],
      "execution_count": 10,
      "outputs": [
        {
          "output_type": "execute_result",
          "data": {
            "text/plain": [
              "['__add__',\n",
              " '__class__',\n",
              " '__contains__',\n",
              " '__delattr__',\n",
              " '__dir__',\n",
              " '__doc__',\n",
              " '__eq__',\n",
              " '__format__',\n",
              " '__ge__',\n",
              " '__getattribute__',\n",
              " '__getitem__',\n",
              " '__getnewargs__',\n",
              " '__gt__',\n",
              " '__hash__',\n",
              " '__init__',\n",
              " '__init_subclass__',\n",
              " '__iter__',\n",
              " '__le__',\n",
              " '__len__',\n",
              " '__lt__',\n",
              " '__mul__',\n",
              " '__ne__',\n",
              " '__new__',\n",
              " '__reduce__',\n",
              " '__reduce_ex__',\n",
              " '__repr__',\n",
              " '__rmul__',\n",
              " '__setattr__',\n",
              " '__sizeof__',\n",
              " '__str__',\n",
              " '__subclasshook__',\n",
              " 'count',\n",
              " 'index']"
            ]
          },
          "metadata": {},
          "execution_count": 10
        }
      ]
    },
    {
      "cell_type": "markdown",
      "metadata": {
        "id": "5PZL48D52yS1"
      },
      "source": [
        "# Diccionarios\n",
        "### Caracteristicas de los diccionarios\n",
        "\n",
        "- Agrupan datos pero de forma no lineal.\n",
        "- Se declaran con:\n",
        "  -{}\n",
        "  -dict()\n",
        "- Formado por pares del tipo llave: valor, dende:\n",
        "  - Llave es de tipo string (siempre)\n",
        "  - Valor puede ser de cualquier tipo de datos, incluyendo los diccionarios.\n",
        "- Se seleccionan con la llave de la forma : [\"id_llave\"]\n",
        "- Son mutables\n",
        "- Son anidables\n",
        "- Son equivalentes al tipo de dato JSON del lenguaje JavaScript (JS)"
      ]
    },
    {
      "cell_type": "code",
      "metadata": {
        "colab": {
          "base_uri": "https://localhost:8080/"
        },
        "id": "iXOeZTex34_V",
        "outputId": "ea24baa8-0b6b-4e25-efbb-0118b5d5d528"
      },
      "source": [
        "alumno= {\"nombre\": \"Jose\"}\n",
        "print(alumno)\n",
        "print(alumno['nombre'])\n",
        "alumno = {\"nombre\":\"Jose\", \"nc\":\"2129229292\", \"edad\": 18}\n",
        "print(alumno[\"edad\"])\n",
        "print(\"Edad del alumno =\",alumno[\"edad\"])\n",
        "print(alumno[\"nombre\"].upper())\n",
        "alumno2 = dict()# {}\n",
        "alumno2[\"nombre\"]=\"Jose\"\n",
        "print(alumno2)\n",
        "alumno2[\"nc\"]=\"2129229292\"\n",
        "alumno2[\"edad\"]= 18\n",
        "print(alumno2)\n",
        "alumno2[\"edad\"]= alumno2[\"edad\"] +1\n",
        "print(alumno2)\n"
      ],
      "execution_count": 11,
      "outputs": [
        {
          "output_type": "stream",
          "name": "stdout",
          "text": [
            "{'nombre': 'Jose'}\n",
            "Jose\n",
            "18\n",
            "Edad del alumno = 18\n",
            "JOSE\n",
            "{'nombre': 'Jose'}\n",
            "{'nombre': 'Jose', 'nc': '2129229292', 'edad': 18}\n",
            "{'nombre': 'Jose', 'nc': '2129229292', 'edad': 19}\n"
          ]
        }
      ]
    },
    {
      "cell_type": "code",
      "metadata": {
        "colab": {
          "base_uri": "https://localhost:8080/"
        },
        "id": "XcuO6EfB8SIG",
        "outputId": "385f5395-3515-4561-9778-f08c22f28b90"
      },
      "source": [
        "cliente= {\"id\":\"CT2121\",\n",
        "          \"nombre\":\"Jose Pedroza Rosales\",\n",
        "          \"telefono\":\"casa=554456565 cel= 0445567767\"}\n",
        "print(cliente)\n",
        "cliente = { \"id\":\"CT2121\" ,\n",
        "            \"nombre\" : {\n",
        "                \"nombres\" : [\"José\", \"Eduardo\"],\n",
        "                \"paterno\" : \"Pedroza\",\n",
        "                \"materno\" : \"Rosales\"\n",
        "            } ,\n",
        "            \"telefonos\" : {\n",
        "                \"casa\" : \"55-6632-4234\",\n",
        "                \"trabajo\":\"55-443-3232\" ,\n",
        "                \"celular\":\"044-55-234234\"\n",
        "            } ,\n",
        "           \"productos\":{\n",
        "               \"ahorro\":{ \"numero_cuenta\":\"7788\" , \"ahorro\": 2500.5 },\n",
        "               \"tarjetas\":[\n",
        "                            {\"tipo\":\"debito\" , \"saldo\" : 10000.5  },\n",
        "                            {\"tipo\":\"credito preferente\" , \"limite\":250000.5},\n",
        "                            {\"tipo\":\"lite\" , \"limite\": 15000.5 }\n",
        "                ]\n",
        "           },\n",
        "           \"direccion\":{\n",
        "               \"calle\":\"Av. central\",\n",
        "               \"numero\" : 1245,\n",
        "               \"colonia\" :\"Impulsora\",\n",
        "               \"delegacion\" :\"neza\",\n",
        "               \"estado\" : {\n",
        "                            \"clave\" : 15,\n",
        "                           \"nombre_corto\":\"EdoMex\",\n",
        "                           \"nombre\": \"Estado de México\"\n",
        "                            }\n",
        "           }\n",
        "\n",
        "            }\n",
        "print( cliente[\"telefonos\"][\"casa\"] )\n",
        "print(cliente)\n",
        "print(cliente[\"productos\"][\"ahorro\"][\"ahorro\"])\n",
        "print( cliente [\"productos\"][\"tarjetas\"][2][\"limite\"])\n",
        "print( cliente [\"direccion\"][\"estado\"][\"nombre\"].upper())\n",
        "cliente[\"productos\"][\"ahorro\"][\"ahorro\"]-= 1500.0\n",
        "print(cliente[\"productos\"])\n",
        "\n",
        "\n"
      ],
      "execution_count": 12,
      "outputs": [
        {
          "output_type": "stream",
          "name": "stdout",
          "text": [
            "{'id': 'CT2121', 'nombre': 'Jose Pedroza Rosales', 'telefono': 'casa=554456565 cel= 0445567767'}\n",
            "55-6632-4234\n",
            "{'id': 'CT2121', 'nombre': {'nombres': ['José', 'Eduardo'], 'paterno': 'Pedroza', 'materno': 'Rosales'}, 'telefonos': {'casa': '55-6632-4234', 'trabajo': '55-443-3232', 'celular': '044-55-234234'}, 'productos': {'ahorro': {'numero_cuenta': '7788', 'ahorro': 2500.5}, 'tarjetas': [{'tipo': 'debito', 'saldo': 10000.5}, {'tipo': 'credito preferente', 'limite': 250000.5}, {'tipo': 'lite', 'limite': 15000.5}]}, 'direccion': {'calle': 'Av. central', 'numero': 1245, 'colonia': 'Impulsora', 'delegacion': 'neza', 'estado': {'clave': 15, 'nombre_corto': 'EdoMex', 'nombre': 'Estado de México'}}}\n",
            "2500.5\n",
            "15000.5\n",
            "ESTADO DE MÉXICO\n",
            "{'ahorro': {'numero_cuenta': '7788', 'ahorro': 1000.5}, 'tarjetas': [{'tipo': 'debito', 'saldo': 10000.5}, {'tipo': 'credito preferente', 'limite': 250000.5}, {'tipo': 'lite', 'limite': 15000.5}]}\n"
          ]
        }
      ]
    },
    {
      "cell_type": "markdown",
      "metadata": {
        "id": "QfpUagGhMn4n"
      },
      "source": [
        "#Estructura de control de programación\n",
        "\n",
        "Se puede crear cualquier tipo de algoritmo empleando solamente 3 estructuras de control:\n",
        "\n",
        "1. Secuencia1:\n",
        "  - La representacion de la memoria de programa (Arquitectura Vonn Newman)\n",
        "\n",
        "2. Seleccion:\n",
        "  - Es la estructura de control que decide si un bloque de programa se ejecuta o no se ejecuta. Tambien permite seleccionar ejecutar un bloque entre un conjunto de opciones.\n",
        "  En resumen tenemos: Selección simple, selección con bifurcacion y selección multiple.\n",
        "\n",
        "3. Repeticion:\n",
        "  - Este tipo de estructura nos permite automatizar la ejecucion, repetitiva de código muientras ciertas condiciones se cumplan, tenemos tres variantes de esta estructura en todos los lenguajes de programación:\n",
        "    - Desde...Hasta (estructura for)\n",
        "    -haz mientras (estructura While)\n",
        "    -haz y luego validas mientras (estructura Do-While)"
      ]
    },
    {
      "cell_type": "code",
      "metadata": {
        "colab": {
          "base_uri": "https://localhost:8080/"
        },
        "id": "rVnq6cDAPcNt",
        "outputId": "e9d413c2-4103-4ba8-d305-c15cc575573e"
      },
      "source": [
        "# seleccion simple\n",
        "\n",
        "edad= int(input(\"Dame tu edad: \"))\n",
        "print (f\"Tecleaste {edad} años\")\n",
        "\n",
        "# if <CONDICION> :\n",
        "#    <Cuerpo del IF>\n",
        "##NOTA## Para establecer el cuerpo de una estructura de control en python\n",
        "#se usan los tabuladores a la izq.\n",
        "\n",
        "#En otros lenguajes de programacion como java, c y c++... se usan las llaves {}\n",
        "\"\"\"\n",
        "\n",
        "if edad= 0 :\n",
        "printf(\"Dame tu edad: \");\n",
        "scanf(\"%i\", &edad);\n",
        "if(edad >= 18){\n",
        "printf(\"Eres mayor de edad\")\n",
        "}\n",
        "printf(\"fin de programa\")\n",
        "\"\"\"\n",
        "\n",
        "if edad>= 18 :\n",
        "    print(\"Eres mayor de edad\")\n",
        "    print(\"algo\")\n",
        "print(\"\")\n",
        "print(\"fin de programa\")\n",
        "\n",
        "CAL= float(input(\"Dame tu calificacion: \"))\n",
        "if CAL>8 :\n",
        "    print(\"aprovado\")\n",
        "print(\"fin de programa\")\n"
      ],
      "execution_count": 16,
      "outputs": [
        {
          "output_type": "stream",
          "name": "stdout",
          "text": [
            "Dame tu edad: 18\n",
            "Tecleaste 18 años\n",
            "Eres mayor de edad\n",
            "algo\n",
            "\n",
            "fin de programa\n",
            "Dame tu calificacion: 8\n",
            "fin de programa\n"
          ]
        }
      ]
    },
    {
      "cell_type": "code",
      "metadata": {
        "colab": {
          "base_uri": "https://localhost:8080/"
        },
        "id": "1r9cHG8OX0dz",
        "outputId": "a72a6216-6d7c-4bfb-8315-8a205ed64b61"
      },
      "source": [
        "SUE= float(input(\"Dame tu sueldo: \"))\n",
        "if SUE<1000 :\n",
        "    AUM=SUE*.15\n",
        "    MSUE=SUE+AUM\n",
        "print(MSUE)\n",
        "print(\"fin de programa\")"
      ],
      "execution_count": 15,
      "outputs": [
        {
          "output_type": "stream",
          "name": "stdout",
          "text": [
            "Dame tu sueldo: 15\n",
            "17.25\n",
            "fin de programa\n"
          ]
        }
      ]
    },
    {
      "cell_type": "markdown",
      "metadata": {
        "id": "02UHB2uFGta2"
      },
      "source": [
        "#estructura de seleccion con bifurcacion (if-else)\n",
        "\n",
        "Esta esttructura, selecciona una de las dos opciones de ejecucion, se ejecuta un bloque si la condicion se cumple o se ejecuta otro bloque si la condicion no se cumple (else)\n",
        "\n",
        "```\n",
        "if<condicion> :\n",
        "  <bloque de ejecucion>\n",
        "else:\n",
        "  <bloque de ejecucion alterno>\n",
        "```"
      ]
    },
    {
      "cell_type": "code",
      "metadata": {
        "colab": {
          "base_uri": "https://localhost:8080/"
        },
        "id": "07XxzUYDF2yz",
        "outputId": "8e4d5957-68f6-43ee-d1ac-1c39ff1cd10e"
      },
      "source": [
        "edad = int(input(\"Dame tu edad: \"))\n",
        "print(f\"Tecleaste {edad} años\")\n",
        "if edad >= 18:\n",
        "    print(\"Eres mayor de edad, ten tú cheve\")\n",
        "else:\n",
        "    print(\"Eres menor de edad, ten tú boing\")\n",
        "print(\"fin del programa\")\n",
        "  "
      ],
      "execution_count": 17,
      "outputs": [
        {
          "output_type": "stream",
          "name": "stdout",
          "text": [
            "Dame tu edad: 19\n",
            "Tecleaste 19 años\n",
            "Eres mayor de edad, ten tú cheve\n",
            "fin del programa\n"
          ]
        }
      ]
    },
    {
      "cell_type": "code",
      "metadata": {
        "colab": {
          "base_uri": "https://localhost:8080/"
        },
        "id": "STmg8AERJK3P",
        "outputId": "2f373088-4ea9-4ffd-ba43-0a2e291303e1"
      },
      "source": [
        "edad = int(input(\"Dame tu edad: \"))\n",
        "dinero = float(input(\"cuanto tienes de dinero? \"))\n",
        "print(f\"Tecleaste {edad} años\")\n",
        "print(f\"Tecleaste {dinero} pesos\")\n",
        "if edad >= 18 and dinero >= 36:\n",
        "    print(\"Eres mayor de edad, ten tú cheve\")\n",
        "else:\n",
        "    print(\"Eres menor de edad, ten tú boing\")\n",
        "print(\"Fin de programa\")"
      ],
      "execution_count": 18,
      "outputs": [
        {
          "output_type": "stream",
          "name": "stdout",
          "text": [
            "Dame tu edad: 19\n",
            "cuanto tienes de dinero? 60\n",
            "Tecleaste 19 años\n",
            "Tecleaste 60.0 pesos\n",
            "Eres mayor de edad, ten tú cheve\n",
            "Fin de programa\n"
          ]
        }
      ]
    },
    {
      "cell_type": "code",
      "metadata": {
        "colab": {
          "base_uri": "https://localhost:8080/"
        },
        "id": "BsbzW68WKRZf",
        "outputId": "541c96ca-b57c-461d-966f-34fce0067fd3"
      },
      "source": [
        "edad = int (input(\"Dame tu edad:\"))\n",
        "dinero = int (input(\"¿Cuánto dinero tienes?\"))\n",
        "if edad >= 18:\n",
        "    if dinero >=35:\n",
        "        print(\"Eres mayor de edad y tienes dinero, ten tu cheve\")\n",
        "    else:\n",
        "        print(\"No tienes suficiente dinero\")\n",
        "else:\n",
        "    print(\"Eres menor de edad, ten tu Boing\")\n",
        "print(\"Fin del programa\")"
      ],
      "execution_count": 19,
      "outputs": [
        {
          "output_type": "stream",
          "name": "stdout",
          "text": [
            "Dame tu edad:19\n",
            "¿Cuánto dinero tienes?60\n",
            "Eres mayor de edad y tienes dinero, ten tu cheve\n",
            "Fin del programa\n"
          ]
        }
      ]
    },
    {
      "cell_type": "markdown",
      "metadata": {
        "id": "XzkGh0RQMzf0"
      },
      "source": [
        "El codigo anterior, se puede simplificar usando una palabra elif"
      ]
    },
    {
      "cell_type": "code",
      "metadata": {
        "id": "PTxOilDxNEWv",
        "colab": {
          "base_uri": "https://localhost:8080/"
        },
        "outputId": "aacbbabf-29f3-4c62-e389-bb84afaef9a3"
      },
      "source": [
        "edad = int(input(\"Dame tu edad: \"))\n",
        "dinero = float(input(\"Cuanto dinero tienes: \"))\n",
        "print(f\"Tecleaste {edad} años\")\n",
        "print(f\"Tecleaste {dinero} dinero\")\n",
        "if edad >= 18 :\n",
        "    if dinero >=36 :\n",
        "        print(\"Ten tu cheve\")\n",
        "    else:\n",
        "        print(\"tienes la edad pero no tienes dinero suficiente\")\n",
        "elif dinero >= 36 :\n",
        "    print(\"Tienes dinero suficiente pero no tienes la edad\")\n",
        "else:\n",
        "    print(\"No tienes la edad ni el dinero, ve a jugar roblox a tu casa\")"
      ],
      "execution_count": 22,
      "outputs": [
        {
          "output_type": "stream",
          "name": "stdout",
          "text": [
            "Dame tu edad: 19\n",
            "Cuanto dinero tienes: 60\n",
            "Tecleaste 19 años\n",
            "Tecleaste 60.0 dinero\n",
            "Ten tu cheve\n"
          ]
        }
      ]
    },
    {
      "cell_type": "code",
      "metadata": {
        "id": "fA3AvrvSOnyq",
        "colab": {
          "base_uri": "https://localhost:8080/"
        },
        "outputId": "067c6749-046f-4c57-d912-9310fe5795ca"
      },
      "source": [
        "CAL= float(input(\"Escribe tu calificiación: \"))\n",
        "if CAL >= 8 :\n",
        "    print(\"Aprobado\")\n",
        "else: \n",
        "    print(\"Reprobado\")"
      ],
      "execution_count": 23,
      "outputs": [
        {
          "output_type": "stream",
          "name": "stdout",
          "text": [
            "Escribe tu calificiación: 9\n",
            "Aprobado\n"
          ]
        }
      ]
    },
    {
      "cell_type": "code",
      "metadata": {
        "id": "eH1GMR2YPPHp",
        "colab": {
          "base_uri": "https://localhost:8080/"
        },
        "outputId": "f13eaba3-1240-4d1f-d461-b238293ae974"
      },
      "source": [
        "SUE=float(input(\"Dame tu sueldo: \"))\n",
        "if SUE<1000:\n",
        "    NSUE=SUE*1.15\n",
        "else:\n",
        "    NSUE=SUE*1.12\n",
        "print(f\"Tu nuevo sueldo es: {NSUE}\")"
      ],
      "execution_count": 24,
      "outputs": [
        {
          "output_type": "stream",
          "name": "stdout",
          "text": [
            "Dame tu sueldo: 1005\n",
            "Tu nuevo sueldo es: 1125.6000000000001\n"
          ]
        }
      ]
    },
    {
      "cell_type": "markdown",
      "metadata": {
        "id": "HLcD6hkXSEdg"
      },
      "source": [
        "# ejercicio if-else\n",
        "### Hacer un programa que solicite el dia de la semana, en un valor numerico entero del 1 al 7 (avisarle al usuario si propociono un valor fuera del rango).\n",
        "\n",
        "###posteriormente imprimira el dia de la semana correspondiente al numero capturado\n",
        "1 Lunes\n",
        "2. Martes\n",
        "3. Miercoles\n",
        "4. Jueves\n",
        "5. Viernes\n",
        "6. Sabado\n",
        "7. Domingo"
      ]
    },
    {
      "cell_type": "code",
      "metadata": {
        "colab": {
          "base_uri": "https://localhost:8080/"
        },
        "id": "QGf57-y_R9Of",
        "outputId": "cfc58440-3b60-427a-d4db-9ff1f07dcec6"
      },
      "source": [
        "dia=int(input(\"Dame el día de la semana del 1-7: \"))\n",
        "if dia is 1:\n",
        "    print(\"LUNES\")\n",
        "elif dia is 2:\n",
        "    print(\"MARTES\")\n",
        "elif dia is 3:\n",
        "    print(\"MIERCOLES\")\n",
        "elif dia is 4:\n",
        "    print(\"JUEVES\")\n",
        "elif dia is 5:\n",
        "    print(\"VIERNES\")\n",
        "elif dia is 6:\n",
        "    print(\"SÁBADO\")\n",
        "elif dia is 7:\n",
        "    print(\"DOMINGO\")\n",
        "else:\n",
        "    print(\"Debe ser un numero del 1 al 7, ingresa nuevamente\")"
      ],
      "execution_count": 31,
      "outputs": [
        {
          "output_type": "stream",
          "name": "stdout",
          "text": [
            "Dame el día de la semana del 1-7: 2\n",
            "MARTES\n"
          ]
        }
      ]
    },
    {
      "cell_type": "code",
      "metadata": {
        "colab": {
          "base_uri": "https://localhost:8080/"
        },
        "id": "ZSKIUrPnVVup",
        "outputId": "8d95b69d-d023-4640-8187-33bec8483b6a"
      },
      "source": [
        "dia= int(input(\"ingresa un numero entre 1 y 7 :\"))\n",
        "print(f\"capturaste el numero {dia}\")\n",
        "\n",
        "if dia >=1 and dia <= 7:\n",
        "    if dia == 1:\n",
        "        print(\"Lunes\")\n",
        "    else:\n",
        "        if dia == 2:\n",
        "            print(\"Martes\")\n",
        "        else:\n",
        "            if dia == 3 :\n",
        "                print(\"Miercoles\")\n",
        "            else:\n",
        "                if dia == 4 :\n",
        "                    print(\"Jueves\")\n",
        "                else:\n",
        "                    if dia == 5:\n",
        "                        print(\"Viernes\")\n",
        "                    else:\n",
        "                        if dia == 6 :\n",
        "                            print(\"Sabado\")\n",
        "                        else:\n",
        "                                print(\"Domingo\")\n",
        "else:\n",
        "    print(\"Ese numero no esta en el rango solicitado\")"
      ],
      "execution_count": 36,
      "outputs": [
        {
          "output_type": "stream",
          "name": "stdout",
          "text": [
            "ingresa un numero entre 1 y 7 :5\n",
            "capturaste el numero 5\n",
            "Viernes\n"
          ]
        }
      ]
    },
    {
      "cell_type": "markdown",
      "metadata": {
        "id": "4u3coePIbZ7v"
      },
      "source": [
        "#Seleccion multiple (switch)\n",
        "En python no existe la estructura de seleccion switch, en su lugar se emplea la palabra reservada \n",
        "\n",
        "## elif <condicion>:\n"
      ]
    },
    {
      "cell_type": "code",
      "metadata": {
        "colab": {
          "base_uri": "https://localhost:8080/"
        },
        "id": "RMLjKfHjcv0j",
        "outputId": "16ca4470-6336-4d15-86f8-00fbc32899a0"
      },
      "source": [
        "#ejemplo 2.7\n",
        "\n",
        "NUM= int(input(\"Dame un numero entre 1 y 3\"))\n",
        "V= float(input(\"Dame un valor float\"))\n",
        "VAL=0\n",
        "if NUM== 1:\n",
        "    VAL=100 * V\n",
        "elif NUM==2:\n",
        "    VAL==100 ** V\n",
        "elif NUM== 3 :\n",
        "    Val= 100/V\n",
        "else:\n",
        "    VAL= 0\n",
        "print(VAL)"
      ],
      "execution_count": 37,
      "outputs": [
        {
          "output_type": "stream",
          "name": "stdout",
          "text": [
            "Dame un numero entre 1 y 31\n",
            "Dame un valor float5\n",
            "500.0\n"
          ]
        }
      ]
    },
    {
      "cell_type": "code",
      "metadata": {
        "id": "udc_sHSyZieA"
      },
      "source": [
        ""
      ],
      "execution_count": null,
      "outputs": []
    }
  ]
}