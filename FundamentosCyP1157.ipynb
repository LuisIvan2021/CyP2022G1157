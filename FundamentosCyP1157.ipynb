{
  "nbformat": 4,
  "nbformat_minor": 0,
  "metadata": {
    "colab": {
      "name": "FundamentosCyP1157.ipynb",
      "provenance": [],
      "collapsed_sections": [],
      "authorship_tag": "ABX9TyNXLZkn/+VgA+TvM8D+RjGh",
      "include_colab_link": true
    },
    "kernelspec": {
      "name": "python3",
      "display_name": "Python 3"
    },
    "language_info": {
      "name": "python"
    }
  },
  "cells": [
    {
      "cell_type": "markdown",
      "metadata": {
        "id": "view-in-github",
        "colab_type": "text"
      },
      "source": [
        "<a href=\"https://colab.research.google.com/github/LuisIvan2021/CyP2022G1157/blob/main/FundamentosCyP1157.ipynb\" target=\"_parent\"><img src=\"https://colab.research.google.com/assets/colab-badge.svg\" alt=\"Open In Colab\"/></a>"
      ]
    },
    {
      "cell_type": "code",
      "metadata": {
        "colab": {
          "base_uri": "https://localhost:8080/"
        },
        "id": "xxjFXMJ8VfVX",
        "outputId": "25e393e2-c7c8-43e3-b6eb-274e7976a448"
      },
      "source": [
        "nombre= \"José\" #Tipo de dato string (cadena de caracteres)\n",
        "\n",
        "print(nombre)"
      ],
      "execution_count": null,
      "outputs": [
        {
          "output_type": "stream",
          "name": "stdout",
          "text": [
            "José\n"
          ]
        }
      ]
    },
    {
      "cell_type": "markdown",
      "metadata": {
        "id": "Yi40_wtaXM-7"
      },
      "source": [
        "# Tipos de datos en python\n",
        "### Tipos de datos simples\n",
        "- str --> String cadena de caractéres.\n",
        "- int --> Numeros enteros\n",
        "- float --> Numeros con notacion de punto flotante\n",
        "- complex --> Numeros complejos\n",
        "- bool --> Booleano ( True or False)\n",
        "- byte --> 8 bitd\n",
        "### Tipos de datos estructurados (compuestos)\n",
        "-list --> Listas (Arreglos en otros leng)\n",
        "- tuple --> Listas no mutables\n",
        "- dict --> Diccionarios\n",
        "- set y frozenset --> Conjuntos"
      ]
    },
    {
      "cell_type": "code",
      "metadata": {
        "colab": {
          "base_uri": "https://localhost:8080/"
        },
        "id": "EK7bKQgbaXMm",
        "outputId": "f07534ce-1346-4704-df33-93c028e7b169"
      },
      "source": [
        "import sys\n",
        "edad = 19\n",
        "print(\"Tu edad es: \",edad) # al final de una linea de código\n",
        "# este es un compentario de linea simple\n",
        "\n",
        "\"\"\"\n",
        "\n",
        "Comentario de multiple linea\n",
        "En lemguaje C, C++ y Java el comentario de multiple linea es con /* ... */\n",
        "\n",
        "En lenguaje C, C++ y Java el comentario de una sola linea es con: //\n",
        "\n",
        "\"\"\"\n",
        "# Tipos de datos numericos int y float\n",
        "\n",
        "print (sys.getsizeof(edad) )\n",
        "#el tipo de dato INT utiliza diferente cantidad de bits segun el leg\n",
        "# de prog. por ejemplo en C utiliza 16 bits.\n",
        "\n",
        "edad = edad + 1\n",
        "\n",
        "print( edad )\n",
        "\n",
        "estatura = 1.56\n",
        "print(estatura)\n",
        "print( sys.getsizeof(estatura))\n",
        "estatura = estatura + 0.1\n",
        "print(estatura)\n",
        "print( round(estatura,2))\n",
        "#RESTA\n",
        "\n",
        "edad+=1 #edad = edad +1\n",
        "print(\"Tu edad es: \",edad)\n",
        "\n",
        "edad-=1#edad = edad -1\n",
        "print(\"Tu edad es: \",edad)\n",
        "\n",
        "edad +=1\n",
        "edad/=2 #edad = edad /2\n",
        "print(\"La mitad de tu edad es: \",edad)\n",
        "\n",
        "edad =21\n",
        "#volver a calcular la mitad de la edad pero solo dejar la parte entera\n",
        "edad = edad //2\n",
        "print(\"La mitad de tu edad es: \",edad)\n",
        "\n",
        "#En la mayoria de los len no permite operaciones entre diferentes\n",
        "#tipos de datos, en python no es el caso\n",
        "#\n",
        "numero = edad /2.0\n",
        "print(numero)\n",
        "#\n",
        "numero *= 3\n",
        "print(numero)\n",
        "#\n",
        "numero = 5.0\n",
        "numero = numero **2\n",
        "print(numero)\n"
      ],
      "execution_count": null,
      "outputs": [
        {
          "output_type": "stream",
          "name": "stdout",
          "text": [
            "Tu edad es:  19\n",
            "28\n",
            "20\n",
            "1.56\n",
            "24\n",
            "1.6600000000000001\n",
            "1.66\n",
            "Tu edad es:  21\n",
            "Tu edad es:  20\n",
            "La mitad de tu edad es:  10.5\n",
            "La mitad de tu edad es:  10\n",
            "5.0\n",
            "15.0\n",
            "25.0\n",
            "10.5\n"
          ]
        }
      ]
    },
    {
      "cell_type": "code",
      "metadata": {
        "colab": {
          "base_uri": "https://localhost:8080/"
        },
        "id": "9ZC9U5cTlwdR",
        "outputId": "3d5d928a-e5a9-4af4-b0d7-cad0d67d9903"
      },
      "source": [
        "#operador modulo\n",
        "numero= 21\n",
        "print(numero /2)\n",
        "print(numero //2)\n",
        "\n",
        "# El operador modulo da como resultado el residuo de una division entera\n",
        "print(numero %2)\n",
        "\n",
        "numero = 24\n",
        "print(\"Residuo de 24/5: \",numero %5)\n",
        "#Operadores relacionales (logicos)\n",
        "print(\"24 es par:\", numero %2 == 0)\n",
        "#diferencia\n",
        "print(\"24 es diferente a 23 =\",numero != 23)\n",
        "\n",
        "print(\"24 es mayor o igual que 23: \",numero >=23)\n",
        "print(\"24 es mayor que 23: \",numero >23)\n",
        "print(\"24 es menor que 23: \",numero <23)\n",
        "\n",
        "print(\"24 es mayor o igual que 23: \",numero >=23)\n",
        "print(\"24 es menor o igual que 23: \",numero <=23)\n",
        "\n",
        "print(\"El tipo de dato de la variable numero es:\", type(numero))\n",
        "print(\"El tipo de dato de la variable numero /2.0 es:\", type(numero/2.0))"
      ],
      "execution_count": null,
      "outputs": [
        {
          "output_type": "stream",
          "name": "stdout",
          "text": [
            "10.5\n",
            "10\n",
            "1\n",
            "Residuo de 24/5:  4\n",
            "24 es par: True\n",
            "24 es diferente a 23 = True\n",
            "24 es mayor o igual que 23:  True\n",
            "24 es mayor que 23:  True\n",
            "24 es menor que 23:  False\n",
            "24 es mayor o igual que 23:  True\n",
            "24 es menor o igual que 23:  False\n",
            "El tipo de dato de la variable numero es: <class 'int'>\n",
            "El tipo de dato de la variable numero /2.0 es: <class 'float'>\n"
          ]
        }
      ]
    },
    {
      "cell_type": "markdown",
      "metadata": {
        "id": "QXDLo1Wnphom"
      },
      "source": [
        "# Tipo de dato String (str) en Python\n",
        "\n",
        "- se maneja como un arreglo ( tipo de dato compuesto)\n",
        "- Se puede acceder a los elemntos de el string por medio del indice del caracter\n",
        "- Es mutable\n",
        "- Tiene metodos utiles (potentes)\n",
        "- slicing"
      ]
    },
    {
      "cell_type": "code",
      "metadata": {
        "colab": {
          "base_uri": "https://localhost:8080/"
        },
        "id": "VR-aXFwQqFAA",
        "outputId": "ef07ea08-c964-4344-b466-1af44901873f"
      },
      "source": [
        "nombre = 'Jose'\n",
        "carrera = \"Ingenieria en computación\"\n",
        "frase = \"\"\" El conocimiento\n",
        "me persigue,...\n",
        "per\n",
        "yo soy más rápido\n",
        "\"\"\"\n",
        "print(nombre)\n",
        "print(carrera)\n",
        "print(frase)\n",
        "\n",
        "# La funcion type de Python te devuelve el tipo de dato de una variables\n",
        "print(type(nombre))\n",
        "print(nombre)\n",
        "\n",
        "paterno = str( \"Peréz\" )\n",
        "print(type(paterno))\n",
        "print(paterno)"
      ],
      "execution_count": null,
      "outputs": [
        {
          "output_type": "stream",
          "name": "stdout",
          "text": [
            "Jose\n",
            "Ingenieria en computación\n",
            " El conocimiento\n",
            "me persigue,...\n",
            "per\n",
            "yo soy más rápido\n",
            "\n",
            "<class 'str'>\n",
            "Jose\n",
            "<class 'str'>\n",
            "Perez\n"
          ]
        }
      ]
    },
    {
      "cell_type": "markdown",
      "metadata": {
        "id": "Scgt0oQLpJ3F"
      },
      "source": [
        "Una clase (class) es un tipo de dato\n",
        "compuesto"
      ]
    },
    {
      "cell_type": "code",
      "metadata": {
        "colab": {
          "base_uri": "https://localhost:8080/"
        },
        "id": "jiieZdPVpXmd",
        "outputId": "a4b93f09-b4c5-4f81-92af-4ed2f3b820b8"
      },
      "source": [
        "carrera = \"Ingenieria en computación\"\n",
        "print(carrera)\n",
        "print(carrera[2])"
      ],
      "execution_count": 2,
      "outputs": [
        {
          "output_type": "stream",
          "name": "stdout",
          "text": [
            "Ingenieria en computación\n",
            "g\n"
          ]
        }
      ]
    },
    {
      "cell_type": "markdown",
      "metadata": {
        "id": "1fRl8YfjrkX1"
      },
      "source": [
        "La sintaxis escrta para elegir un elemento de un grupo de datos se le llama selector.\n",
        "En el caso de String y listas (list) se usan los caracteres \"[ y ]\"\n",
        "1. En todos los lenguajes los arreglos inician en 0.\n",
        "2. En python no existe como tal el tipo de dato arreglo, el concepto es sustituido por las listas.\n",
        "3. Los string se comportan como un arreglo en la mayoria de los lenguajes.\n",
        "4. En python se acepta en indexado negativo, en otros lenguajes NO."
      ]
    },
    {
      "cell_type": "code",
      "metadata": {
        "colab": {
          "base_uri": "https://localhost:8080/"
        },
        "id": "Mwnavie9sgcV",
        "outputId": "a7b3517d-1659-4dc3-b4a4-3e855c960839"
      },
      "source": [
        "carrera = \"Ingeniería en computación\"\n",
        "print(carrera[8])\n",
        "print(carrera[24])\n",
        "print(carrera[-1])\n",
        "print(carrera[-25])\n",
        "\n",
        "\n",
        "# Adelantandp el tema ciclo FOR\n",
        "\n",
        "for letra in carrera:\n",
        "   print(\"-->\",letra,\"<--\")\n",
        "\n"
      ],
      "execution_count": 12,
      "outputs": [
        {
          "output_type": "stream",
          "name": "stdout",
          "text": [
            "í\n",
            "n\n",
            "n\n",
            "I\n",
            "--> I <--\n",
            "--> n <--\n",
            "--> g <--\n",
            "--> e <--\n",
            "--> n <--\n",
            "--> i <--\n",
            "--> e <--\n",
            "--> r <--\n",
            "--> í <--\n",
            "--> a <--\n",
            "-->   <--\n",
            "--> e <--\n",
            "--> n <--\n",
            "-->   <--\n",
            "--> c <--\n",
            "--> o <--\n",
            "--> m <--\n",
            "--> p <--\n",
            "--> u <--\n",
            "--> t <--\n",
            "--> a <--\n",
            "--> c <--\n",
            "--> i <--\n",
            "--> ó <--\n",
            "--> n <--\n"
          ]
        }
      ]
    },
    {
      "cell_type": "markdown",
      "metadata": {
        "id": "78DYaNZMu5Rd"
      },
      "source": [
        "# Slicing (rebanado de cadenas)\n",
        "\n",
        "Permite seleccionar subcadenas con el operador\n",
        "###[inicio>:stop:<incremento]\n",
        "El stop no se incluye, es por eso que debemos poner una posicion extra\n",
        "\n",
        "### Slicing y calores por defecto\n",
        "\n",
        "inicio por defevto siempre sera 0\n",
        "stop: tamaño del arreglo (indexado positivo)\n",
        "0 (en un indexado negativo)\n",
        "Incremento: es 1 (indexado positivo)"
      ]
    },
    {
      "cell_type": "markdown",
      "metadata": {
        "id": "Ve3zm-jfsfzt"
      },
      "source": [
        ""
      ]
    },
    {
      "cell_type": "code",
      "metadata": {
        "colab": {
          "base_uri": "https://localhost:8080/"
        },
        "id": "KkFTzZ8LveQC",
        "outputId": "6e525232-ae73-434b-f129-196cff617179"
      },
      "source": [
        "carrera = \"Ingeniería en computación\"\n",
        "print(carrera[0:10:1])\n",
        "print(carrera[14:25:1])\n",
        "\n",
        "#Solucion con valores por defecto\n",
        "\n",
        "print(carrera[:10:])\n",
        "print(carrera[14:25:])\n",
        "print(carrera[-11::])\n",
        "\n",
        "# un ejecicio mas para ver incremento\n",
        "\n",
        "print(carrera[0:10:2])\n",
        "print(carrera[-1:-12:-1])\n",
        "print(carrera[-1:-12:-2])"
      ],
      "execution_count": 40,
      "outputs": [
        {
          "output_type": "stream",
          "name": "stdout",
          "text": [
            "Ingeniería\n",
            "computación\n",
            "Ingeniería\n",
            "computación\n",
            "computación\n",
            "Igneí\n",
            "nóicatupmoc\n",
            "nóicatupmoc\n",
            "niaumc\n"
          ]
        }
      ]
    },
    {
      "cell_type": "markdown",
      "metadata": {
        "id": "047W_1E30lRK"
      },
      "source": [
        "# String y sus metodos\n",
        "# Todos los tipos de datos en pythom som objetos (CLASES de la Progra.Orien.Obj.)\n",
        "## Lo cual significa que tienen atricutos y metodos.\n",
        "## dir() y help() funciones para obtener ayuda del lenguaje python\n",
        "\n",
        "### dir muestra las funciones de un tipo de dato como resumen.\n",
        "\n",
        "### help muestra la misma suma pero a detalle\n",
        "Metodos que inician con doble guion bajo son privados de uno interno de modo que no deberiamos usarlos.\n",
        "Todos los demas son para uso exterior (usuario)"
      ]
    },
    {
      "cell_type": "code",
      "metadata": {
        "colab": {
          "base_uri": "https://localhost:8080/"
        },
        "id": "B2fF5rFh06cb",
        "outputId": "a83b0156-ba57-4438-a7ec-2479d3efa7d7"
      },
      "source": [
        "frutas= \"  limon , fresa, manzana  , aguacate  \"\n",
        "nombre= \"jose\"\n",
        "print(frutas)\n",
        "\n",
        "print(nombre.capitalize())\n",
        "print(nombre.upper())\n",
        "print(frutas.replace(\"a\",\"4\"))\n",
        "print(frutas.replace(\"a\",\"4\").replace(\"e\",\"3\"))\n",
        "print(frutas.replace(\"a\",\"4\").upper())\n",
        "\n",
        "frutas1=frutas.replace(\"a\",\"4\").replace(\"e\",\"3\")\n",
        "print(frutas1)\n",
        "print(frutas.strip())\n",
        "print(frutas.split())\n",
        "print(frutas.split(\",\"))\n",
        "print(frutas.index(\"n\"))\n",
        "dir(frutas)"
      ],
      "execution_count": 65,
      "outputs": [
        {
          "output_type": "stream",
          "name": "stdout",
          "text": [
            "  limon , fresa, manzana  , aguacate  \n",
            "Jose\n",
            "JOSE\n",
            "  limon , fres4, m4nz4n4  , 4gu4c4te  \n",
            "  limon , fr3s4, m4nz4n4  , 4gu4c4t3  \n",
            "  LIMON , FRES4, M4NZ4N4  , 4GU4C4TE  \n",
            "  limon , fr3s4, m4nz4n4  , 4gu4c4t3  \n",
            "limon , fresa, manzana  , aguacate\n",
            "['limon', ',', 'fresa,', 'manzana', ',', 'aguacate']\n",
            "['  limon ', ' fresa', ' manzana  ', ' aguacate  ']\n",
            "6\n"
          ]
        },
        {
          "output_type": "execute_result",
          "data": {
            "text/plain": [
              "['__add__',\n",
              " '__class__',\n",
              " '__contains__',\n",
              " '__delattr__',\n",
              " '__dir__',\n",
              " '__doc__',\n",
              " '__eq__',\n",
              " '__format__',\n",
              " '__ge__',\n",
              " '__getattribute__',\n",
              " '__getitem__',\n",
              " '__getnewargs__',\n",
              " '__gt__',\n",
              " '__hash__',\n",
              " '__init__',\n",
              " '__init_subclass__',\n",
              " '__iter__',\n",
              " '__le__',\n",
              " '__len__',\n",
              " '__lt__',\n",
              " '__mod__',\n",
              " '__mul__',\n",
              " '__ne__',\n",
              " '__new__',\n",
              " '__reduce__',\n",
              " '__reduce_ex__',\n",
              " '__repr__',\n",
              " '__rmod__',\n",
              " '__rmul__',\n",
              " '__setattr__',\n",
              " '__sizeof__',\n",
              " '__str__',\n",
              " '__subclasshook__',\n",
              " 'capitalize',\n",
              " 'casefold',\n",
              " 'center',\n",
              " 'count',\n",
              " 'encode',\n",
              " 'endswith',\n",
              " 'expandtabs',\n",
              " 'find',\n",
              " 'format',\n",
              " 'format_map',\n",
              " 'index',\n",
              " 'isalnum',\n",
              " 'isalpha',\n",
              " 'isascii',\n",
              " 'isdecimal',\n",
              " 'isdigit',\n",
              " 'isidentifier',\n",
              " 'islower',\n",
              " 'isnumeric',\n",
              " 'isprintable',\n",
              " 'isspace',\n",
              " 'istitle',\n",
              " 'isupper',\n",
              " 'join',\n",
              " 'ljust',\n",
              " 'lower',\n",
              " 'lstrip',\n",
              " 'maketrans',\n",
              " 'partition',\n",
              " 'replace',\n",
              " 'rfind',\n",
              " 'rindex',\n",
              " 'rjust',\n",
              " 'rpartition',\n",
              " 'rsplit',\n",
              " 'rstrip',\n",
              " 'split',\n",
              " 'splitlines',\n",
              " 'startswith',\n",
              " 'strip',\n",
              " 'swapcase',\n",
              " 'title',\n",
              " 'translate',\n",
              " 'upper',\n",
              " 'zfill']"
            ]
          },
          "metadata": {},
          "execution_count": 65
        }
      ]
    },
    {
      "cell_type": "code",
      "metadata": {
        "id": "3u_JsRdo4DSH"
      },
      "source": [
        "help(str)"
      ],
      "execution_count": null,
      "outputs": []
    },
    {
      "cell_type": "markdown",
      "metadata": {
        "id": "mlq7WexT8fTj"
      },
      "source": [
        "# String y caracteres de escape\n",
        "\n",
        "\"Jose\"\n",
        "- \\\" -->\"\n",
        "- \\' --> '\n",
        "- \\n --> salto de linea (enter)\n",
        "- \\t --> tabulador spacios a la izq.\n",
        "- \\uxxxx --> caracter unicode\n",
        "- \\Uxxxxxxxx --> unicode extendido"
      ]
    },
    {
      "cell_type": "code",
      "metadata": {
        "colab": {
          "base_uri": "https://localhost:8080/"
        },
        "id": "7CT3z9gk85o5",
        "outputId": "9d92038c-a937-43c9-d9d7-fd8ce4aafee5"
      },
      "source": [
        "print(\" \\\"jose\\\"\")\n",
        "nombre= \" \\\"jose\\\"\"\n",
        "carrera = \"Ingeniería \\n\\ten \\n\\t\\tcomputación\"\n",
        "print(carrera)"
      ],
      "execution_count": 67,
      "outputs": [
        {
          "output_type": "stream",
          "name": "stdout",
          "text": [
            " \"jose\"\n",
            "Ingeniería \n",
            "\ten \n",
            "\t\tcomputación\n"
          ]
        }
      ]
    }
  ]
}