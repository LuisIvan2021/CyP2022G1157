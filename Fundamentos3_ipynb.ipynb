{
  "nbformat": 4,
  "nbformat_minor": 0,
  "metadata": {
    "colab": {
      "name": "Fundamentos3.ipynb.ipynb",
      "provenance": [],
      "collapsed_sections": [],
      "authorship_tag": "ABX9TyMfzyElBJV4O1C+65c4hmwj",
      "include_colab_link": true
    },
    "kernelspec": {
      "name": "python3",
      "display_name": "Python 3"
    },
    "language_info": {
      "name": "python"
    }
  },
  "cells": [
    {
      "cell_type": "markdown",
      "metadata": {
        "id": "view-in-github",
        "colab_type": "text"
      },
      "source": [
        "<a href=\"https://colab.research.google.com/github/LuisIvan2021/CyP2022G1157/blob/main/Fundamentos3_ipynb.ipynb\" target=\"_parent\"><img src=\"https://colab.research.google.com/assets/colab-badge.svg\" alt=\"Open In Colab\"/></a>"
      ]
    },
    {
      "cell_type": "markdown",
      "metadata": {
        "id": "_wMzTZiPFjxr"
      },
      "source": [
        " Repetición:\n",
        "  - Este tipo de estructura nos permite automatizar la ejecucion, repetitiva de código muientras ciertas condiciones se cumplan, tenemos tres variantes de esta estructura en todos los lenguajes de programación:\n",
        "    - Desde...Hasta (estructura for)\n",
        "    - haz mientras (estructura While)\n",
        "    - haz y luego validas mientras (estructura Do-While)\n",
        "\n",
        "#FOR CON PYTHON\n",
        "\n",
        "```\n",
        "for j in range(10):\n",
        "    print(f\"hola {j})\n",
        "```\n",
        "# FOR CON LENG C Y/O JAVA\n",
        "```\n",
        "for( int j=0 ; j<10 ; j=j+1){\n",
        "  printf(\"hola &i \\n\", j);\n",
        "```\n",
        "\n",
        "En todos los lenguajes de programacion existe un tipo especial de for, conocido como **for-each**\n",
        "\n",
        "# FOR-each en python\n",
        "```\n",
        "for color in colores:\n",
        "    print(f\"este es el color {color}\")\n",
        "```"
      ]
    },
    {
      "cell_type": "code",
      "metadata": {
        "colab": {
          "base_uri": "https://localhost:8080/"
        },
        "id": "52Oy0RphFRPF",
        "outputId": "f4ff0f3f-780a-47ae-d079-2fc92beb8798"
      },
      "source": [
        "# funcion range()\n",
        "#range(<INICIO>,<STOP>,<INCREMENTO>)\n",
        "x= range(0,10,2)\n",
        "print(x)\n",
        "\n",
        "\n",
        "for j in range(10): #range(0,10)--> 0,1,2,3,4,5,6,7,8,9\n",
        "    print(f\"hola {j}\")\n",
        "print(\"----------\")\n",
        "for j in range(0,10,2): #range(0,10)--> 0,2,4,6,8\n",
        "    print(f\"hola {j}\")\n",
        "\n",
        "frutas = [\"Uva\",\"aguacate\",\"pera\",\"manzana\",\"sandia\"]\n",
        "\n",
        "print(frutas[0])\n",
        "print(frutas[1])\n",
        "print(frutas[2])\n",
        "print(frutas[3])\n",
        "print(frutas[4])\n",
        "\n",
        "print(\"_--------\")\n",
        "for index in range(5):\n",
        "    print(frutas[index])"
      ],
      "execution_count": null,
      "outputs": [
        {
          "output_type": "stream",
          "name": "stdout",
          "text": [
            "range(0, 10, 2)\n",
            "hola 0\n",
            "hola 1\n",
            "hola 2\n",
            "hola 3\n",
            "hola 4\n",
            "hola 5\n",
            "hola 6\n",
            "hola 7\n",
            "hola 8\n",
            "hola 9\n",
            "----------\n",
            "hola 0\n",
            "hola 2\n",
            "hola 4\n",
            "hola 6\n",
            "hola 8\n",
            "Uva\n",
            "aguacate\n",
            "pera\n",
            "manzana\n",
            "sandia\n",
            "_--------\n",
            "Uva\n",
            "aguacate\n",
            "pera\n",
            "manzana\n",
            "sandia\n"
          ]
        }
      ]
    },
    {
      "cell_type": "markdown",
      "metadata": {
        "id": "7sHWmL13LTvX"
      },
      "source": [
        ""
      ]
    },
    {
      "cell_type": "code",
      "metadata": {
        "colab": {
          "base_uri": "https://localhost:8080/"
        },
        "id": "SUuoKHFxLZ1s",
        "outputId": "e0a29a02-8b4e-40fd-a198-649be82a6bc6"
      },
      "source": [
        "for i in range(5):\n",
        "    print(\"+++++\")"
      ],
      "execution_count": null,
      "outputs": [
        {
          "output_type": "stream",
          "name": "stdout",
          "text": [
            "+++++\n",
            "+++++\n",
            "+++++\n",
            "+++++\n",
            "+++++\n"
          ]
        }
      ]
    },
    {
      "cell_type": "code",
      "metadata": {
        "colab": {
          "base_uri": "https://localhost:8080/"
        },
        "id": "IJGiT74PLzvq",
        "outputId": "5d15a3d9-df7f-4a26-af8f-2a9eb17c7416"
      },
      "source": [
        "for x in range(1, 20, 1):\n",
        "    print(x)\n",
        "print(\"fin del programa\")\n",
        "\n",
        "for x in range(19, 0, -1):\n",
        "    print(x)\n",
        "print(\"fin del programa\")"
      ],
      "execution_count": null,
      "outputs": [
        {
          "output_type": "stream",
          "name": "stdout",
          "text": [
            "1\n",
            "2\n",
            "3\n",
            "4\n",
            "5\n",
            "6\n",
            "7\n",
            "8\n",
            "9\n",
            "10\n",
            "11\n",
            "12\n",
            "13\n",
            "14\n",
            "15\n",
            "16\n",
            "17\n",
            "18\n",
            "19\n",
            "fin del programa\n",
            "19\n",
            "18\n",
            "17\n",
            "16\n",
            "15\n",
            "14\n",
            "13\n",
            "12\n",
            "11\n",
            "10\n",
            "9\n",
            "8\n",
            "7\n",
            "6\n",
            "5\n",
            "4\n",
            "3\n",
            "2\n",
            "1\n",
            "fin del programa\n"
          ]
        }
      ]
    },
    {
      "cell_type": "code",
      "metadata": {
        "colab": {
          "base_uri": "https://localhost:8080/"
        },
        "id": "5nqsBH2qNv7J",
        "outputId": "5bcf4420-5a93-4cd9-a220-c869f3044526"
      },
      "source": [
        "#EJEMPLO 1\n",
        "CUECER =0\n",
        "NUM= 0\n",
        "N= int(input(\"un valor numerico mayor que 1: \"))\n",
        "for i in range( 1, N+1,1 ):\n",
        "    N= int(input(\"un valor numerico: \"))\n",
        "    if N == 0:\n",
        "        CUECER += 1\n",
        "\n",
        "print(\"CUECER\", CUECER)"
      ],
      "execution_count": null,
      "outputs": [
        {
          "output_type": "stream",
          "name": "stdout",
          "text": [
            "un valor numerico mayor que 1: 4\n",
            "un valor numerico mayor que 1: 0\n",
            "un valor numerico mayor que 1: 0\n",
            "un valor numerico mayor que 1: 2\n",
            "un valor numerico mayor que 1: 2\n",
            "CUECER 2\n"
          ]
        }
      ]
    },
    {
      "cell_type": "code",
      "metadata": {
        "colab": {
          "base_uri": "https://localhost:8080/"
        },
        "id": "4N3XTo4KRXG-",
        "outputId": "8125b880-3a8d-4819-c60a-3651bc38de2d"
      },
      "source": [
        "n=7\n",
        "for i in range(1,11,1):\n",
        "    x=n*i\n",
        "    print(f\"{n} x {i} = {x}\")"
      ],
      "execution_count": null,
      "outputs": [
        {
          "output_type": "stream",
          "name": "stdout",
          "text": [
            "7 x 1 = 7\n",
            "7 x 2 = 14\n",
            "7 x 3 = 21\n",
            "7 x 4 = 28\n",
            "7 x 5 = 35\n",
            "7 x 6 = 42\n",
            "7 x 7 = 49\n",
            "7 x 8 = 56\n",
            "7 x 9 = 63\n",
            "7 x 10 = 70\n"
          ]
        }
      ]
    },
    {
      "cell_type": "markdown",
      "metadata": {
        "id": "1H20dhLnR5qo"
      },
      "source": [
        "Dame un numero entre 1 y 5\n",
        "Dame un numero entre 2 y 5\n",
        "10"
      ]
    },
    {
      "cell_type": "code",
      "metadata": {
        "colab": {
          "base_uri": "https://localhost:8080/"
        },
        "id": "yLyPODgBR_dl",
        "outputId": "d80fd993-085a-49b3-9ad8-de93f1f2d653"
      },
      "source": [
        "NUM1=int(input(\"dame un numero entre uno y cinco: \"))\n",
        "NUM2= int(input(f\"dame un numero entre {NUM1} y 10: \"))\n",
        "if 1<NUM1>5 or NUM1<NUM2>10:\n",
        "    print(\"escribe valores en los rangos\")\n",
        "\n",
        "for y in range(NUM1,NUM2+1,1):\n",
        "    for x in range(1,11,1):\n",
        "        print(y,\"x\",x,\"=\", y*x)\n",
        "    for x in range(1,11,1):\n",
        "        print(y,\"x\",x,\"=\", y*x)"
      ],
      "execution_count": null,
      "outputs": [
        {
          "output_type": "stream",
          "name": "stdout",
          "text": [
            "dame un numero entre uno y cinco: 2\n",
            "dame un numero entre 2 y 10: 5\n",
            "2 x 1 = 2\n",
            "2 x 2 = 4\n",
            "2 x 3 = 6\n",
            "2 x 4 = 8\n",
            "2 x 5 = 10\n",
            "2 x 6 = 12\n",
            "2 x 7 = 14\n",
            "2 x 8 = 16\n",
            "2 x 9 = 18\n",
            "2 x 10 = 20\n",
            "2 x 1 = 2\n",
            "2 x 2 = 4\n",
            "2 x 3 = 6\n",
            "2 x 4 = 8\n",
            "2 x 5 = 10\n",
            "2 x 6 = 12\n",
            "2 x 7 = 14\n",
            "2 x 8 = 16\n",
            "2 x 9 = 18\n",
            "2 x 10 = 20\n",
            "3 x 1 = 3\n",
            "3 x 2 = 6\n",
            "3 x 3 = 9\n",
            "3 x 4 = 12\n",
            "3 x 5 = 15\n",
            "3 x 6 = 18\n",
            "3 x 7 = 21\n",
            "3 x 8 = 24\n",
            "3 x 9 = 27\n",
            "3 x 10 = 30\n",
            "3 x 1 = 3\n",
            "3 x 2 = 6\n",
            "3 x 3 = 9\n",
            "3 x 4 = 12\n",
            "3 x 5 = 15\n",
            "3 x 6 = 18\n",
            "3 x 7 = 21\n",
            "3 x 8 = 24\n",
            "3 x 9 = 27\n",
            "3 x 10 = 30\n",
            "4 x 1 = 4\n",
            "4 x 2 = 8\n",
            "4 x 3 = 12\n",
            "4 x 4 = 16\n",
            "4 x 5 = 20\n",
            "4 x 6 = 24\n",
            "4 x 7 = 28\n",
            "4 x 8 = 32\n",
            "4 x 9 = 36\n",
            "4 x 10 = 40\n",
            "4 x 1 = 4\n",
            "4 x 2 = 8\n",
            "4 x 3 = 12\n",
            "4 x 4 = 16\n",
            "4 x 5 = 20\n",
            "4 x 6 = 24\n",
            "4 x 7 = 28\n",
            "4 x 8 = 32\n",
            "4 x 9 = 36\n",
            "4 x 10 = 40\n",
            "5 x 1 = 5\n",
            "5 x 2 = 10\n",
            "5 x 3 = 15\n",
            "5 x 4 = 20\n",
            "5 x 5 = 25\n",
            "5 x 6 = 30\n",
            "5 x 7 = 35\n",
            "5 x 8 = 40\n",
            "5 x 9 = 45\n",
            "5 x 10 = 50\n",
            "5 x 1 = 5\n",
            "5 x 2 = 10\n",
            "5 x 3 = 15\n",
            "5 x 4 = 20\n",
            "5 x 5 = 25\n",
            "5 x 6 = 30\n",
            "5 x 7 = 35\n",
            "5 x 8 = 40\n",
            "5 x 9 = 45\n",
            "5 x 10 = 50\n"
          ]
        }
      ]
    },
    {
      "cell_type": "code",
      "metadata": {
        "id": "2ZEEMLukWVHA"
      },
      "source": [
        ""
      ],
      "execution_count": null,
      "outputs": []
    },
    {
      "cell_type": "code",
      "metadata": {
        "colab": {
          "base_uri": "https://localhost:8080/"
        },
        "id": "XaxYoupHWa1p",
        "outputId": "6c2a22a7-7ad6-4ec3-b550-1b7e38a95f6e"
      },
      "source": [
        "N1 = int(input(\"Dame un numero entre 1 y 5: \"))\n",
        "if N1 > 0 and N1 <= 5:\n",
        "    N2= int(input(f\"dame un numero entre {N1} y 10\"))\n",
        "    if N2 >= N1 and N2 <= 10:\n",
        "        for i in range(N1, N2+1):\n",
        "            for j in range(1,11):\n",
        "                print(f\"{i} x {j}= \", i*j)\n",
        "                print(\"-------\")\n",
        "else:\n",
        "    print(\"valor fuera de rango 1-5\")"
      ],
      "execution_count": null,
      "outputs": [
        {
          "output_type": "stream",
          "name": "stdout",
          "text": [
            "Dame un numero entre 1 y 5: 5\n",
            "dame un numero entre 5 y 106\n",
            "5 x 1=  5\n",
            "-------\n",
            "5 x 2=  10\n",
            "-------\n",
            "5 x 3=  15\n",
            "-------\n",
            "5 x 4=  20\n",
            "-------\n",
            "5 x 5=  25\n",
            "-------\n",
            "5 x 6=  30\n",
            "-------\n",
            "5 x 7=  35\n",
            "-------\n",
            "5 x 8=  40\n",
            "-------\n",
            "5 x 9=  45\n",
            "-------\n",
            "5 x 10=  50\n",
            "-------\n",
            "6 x 1=  6\n",
            "-------\n",
            "6 x 2=  12\n",
            "-------\n",
            "6 x 3=  18\n",
            "-------\n",
            "6 x 4=  24\n",
            "-------\n",
            "6 x 5=  30\n",
            "-------\n",
            "6 x 6=  36\n",
            "-------\n",
            "6 x 7=  42\n",
            "-------\n",
            "6 x 8=  48\n",
            "-------\n",
            "6 x 9=  54\n",
            "-------\n",
            "6 x 10=  60\n",
            "-------\n"
          ]
        }
      ]
    },
    {
      "cell_type": "code",
      "metadata": {
        "colab": {
          "base_uri": "https://localhost:8080/"
        },
        "id": "mTIKO8z0XoCg",
        "outputId": "5688b2f8-1b52-4712-90ee-5f45f49ac729"
      },
      "source": [
        "SUM = 0\n",
        "edades = [0 for x in range(5)]\n",
        "for x in range(5):\n",
        "    edades[x]= int(input(\"Introduce una edad: \"))\n",
        "    SUM = SUM + edades[x]\n",
        "    PROM = SUM/5\n",
        "print(edades)\n",
        "print(\"El promedio de edades es: \", PROM)"
      ],
      "execution_count": null,
      "outputs": [
        {
          "output_type": "stream",
          "name": "stdout",
          "text": [
            "Introduce una edad: 5\n",
            "Introduce una edad: 5\n",
            "Introduce una edad: 5\n",
            "Introduce una edad: 5\n",
            "Introduce una edad: 5\n",
            "[5, 5, 5, 5, 5]\n",
            "El promedio de edades es:  5.0\n"
          ]
        }
      ]
    },
    {
      "cell_type": "code",
      "metadata": {
        "id": "shdlllWHebEU"
      },
      "source": [
        "import random\n",
        "print(random.random())\n",
        "print(random.uniform(5,11))\n",
        "val = round(random.uniform(5,11) , 2)\n",
        "print(val)\n",
        "\n",
        "valores = [round(random.uniform(5,11),2) for x in range(20)]\n",
        "print(valores)"
      ],
      "execution_count": null,
      "outputs": []
    },
    {
      "cell_type": "markdown",
      "metadata": {
        "id": "mlkxDtHN54fS"
      },
      "source": [
        "#Estructura de control de repeticion haz-mientras\n",
        "\n",
        "## Una estructura de control haz-mientras nos permite ejecutar repetidamente mientras una condicion se siga cumpliendo.\n",
        "Sintaxis\n",
        "```\n",
        "while <condicion>\n",
        "    <Bloque de sentencia a ejecutar repetidamente>\n",
        "<siguiente sentencia posterior a while>\n",
        "```\n",
        "##La diferencia principal en comparación con la estructura for es que con WHILE no conoces el numero de ciclos a ejecutar, en for si se conoce.\n",
        "###Cómo ejemplo iniciemos con el siguiente enunciado.\n",
        "hacer un programa que solicite un valor entero positivo y calcule repetidamente la mitad y se reasigne a la misma variable. El ciclo se debe de detener cuando el resultado sea menor que 1\n",
        "mostrar en pantalla el resultado de cada calculo y en final el numero de iteraciones que realizó.\n"
      ]
    },
    {
      "cell_type": "code",
      "metadata": {
        "colab": {
          "base_uri": "https://localhost:8080/"
        },
        "id": "5y_Z80wU7uoy",
        "outputId": "0362bc8e-9b10-4d19-d88f-69997aa7b8b8"
      },
      "source": [
        "valor = int( input(\"introduce un numero entero positivo\"))\n",
        "contador = 0\n",
        "if valor > 0:\n",
        "    while valor > 1:\n",
        "        valor = valor/2\n",
        "        print(round(valor,2))\n",
        "        contador += 1\n",
        "else:\n",
        "    print(\"el numero es negativo, intena de nuevi\")\n",
        "print(\"Total de interacciones= \",contador)"
      ],
      "execution_count": 1,
      "outputs": [
        {
          "output_type": "stream",
          "name": "stdout",
          "text": [
            "introduce un numero entero positivo4\n",
            "2.0\n",
            "1.0\n",
            "Total de interacciones=  2\n"
          ]
        }
      ]
    },
    {
      "cell_type": "code",
      "metadata": {
        "colab": {
          "base_uri": "https://localhost:8080/"
        },
        "id": "0qE_-luT8vW8",
        "outputId": "849d9723-ab3d-4e97-ae7e-c60ea41b86e3"
      },
      "source": [
        "valor = int( input(\"Dame un numero entero:\"))\n",
        "\n",
        "while valor != 0:\n",
        "    print(valor)\n",
        "    valor = int( input(\"Dame un numero entero:\"))\n",
        "print(\"fin del programa\")"
      ],
      "execution_count": 6,
      "outputs": [
        {
          "output_type": "stream",
          "name": "stdout",
          "text": [
            "Dame un numero entero:2\n",
            "2\n",
            "Dame un numero entero:0\n",
            "fin del programa\n"
          ]
        }
      ]
    },
    {
      "cell_type": "code",
      "metadata": {
        "id": "tgBPn74S9Vm2"
      },
      "source": [
        "valor = int( input(\"Dame un numero entero:\"))\n",
        "while valor != 0:\n",
        "    print(valor)\n",
        "    print(\"otras cosas\")\n",
        "print(\"fin de programa\")"
      ],
      "execution_count": null,
      "outputs": []
    },
    {
      "cell_type": "markdown",
      "metadata": {
        "id": "qPoh-_Y3_ot4"
      },
      "source": [
        "escribe un programa que permite generar la tabla de multiplicar de un numero positivo N, comenzando desde 1.\n",
        "Si el usuario escribe un numero incorrecto, el programa no se ejecuta. En cambio se pregunta de nuevo por la info\n",
        "hasta que el dato ingresado sea el correcto."
      ]
    },
    {
      "cell_type": "code",
      "metadata": {
        "colab": {
          "base_uri": "https://localhost:8080/"
        },
        "id": "A3C9d_0E_nTo",
        "outputId": "4a19ad20-c185-49ce-bf9e-882e6f32d14d"
      },
      "source": [
        "N= int(input(\"Ingrese un numero entero positivo: \"))\n",
        "\n",
        "if N > 0:\n",
        "    print(\"Es correcto\")\n",
        "    for i in range (1, 11):\n",
        "        print(N,\"x\",i,\"es igual a:\",N*i)\n",
        "else:\n",
        "    print(\"El numero ingresado no es correcto\")"
      ],
      "execution_count": 10,
      "outputs": [
        {
          "output_type": "stream",
          "name": "stdout",
          "text": [
            "Ingrese un numero entero positivo: 2\n",
            "Es correcto\n",
            "2 x 1 es igual a: 2\n",
            "2 x 2 es igual a: 4\n",
            "2 x 3 es igual a: 6\n",
            "2 x 4 es igual a: 8\n",
            "2 x 5 es igual a: 10\n",
            "2 x 6 es igual a: 12\n",
            "2 x 7 es igual a: 14\n",
            "2 x 8 es igual a: 16\n",
            "2 x 9 es igual a: 18\n",
            "2 x 10 es igual a: 20\n"
          ]
        }
      ]
    },
    {
      "cell_type": "code",
      "metadata": {
        "colab": {
          "base_uri": "https://localhost:8080/"
        },
        "id": "1ORct0aDCEtG",
        "outputId": "ff737792-e378-4456-a9d1-468d3259290d"
      },
      "source": [
        "comprobar = True\n",
        "while comprobar == True:\n",
        "\n",
        "    N= int(input(\"Ingrese un numero entero positivo: \"))\n",
        "\n",
        "    if N > 0:\n",
        "        print(\"Es correcto\")\n",
        "\n",
        "        for i in range (1, 11):\n",
        "            print(N,\"x\",i,\"es igual a:\",N*i)\n",
        "        comprobar = False\n",
        "\n",
        "    else:\n",
        "        print(\"El numero ingresado no es correcto\")"
      ],
      "execution_count": 12,
      "outputs": [
        {
          "output_type": "stream",
          "name": "stdout",
          "text": [
            "Ingrese un numero entero positivo: -6\n",
            "El numero ingresado no es correcto\n",
            "Ingrese un numero entero positivo: 5\n",
            "Es correcto\n",
            "5 x 1 es igual a: 5\n",
            "5 x 2 es igual a: 10\n",
            "5 x 3 es igual a: 15\n",
            "5 x 4 es igual a: 20\n",
            "5 x 5 es igual a: 25\n",
            "5 x 6 es igual a: 30\n",
            "5 x 7 es igual a: 35\n",
            "5 x 8 es igual a: 40\n",
            "5 x 9 es igual a: 45\n",
            "5 x 10 es igual a: 50\n"
          ]
        }
      ]
    },
    {
      "cell_type": "code",
      "metadata": {
        "colab": {
          "base_uri": "https://localhost:8080/"
        },
        "id": "Pab3SjgcHVWm",
        "outputId": "13fd561f-db61-41fa-9ef9-2c1faa289765"
      },
      "source": [
        "comprobar = True\n",
        "while comprobar == True:\n",
        "\n",
        "    N= int(input(\"Ingrese un numero entero positivo: \"))\n",
        "\n",
        "    if N > 0:\n",
        "        i=1\n",
        "        while i<11:\n",
        "            print(N, \"x\", i,\"es igual a:\", N*i)\n",
        "\n",
        "            i+=1\n",
        "            \n",
        "            comprobar = False\n",
        "\n",
        "    else:\n",
        "        print(\"El numero ingresado no es correcto\")"
      ],
      "execution_count": 18,
      "outputs": [
        {
          "output_type": "stream",
          "name": "stdout",
          "text": [
            "Ingrese un numero entero positivo: 5\n",
            "5 x 1 es igual a: 5\n",
            "5 x 2 es igual a: 10\n",
            "5 x 3 es igual a: 15\n",
            "5 x 4 es igual a: 20\n",
            "5 x 5 es igual a: 25\n",
            "5 x 6 es igual a: 30\n",
            "5 x 7 es igual a: 35\n",
            "5 x 8 es igual a: 40\n",
            "5 x 9 es igual a: 45\n",
            "5 x 10 es igual a: 50\n"
          ]
        }
      ]
    },
    {
      "cell_type": "markdown",
      "metadata": {
        "id": "5JQn-PYHKUK0"
      },
      "source": [
        "Escribe un programa que al recibir como dato un numeor entero positivo, calcule el resultado de la siguiente serie\n",
        "1+1/2+1/3+1/4+...+1/N"
      ]
    },
    {
      "cell_type": "code",
      "metadata": {
        "colab": {
          "base_uri": "https://localhost:8080/"
        },
        "id": "z3HHEJtxJq3V",
        "outputId": "da2280a3-fad8-490b-e7cc-7bbfa20e87b3"
      },
      "source": [
        "N= int(input(\"Ingrese un numero entero positivo: \"))\n",
        "if N > 0:\n",
        "    resultado=0\n",
        "    for i in range (1, N+1):\n",
        "        resultado += (1/i)\n",
        "        print(\"El resultado de la serie es: \",resultado)\n",
        "else:\n",
        "    print(\"El numero ingresado no es correcto\")"
      ],
      "execution_count": 20,
      "outputs": [
        {
          "output_type": "stream",
          "name": "stdout",
          "text": [
            "Ingrese un numero entero positivo: 10\n",
            "El resultado de la serie es:  1.0\n",
            "El resultado de la serie es:  1.5\n",
            "El resultado de la serie es:  1.8333333333333333\n",
            "El resultado de la serie es:  2.083333333333333\n",
            "El resultado de la serie es:  2.283333333333333\n",
            "El resultado de la serie es:  2.4499999999999997\n",
            "El resultado de la serie es:  2.5928571428571425\n",
            "El resultado de la serie es:  2.7178571428571425\n",
            "El resultado de la serie es:  2.8289682539682537\n",
            "El resultado de la serie es:  2.9289682539682538\n",
            "El numero ingresado no es correcto\n"
          ]
        }
      ]
    },
    {
      "cell_type": "code",
      "metadata": {
        "colab": {
          "base_uri": "https://localhost:8080/"
        },
        "id": "R4fiZaKrMZkT",
        "outputId": "a32b2c39-cfbe-46f9-c79a-90c97cc2bfa7"
      },
      "source": [
        "comprobar = True\n",
        "while comprobar == True:\n",
        "\n",
        "    N= int(input(\"Ingrese un numero entero positivo: \"))\n",
        "    if N > 0:\n",
        "        comprobar = False\n",
        "        resultado=0\n",
        "        for i in range (1, N+1):\n",
        "            resultado += (1/i)\n",
        "            print(\"El resultado de la serie es: \",resultado)\n",
        "    else:\n",
        "        print(\"El numero ingresado no es correcto\")"
      ],
      "execution_count": 22,
      "outputs": [
        {
          "output_type": "stream",
          "name": "stdout",
          "text": [
            "Ingrese un numero entero positivo: -5\n",
            "El numero ingresado no es correcto\n",
            "Ingrese un numero entero positivo: 5\n",
            "El resultado de la serie es:  1.0\n",
            "El resultado de la serie es:  1.5\n",
            "El resultado de la serie es:  1.8333333333333333\n",
            "El resultado de la serie es:  2.083333333333333\n",
            "El resultado de la serie es:  2.283333333333333\n"
          ]
        }
      ]
    }
  ]
}