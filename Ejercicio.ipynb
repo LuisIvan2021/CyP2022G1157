{
  "nbformat": 4,
  "nbformat_minor": 0,
  "metadata": {
    "colab": {
      "name": "Ejercicio",
      "provenance": [],
      "collapsed_sections": [],
      "authorship_tag": "ABX9TyPDZpv5CYXeDjExcMIbPV2M",
      "include_colab_link": true
    },
    "kernelspec": {
      "name": "python3",
      "display_name": "Python 3"
    },
    "language_info": {
      "name": "python"
    }
  },
  "cells": [
    {
      "cell_type": "markdown",
      "metadata": {
        "id": "view-in-github",
        "colab_type": "text"
      },
      "source": [
        "<a href=\"https://colab.research.google.com/github/LuisIvan2021/CyP2022G1157/blob/main/Ejercicio.ipynb\" target=\"_parent\"><img src=\"https://colab.research.google.com/assets/colab-badge.svg\" alt=\"Open In Colab\"/></a>"
      ]
    },
    {
      "cell_type": "code",
      "metadata": {
        "colab": {
          "base_uri": "https://localhost:8080/"
        },
        "id": "T8AoUrd_NF4g",
        "outputId": "b29b5122-28e4-4845-de69-6f806bf492d5"
      },
      "source": [
        "#ejercicio\n",
        "A=int(input(\"Dame un numero entero: \"))\n",
        "B=int(input(\"Dame un segundo numero entero diferente: \"))\n",
        "C=int(input(\"Dame un tercer numero entero diferente: \"))\n",
        "\n",
        "if A>B:\n",
        "    if A>C: \n",
        "        if B>C:\n",
        "            print(f\"mayor a menor {A}, {B}, {C}\")\n",
        "        else:\n",
        "            print(f\"mayor a menor {A}, {C}, {B}\")\n",
        "    else: print(f\"mayor a menor {C}, {A}, {B}\")\n",
        "else:\n",
        "    if B>C:    \n",
        "        if A>C:\n",
        "            print(f\"mayor a menor {B}, {A}, {C}\")\n",
        "        else:\n",
        "            print(f\"mayor a menor {B}, {C}, {A}\")\n",
        "    else: print(f\"mayor a menor {C}, {B}, {A}\")\n",
        "print(\"FIN\")"
      ],
      "execution_count": 1,
      "outputs": [
        {
          "output_type": "stream",
          "name": "stdout",
          "text": [
            "Dame un numero entero: 5\n",
            "Dame un segundo numero entero diferente: 8\n",
            "Dame un tercer numero entero diferente: 4\n",
            "mayor a menor 8, 5, 4\n",
            "FIN\n"
          ]
        }
      ]
    }
  ]
}