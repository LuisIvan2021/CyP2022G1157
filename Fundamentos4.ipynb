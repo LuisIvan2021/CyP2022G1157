{
  "nbformat": 4,
  "nbformat_minor": 0,
  "metadata": {
    "colab": {
      "name": "Fundamentos4.ipynb",
      "provenance": [],
      "collapsed_sections": [],
      "authorship_tag": "ABX9TyPrNQYC3K39h/ABJk5oRFJe",
      "include_colab_link": true
    },
    "kernelspec": {
      "name": "python3",
      "display_name": "Python 3"
    },
    "language_info": {
      "name": "python"
    }
  },
  "cells": [
    {
      "cell_type": "markdown",
      "metadata": {
        "id": "view-in-github",
        "colab_type": "text"
      },
      "source": [
        "<a href=\"https://colab.research.google.com/github/LuisIvan2021/CyP2022G1157/blob/main/Fundamentos4.ipynb\" target=\"_parent\"><img src=\"https://colab.research.google.com/assets/colab-badge.svg\" alt=\"Open In Colab\"/></a>"
      ]
    },
    {
      "cell_type": "markdown",
      "metadata": {
        "id": "942K_RvtVYWJ"
      },
      "source": [
        "Una funcion es una unidad de codigo reutilizable, ademas de ser un mecanismo para organizar codigo.\n",
        "\n",
        "La gran ventaja de emplear funciones es simplificar la programación.\n",
        "\n",
        "### Estructura\n",
        "Una función puede tomar cualquier cantidad de parametros de entrada (de cualquier tipo) y retornar unicamente un solo valor.\n",
        "Un parametro de entrada es un valor que resibe la funcion para realizar sus operaciones.\n",
        "\n",
        "Con una funcion se pueden hacer 2 cosas:\n",
        "1. definirla\n",
        "2. invocarla (ejecutarla)\n",
        "\n",
        "La gran ventaja de tener una funcion declarada es que la puedes usar n veces"
      ]
    },
    {
      "cell_type": "markdown",
      "metadata": {
        "id": "FoYiNJZCUNlv"
      },
      "source": [
        "# Modularidad (funciones)\n",
        "![fncbloque.jpeg](data:image/jpeg;base64,/9j/4AAQSkZJRgABAQEAYABgAAD/4RDiRXhpZgAATU0AKgAAAAgABAE7AAIAAAAIAAAISodpAAQAAAABAAAIUpydAAEAAAAQAAAQyuocAAcAAAgMAAAAPgAAAAAc6gAAAAgAAAAAAAAAAAAAAAAAAAAAAAAAAAAAAAAAAAAAAAAAAAAAAAAAAAAAAAAAAAAAAAAAAAAAAAAAAAAAAAAAAAAAAAAAAAAAAAAAAAAAAAAAAAAAAAAAAAAAAAAAAAAAAAAAAAAAAAAAAAAAAAAAAAAAAAAAAAAAAAAAAAAAAAAAAAAAAAAAAAAAAAAAAAAAAAAAAAAAAAAAAAAAAAAAAAAAAAAAAAAAAAAAAAAAAAAAAAAAAAAAAAAAAAAAAAAAAAAAAAAAAAAAAAAAAAAAAAAAAAAAAAAAAAAAAAAAAAAAAAAAAAAAAAAAAAAAAAAAAAAAAAAAAAAAAAAAAAAAAAAAAAAAAAAAAAAAAAAAAAAAAAAAAAAAAAAAAAAAAAAAAAAAAAAAAAAAAAAAAAAAAAAAAAAAAAAAAAAAAAAAAAAAAAAAAAAAAAAAAAAAAAAAAAAAAAAAAAAAAAAAAAAAAAAAAAAAAAAAAAAAAAAAAAAAAAAAAAAAAAAAAAAAAAAAAAAAAAAAAAAAAAAAAAAAAAAAAAAAAAAAAAAAAAAAAAAAAAAAAAAAAAAAAAAAAAAAAAAAAAAAAAAAAAAAAAAAAAAAAAAAAAAAAAAAAAAAAAAAAAAAAAAAAAAAAAAAAAAAAAAAAAAAAAAAAAAAAAAAAAAAAAAAAAAAAAAAAAAAAAAAAAAAAAAAAAAAAAAAAAAAAAAAAAAAAAAAAAAAAAAAAAAAAAAAAAAAAAAAAAAAAAAAAAAAAAAAAAAAAAAAAAAAAAAAAAAAAAAAAAAAAAAAAAAAAAAAAAAAAAAAAAAAAAAAAAAAAAAAAAAAAAAAAAAAAAAAAAAAAAAAAAAAAAAAAAAAAAAAAAAAAAAAAAAAAAAAAAAAAAAAAAAAAAAAAAAAAAAAAAAAAAAAAAAAAAAAAAAAAAAAAAAAAAAAAAAAAAAAAAAAAAAAAAAAAAAAAAAAAAAAAAAAAAAAAAAAAAAAAAAAAAAAAAAAAAAAAAAAAAAAAAAAAAAAAAAAAAAAAAAAAAAAAAAAAAAAAAAAAAAAAAAAAAAAAAAAAAAAAAAAAAAAAAAAAAAAAAAAAAAAAAAAAAAAAAAAAAAAAAAAAAAAAAAAAAAAAAAAAAAAAAAAAAAAAAAAAAAAAAAAAAAAAAAAAAAAAAAAAAAAAAAAAAAAAAAAAAAAAAAAAAAAAAAAAAAAAAAAAAAAAAAAAAAAAAAAAAAAAAAAAAAAAAAAAAAAAAAAAAAAAAAAAAAAAAAAAAAAAAAAAAAAAAAAAAAAAAAAAAAAAAAAAAAAAAAAAAAAAAAAAAAAAAAAAAAAAAAAAAAAAAAAAAAAAAAAAAAAAAAAAAAAAAAAAAAAAAAAAAAAAAAAAAAAAAAAAAAAAAAAAAAAAAAAAAAAAAAAAAAAAAAAAAAAAAAAAAAAAAAAAAAAAAAAAAAAAAAAAAAAAAAAAAAAAAAAAAAAAAAAAAAAAAAAAAAAAAAAAAAAAAAAAAAAAAAAAAAAAAAAAAAAAAAAAAAAAAAAAAAAAAAAAAAAAAAAAAAAAAAAAAAAAAAAAAAAAAAAAAAAAAAAAAAAAAAAAAAAAAAAAAAAAAAAAAAAAAAAAAAAAAAAAAAAAAAAAAAAAAAAAAAAAAAAAAAAAAAAAAAAAAAAAAAAAAAAAAAAAAAAAAAAAAAAAAAAAAAAAAAAAAAAAAAAAAAAAAAAAAAAAAAAAAAAAAAAAAAAAAAAAAAAAAAAAAAAAAAAAAAAAAAAAAAAAAAAAAAAAAAAAAAAAAAAAAAAAAAAAAAAAAAAAAAAAAAAAAAAAAAAAAAAAAAAAAAAAAAAAAAAAAAAAAAAAAAAAAAAAAAAAAAAAAAAAAAAAAAAAAAAAAAAAAAAAAAAAAAAAAAAAAAAAAAAAAAAAAAAAAAAAAAAAAAAAAAAAAAAAAAAAAAAAAAAAAAAAAAAAAAAAAAAAAAAAAAAAAAAAAAAAAAAAAAAAAAAAAAAAAAAAAAAAAAAAAAAAAAAAAAAAAAAAAAAAAAAAAAAAAAAAAAAAAAAAAAAAAAAAAAAAAAAAAAAAAAAAAAAAAAAAAAAAAAAAAAAAAAAAAAAAAAAAAAAAAAAAAAAAAAAAAAAAAAAAAAAAAAAAAAAAAAAAAAAAAAAAAAAAAAAAAAAAAAAAAAAAAAAAAAAAAAAAAAAAAAAAAAAAAAAAAAAAAAAAAAAAAAAAAAAAAAAAAAAAAAAAAAAAAAAAAAAAAAAAAAAAAAAAAAAAAAAAAAAAAAAAAAAAAAAAAAAAAAAAAAAAAAAAAAAAAAAAAAAAAAAAAAAAAAAAAAAAAAAAAAAAAAAAAAAAAAAAAAAAAAAAAAAAAAAAAAAAAAAAAAAAAAAAAAAAAAAAAAAAAAAAAAAAAAAAAAAAAAAAAAAAAAAAAAAAAAAAAAAAAAAAAAAAAAAAAAAAAAAAAAAAAAAAAAAAAAAAAAAAAAAAAAAAAAAAAAAAAAAAAAAAAAAAAAAAAAAAAAAAAAAAAAAAAAAAAAAAAAAAAAAAAAAAAAAAAAAAAAAAAAAAAAAAAAAAAAAAAAAAAAAAAAAAAAAAAAAAAAAAAAAAAAAAAAAAAAAAAAAAAAAAAAAAAAAAAAAAAAAAAAAAAAAAAAAAAAAAAAAAAAAAAAAAAAAAAAAAAAAAAAAAAAAAAAAAAAAAAAAAAAAAAAAAAAAAAAAAAAAAAAAAAAAAAAAAAAAAAAAAAAAAAAAAAAAAAAAAAAAAAAAAAAAAExBQkNPTTIAAAWQAwACAAAAFAAAEKCQBAACAAAAFAAAELSSkQACAAAAAzM3AACSkgACAAAAAzM3AADqHAAHAAAIDAAACJQAAAAAHOoAAAAIAAAAAAAAAAAAAAAAAAAAAAAAAAAAAAAAAAAAAAAAAAAAAAAAAAAAAAAAAAAAAAAAAAAAAAAAAAAAAAAAAAAAAAAAAAAAAAAAAAAAAAAAAAAAAAAAAAAAAAAAAAAAAAAAAAAAAAAAAAAAAAAAAAAAAAAAAAAAAAAAAAAAAAAAAAAAAAAAAAAAAAAAAAAAAAAAAAAAAAAAAAAAAAAAAAAAAAAAAAAAAAAAAAAAAAAAAAAAAAAAAAAAAAAAAAAAAAAAAAAAAAAAAAAAAAAAAAAAAAAAAAAAAAAAAAAAAAAAAAAAAAAAAAAAAAAAAAAAAAAAAAAAAAAAAAAAAAAAAAAAAAAAAAAAAAAAAAAAAAAAAAAAAAAAAAAAAAAAAAAAAAAAAAAAAAAAAAAAAAAAAAAAAAAAAAAAAAAAAAAAAAAAAAAAAAAAAAAAAAAAAAAAAAAAAAAAAAAAAAAAAAAAAAAAAAAAAAAAAAAAAAAAAAAAAAAAAAAAAAAAAAAAAAAAAAAAAAAAAAAAAAAAAAAAAAAAAAAAAAAAAAAAAAAAAAAAAAAAAAAAAAAAAAAAAAAAAAAAAAAAAAAAAAAAAAAAAAAAAAAAAAAAAAAAAAAAAAAAAAAAAAAAAAAAAAAAAAAAAAAAAAAAAAAAAAAAAAAAAAAAAAAAAAAAAAAAAAAAAAAAAAAAAAAAAAAAAAAAAAAAAAAAAAAAAAAAAAAAAAAAAAAAAAAAAAAAAAAAAAAAAAAAAAAAAAAAAAAAAAAAAAAAAAAAAAAAAAAAAAAAAAAAAAAAAAAAAAAAAAAAAAAAAAAAAAAAAAAAAAAAAAAAAAAAAAAAAAAAAAAAAAAAAAAAAAAAAAAAAAAAAAAAAAAAAAAAAAAAAAAAAAAAAAAAAAAAAAAAAAAAAAAAAAAAAAAAAAAAAAAAAAAAAAAAAAAAAAAAAAAAAAAAAAAAAAAAAAAAAAAAAAAAAAAAAAAAAAAAAAAAAAAAAAAAAAAAAAAAAAAAAAAAAAAAAAAAAAAAAAAAAAAAAAAAAAAAAAAAAAAAAAAAAAAAAAAAAAAAAAAAAAAAAAAAAAAAAAAAAAAAAAAAAAAAAAAAAAAAAAAAAAAAAAAAAAAAAAAAAAAAAAAAAAAAAAAAAAAAAAAAAAAAAAAAAAAAAAAAAAAAAAAAAAAAAAAAAAAAAAAAAAAAAAAAAAAAAAAAAAAAAAAAAAAAAAAAAAAAAAAAAAAAAAAAAAAAAAAAAAAAAAAAAAAAAAAAAAAAAAAAAAAAAAAAAAAAAAAAAAAAAAAAAAAAAAAAAAAAAAAAAAAAAAAAAAAAAAAAAAAAAAAAAAAAAAAAAAAAAAAAAAAAAAAAAAAAAAAAAAAAAAAAAAAAAAAAAAAAAAAAAAAAAAAAAAAAAAAAAAAAAAAAAAAAAAAAAAAAAAAAAAAAAAAAAAAAAAAAAAAAAAAAAAAAAAAAAAAAAAAAAAAAAAAAAAAAAAAAAAAAAAAAAAAAAAAAAAAAAAAAAAAAAAAAAAAAAAAAAAAAAAAAAAAAAAAAAAAAAAAAAAAAAAAAAAAAAAAAAAAAAAAAAAAAAAAAAAAAAAAAAAAAAAAAAAAAAAAAAAAAAAAAAAAAAAAAAAAAAAAAAAAAAAAAAAAAAAAAAAAAAAAAAAAAAAAAAAAAAAAAAAAAAAAAAAAAAAAAAAAAAAAAAAAAAAAAAAAAAAAAAAAAAAAAAAAAAAAAAAAAAAAAAAAAAAAAAAAAAAAAAAAAAAAAAAAAAAAAAAAAAAAAAAAAAAAAAAAAAAAAAAAAAAAAAAAAAAAAAAAAAAAAAAAAAAAAAAAAAAAAAAAAAAAAAAAAAAAAAAAAAAAAAAAAAAAAAAAAAAAAAAAAAAAAAAAAAAAAAAAAAAAAAAAAAAAAAAAAAAAAAAAAAAAAAAAAAAAAAAAAAAAAAAAAAAAAAAAAAAAAAAAAAAAAAAAAAAAAAAAAAAAAAAAAAAAAAAAAAAAAAAAAAAAAAAAAAAAAAAAAAAAAAAAAAAAAAAAAAAAAAAAAAAAAAAAAAAAAAAAAAAAAAAAAAAAAAAAAAAAAAAAAAAAAAAAAAAAAAAAAAAAAAAAAAAAAAAAAAAAAAAAAAAAAAAAAAAAAAAAAAAAAAAAAAAAAAAAAAAAAAAAAAAAAAAAAAAAAAAAAAAAAAAAAAAAAAAAAAAAAAAAAAAAAAAAAAAAAAAAAAAAAAAAAAAAAAAAAAAAAAAAAAAAAAAAAAAAAAAAAAAAAAAAAAAAAAAAAAAAAAAAAAAAAAAAAAAAAAAAAAAAAAAAAAAAAAAAAAAAAAAAAAAAAAAAAAAAAAAAAAAAAAAAAAAAAAAAAAAAAAAAAAAAAAAAAAAAAAAAAAAAAAAAAAAAAAAAAAAAAAAAAAAAAAAAAAAAAAAAAAAAAAAAAAAAAAAAAAAAAAAAAAAAAAAAAAAAAAAAAAAAAAAAAAAAAAAAAAAAAAAAAAAAAAAAAAAAAAAAAAAAAAAAAAAAAAAAAAAAAAAAAAAAAAAAAAAAAAAAAAAAAAAAAAAAAAAAAAAAAAAAAAAAAAAAAAAAAAAAAAAAAAAAAAAAAAAAAAAAAAAAAAAAAAAAAAAAAAAAAAAAAAAAAAAAAAAAAAAAAAAAAAAAAAAAAAAAAAAAAAAAAAAAAAAAAAAAAAAAAAAAAAAAAAAAAAAAAAAAAAAAAAAAAAAAAAAAAAAAAAAAAAAAAAAAAAAAAAAAAAAAAAAAAAAAAAAAAAAAyMDE5OjA3OjE5IDIzOjI1OjMyADIwMTk6MDc6MTkgMjM6MjU6MzIAAABMAEEAQgBDAE8ATQAyAAAA/+ELGmh0dHA6Ly9ucy5hZG9iZS5jb20veGFwLzEuMC8APD94cGFja2V0IGJlZ2luPSfvu78nIGlkPSdXNU0wTXBDZWhpSHpyZVN6TlRjemtjOWQnPz4NCjx4OnhtcG1ldGEgeG1sbnM6eD0iYWRvYmU6bnM6bWV0YS8iPjxyZGY6UkRGIHhtbG5zOnJkZj0iaHR0cDovL3d3dy53My5vcmcvMTk5OS8wMi8yMi1yZGYtc3ludGF4LW5zIyI+PHJkZjpEZXNjcmlwdGlvbiByZGY6YWJvdXQ9InV1aWQ6ZmFmNWJkZDUtYmEzZC0xMWRhLWFkMzEtZDMzZDc1MTgyZjFiIiB4bWxuczpkYz0iaHR0cDovL3B1cmwub3JnL2RjL2VsZW1lbnRzLzEuMS8iLz48cmRmOkRlc2NyaXB0aW9uIHJkZjphYm91dD0idXVpZDpmYWY1YmRkNS1iYTNkLTExZGEtYWQzMS1kMzNkNzUxODJmMWIiIHhtbG5zOnhtcD0iaHR0cDovL25zLmFkb2JlLmNvbS94YXAvMS4wLyI+PHhtcDpDcmVhdGVEYXRlPjIwMTktMDctMTlUMjM6MjU6MzIuMzcwPC94bXA6Q3JlYXRlRGF0ZT48L3JkZjpEZXNjcmlwdGlvbj48cmRmOkRlc2NyaXB0aW9uIHJkZjphYm91dD0idXVpZDpmYWY1YmRkNS1iYTNkLTExZGEtYWQzMS1kMzNkNzUxODJmMWIiIHhtbG5zOmRjPSJodHRwOi8vcHVybC5vcmcvZGMvZWxlbWVudHMvMS4xLyI+PGRjOmNyZWF0b3I+PHJkZjpTZXEgeG1sbnM6cmRmPSJodHRwOi8vd3d3LnczLm9yZy8xOTk5LzAyLzIyLXJkZi1zeW50YXgtbnMjIj48cmRmOmxpPkxBQkNPTTI8L3JkZjpsaT48L3JkZjpTZXE+DQoJCQk8L2RjOmNyZWF0b3I+PC9yZGY6RGVzY3JpcHRpb24+PC9yZGY6UkRGPjwveDp4bXBtZXRhPg0KICAgICAgICAgICAgICAgICAgICAgICAgICAgICAgICAgICAgICAgICAgICAgICAgICAgICAgICAgICAgICAgICAgICAgICAgICAgICAgICAgICAgICAgICAgICAgICAgICAgIAogICAgICAgICAgICAgICAgICAgICAgICAgICAgICAgICAgICAgICAgICAgICAgICAgICAgICAgICAgICAgICAgICAgICAgICAgICAgICAgICAgICAgICAgICAgICAgICAgICAgCiAgICAgICAgICAgICAgICAgICAgICAgICAgICAgICAgICAgICAgICAgICAgICAgICAgICAgICAgICAgICAgICAgICAgICAgICAgICAgICAgICAgICAgICAgICAgICAgICAgICAKICAgICAgICAgICAgICAgICAgICAgICAgICAgICAgICAgICAgICAgICAgICAgICAgICAgICAgICAgICAgICAgICAgICAgICAgICAgICAgICAgICAgICAgICAgICAgICAgICAgIAogICAgICAgICAgICAgICAgICAgICAgICAgICAgICAgICAgICAgICAgICAgICAgICAgICAgICAgICAgICAgICAgICAgICAgICAgICAgICAgICAgICAgICAgICAgICAgICAgICAgCiAgICAgICAgICAgICAgICAgICAgICAgICAgICAgICAgICAgICAgICAgICAgICAgICAgICAgICAgICAgICAgICAgICAgICAgICAgICAgICAgICAgICAgICAgICAgICAgICAgICAKICAgICAgICAgICAgICAgICAgICAgICAgICAgICAgICAgICAgICAgICAgICAgICAgICAgICAgICAgICAgICAgICAgICAgICAgICAgICAgICAgICAgICAgICAgICAgICAgICAgIAogICAgICAgICAgICAgICAgICAgICAgICAgICAgICAgICAgICAgICAgICAgICAgICAgICAgICAgICAgICAgICAgICAgICAgICAgICAgICAgICAgICAgICAgICAgICAgICAgICAgCiAgICAgICAgICAgICAgICAgICAgICAgICAgICAgICAgICAgICAgICAgICAgICAgICAgICAgICAgICAgICAgICAgICAgICAgICAgICAgICAgICAgICAgICAgICAgICAgICAgICAKICAgICAgICAgICAgICAgICAgICAgICAgICAgICAgICAgICAgICAgICAgICAgICAgICAgICAgICAgICAgICAgICAgICAgICAgICAgICAgICAgICAgICAgICAgICAgICAgICAgIAogICAgICAgICAgICAgICAgICAgICAgICAgICAgICAgICAgICAgICAgICAgICAgICAgICAgICAgICAgICAgICAgICAgICAgICAgICAgICAgICAgICAgICAgICAgICAgICAgICAgCiAgICAgICAgICAgICAgICAgICAgICAgICAgICAgICAgICAgICAgICAgICAgICAgICAgICAgICAgICAgICAgICAgICAgICAgICAgICAgICAgICAgICAgICAgICAgICAgICAgICAKICAgICAgICAgICAgICAgICAgICAgICAgICAgICAgICAgICAgICAgICAgICAgICAgICAgICAgICAgICAgICAgICAgICAgICAgICAgICAgICAgICAgICAgICAgICAgICAgICAgIAogICAgICAgICAgICAgICAgICAgICAgICAgICAgICAgICAgICAgICAgICAgICAgICAgICAgICAgICAgICAgICAgICAgICAgICAgICAgICAgICAgICAgICAgICAgICAgICAgICAgCiAgICAgICAgICAgICAgICAgICAgICAgICAgICAgICAgICAgICAgICAgICAgICAgICAgICAgICAgICAgICAgICAgICAgICAgICAgICAgICAgICAgICAgICAgICAgICAgICAgICAKICAgICAgICAgICAgICAgICAgICAgICAgICAgICAgICAgICAgICAgICAgICAgICAgICAgICAgICAgICAgICAgICAgICAgICAgICAgICAgICAgICAgICAgICAgICAgICAgICAgIAogICAgICAgICAgICAgICAgICAgICAgICAgICAgICAgICAgICAgICAgICAgICAgICAgICAgICAgICAgICAgICAgICAgICAgICAgICAgICAgICAgICAgICAgICAgICAgICAgICAgCiAgICAgICAgICAgICAgICAgICAgICAgICAgICAgICAgICAgICAgICAgICAgICAgICAgICAgICAgICAgICAgICAgICAgICAgICAgICAgICAgICAgICAgICAgICAgICAgICAgICAKICAgICAgICAgICAgICAgICAgICAgICAgICAgICAgICAgICAgICAgICAgICAgICAgICAgICAgICAgICAgICAgICAgICAgICAgICAgICAgICAgICAgICAgICAgICAgICAgICAgIAogICAgICAgICAgICAgICAgICAgICAgICAgICAgICAgICAgICAgICAgICAgICAgICAgICAgICAgICAgICAgICAgICAgICAgICAgICAgICAgICAgICAgICAgICAgICAgICAgICAgCiAgICAgICAgICAgICAgICAgICAgICAgICAgICA8P3hwYWNrZXQgZW5kPSd3Jz8+/9sAQwAHBQUGBQQHBgUGCAcHCAoRCwoJCQoVDxAMERgVGhkYFRgXGx4nIRsdJR0XGCIuIiUoKSssKxogLzMvKjInKisq/9sAQwEHCAgKCQoUCwsUKhwYHCoqKioqKioqKioqKioqKioqKioqKioqKioqKioqKioqKioqKioqKioqKioqKioqKioq/8AAEQgAwgGbAwEiAAIRAQMRAf/EAB8AAAEFAQEBAQEBAAAAAAAAAAABAgMEBQYHCAkKC//EALUQAAIBAwMCBAMFBQQEAAABfQECAwAEEQUSITFBBhNRYQcicRQygZGhCCNCscEVUtHwJDNicoIJChYXGBkaJSYnKCkqNDU2Nzg5OkNERUZHSElKU1RVVldYWVpjZGVmZ2hpanN0dXZ3eHl6g4SFhoeIiYqSk5SVlpeYmZqio6Slpqeoqaqys7S1tre4ubrCw8TFxsfIycrS09TV1tfY2drh4uPk5ebn6Onq8fLz9PX29/j5+v/EAB8BAAMBAQEBAQEBAQEAAAAAAAABAgMEBQYHCAkKC//EALURAAIBAgQEAwQHBQQEAAECdwABAgMRBAUhMQYSQVEHYXETIjKBCBRCkaGxwQkjM1LwFWJy0QoWJDThJfEXGBkaJicoKSo1Njc4OTpDREVGR0hJSlNUVVZXWFlaY2RlZmdoaWpzdHV2d3h5eoKDhIWGh4iJipKTlJWWl5iZmqKjpKWmp6ipqrKztLW2t7i5usLDxMXGx8jJytLT1NXW19jZ2uLj5OXm5+jp6vLz9PX29/j5+v/aAAwDAQACEQMRAD8A+kaKKKACiiigAooooAKKyovFXh6fWjo8OvaZJqYZkNkl5GZgwGSPLzuyACSMdq05ZY4IXlmdY441LO7nAUDkknsKOlw62HUU2ORJoklhdZI3UMjqchgehB7inUAFFVZtRtbfUrawll23N0rvDHtJ3BMbucYGNw6+tWqACiiigAooooAKKKKACiiigAooooAKKKKACiiigAooooAKKKKACiiigAooooAKKKKACiiigAooooAKKKKACiiigAooooAKKKKACiiigAooooAKKKKACiiigAooooA848Fa7HF4l1jS5fEuhoX1a92aQVAvS28nO7zuR1OPL6d+9c9Y2d3ceE9F87Vdavpdd8O3b3ay6jM/mSKkbIVAb5CM7flwWBO7cSTXtFFQ43hy+SX4NFKVpc3nf8bnl2i29nqM3gqw0vW9Ql0uTTLqaYWmrzMJpENuNrSBy2FZm+UMMcr0JU19M8Tz3vxUt49PuWBlnvre4tZdZeaT92rbBJabfLtxmMFGU7mXk5JavWaK0k+Z/f8AiQlaKXp+B4fp+vWcMmk6umr6nqeqwaJfT6tClyZpLe52RllCPlIHDBgIwFAC/dIFdZ8L9Wkv9S1+BL2K6soTbyQeRrMuqRqXVg+24lUMeUGVGQCDjnNeiUUX1YMKKKKQwooooAKKKKACiiigAooooAKKKKACiiigAooooAKKKKACiiigAooooAKKKKACiiigAooooAKKKKACiiigAooooAKKKKACiiigAooooAKKKzfER1IeG9QGgxCXUmgZbUM4UCQjCsSewJyfYUndLQa1dino/jHS9ZXVXjaS1i0qVknlu9saFBn96pyf3Z2thjj7p4qafxh4atrH7bc+IdKhtPONv58l7GsfmjrHuLY3DuOtcBceBPFOl6fdWdvPZ6vBd+G5dHK21ubVldEYwO5kmfeSXkUkYwWBIxkibxnbajFrGj6ZoFqrvFoVzBPaw2kMzRQOYVJVZJoUX7mAQzf7hHNN6f16/wCXyv5Au/8AXT9Xb5HokWt6VPAZ4NTs5IltxdGRLhSohOcSZB+4drfN04PpUEnifQIb+Oxl1zTY7uU4jt2u4xI52hsBc5Pysp+hB71w1/a6hqNhLqHhXSp9Usdd8MxWNrI88cRgIEhVpd7A4KzDlQxyp45BpbjwTf3Gla9DNpUMsl/qGluA5jPmwwrbCTOT0XZLwevOAc81b3mv63t+Wou39dF/m/uO3XxR4ffRW1hNc01tLRtrXwu4zApzjBkztzkgde9LdeKNAsbGC9vdc023tLiPzYbiW7jSOVMgblYnBGWXkf3h61w/iDwpr0ut3upadHdokeuRX0SWL23nSx/YlgLRicGMMHzw+OASDnGbmg+E57fXNBvZbK+aK3j1KSdtVa2aaGaeSM9IDsG7Eh+ToCc4JxU7/wBeV/8AgD2OhXxv4efxVD4fTVLVr+e2W4hUXEeJFb7qqN2SxHzAAfd5q7b+I9Eu7q8trXWdPnuLAE3cUd0jNb4ODvAOVxg5ziuO8MeHtZ0afRkuNPlVDoh0+WWGWIizcOWBYbwSMEAbN3I5wOapW3hrUrnRdG0vU/C9xHBoenTWlw0FzAGvw8XlFbciQEBiN5Mnl4KrxnOF0+/83/kvW4fat6fkv+D6WPQ9M1nTNasjeaPqNpqFqGKme1nWVAR1G5SRkVkWXjnRtQ1a7gstQsLjT7SyF3LqMN4jxJ87KysRwMBckk96zY9J8Rax8Ndc0nVGnW7u4Z7eyOoND5/ltHhRMYP3ed24ZT+HbnnNc/rXhvxD4knvb+DQJtFIs7FI4jPbNNM1vceayDBeMcfc35UnG4KKf2kun/Af5dhfZ8/+Cvz11PQz4k0Y+HZ9dg1K2utLgjeV7q1kEyFUzuwVzkjBGBzniq2ieKI9YvprC40y+0q+ihS4+zXwj3PExIDgxu64yCCCQQeoGRnnIPC19f8AgrxLbsNXi1LViW/4nb2m55FjVUP+i/IFO1QT97j6VqaHb6pqfi+XX9V0iXR0j09bKK3uJYpJXYvvdsxOyheFAycn5uB3f2v67P8AXQT2/ruv0N2LW9Kn1ibSYNTs5NSgTfLZJcIZo145ZAdwHzDkjuPWo9S8SaHo06w6vrOn2Er7dqXV0kTNuyFwGI67Wx67T6VxOmaL4ol+IOn3up2lzHZ2V5eucfY0tFSQOEaIJ++LNkFzIfvMTj00vEXhm71LXPEl1HYRzi88OCwtpGKZaTdOWj5OQDujPOAePTiW7RuUldtf1uv+HO2oqtp0ckOl2sU4xKkKK4JzhgozzVmqkrOxMXdXCiiikMKKKKACiiigAooooAKKKKACiiigAooooAKKKKACiiigAooooAKKKKACiiigAooooAKKKKACiiigAooooAKKKKACiiigArN1fw7omv8Alf29o+n6n5GfK+22qTeXnGdu4HGcDp6CtKigBFUIoVQFUDAAHAFLXg+u/wDCb/8ACTat9n/4Sr7P9um8j7L53l+XvO3bjjGOmOMYqj/xXX/U5f8Akeu1YW6vzI5XiLO3Kz6Gor55/wCK6/6nL/yPR/xXX/U5f+R6f1T+8hfWf7rPoaivnn/iuv8Aqcv/ACPR/wAV1/1OX/kej6p/eQfWf7rPoaivnn/iuv8Aqcv/ACPR/wAV1/1OX/kej6p/eQfWf7rPoaivnn/iuv8Aqcv/ACPR/wAV1/1OX/kej6p/eQfWf7rPoaivnn/iuv8Aqcv/ACPR/wAV1/1OX/kej6p/eQfWf7rPfpb+1gv7eymmVLi5V2hjY4MgTG7H03Dj/CvNviV4u1/RvFltp2i6gLOFrITt+4SQsxdl/iB7KK841NvEKXlk2rHxCLwOfsJvfM3b8j7m7nOdvT2rc8cNqzeItKPiFYl1H+x084RdM+bJ17Zx1xxnOK1pYaMakbtO5nUruUHbQP8AhPfGn/Qwf+SUP/xNH/Ce+NP+hg/8kof/AImsKivS+r0v5UcPtqn8zN3/AIT3xp/0MH/klD/8TR/wnvjT/oYP/JKH/wCJrCoo+r0v5UHtqn8zN3/hPfGn/Qwf+SUP/wATR/wnvjT/AKGD/wAkof8A4msKukPgDxKOunKOM83MX/xVRKlh4fEkio1K0vhbZB/wnvjT/oYP/JKH/wCJo/4T3xp/0MH/AJJQ/wDxNYZBViD1BwaSr+r0f5UT7ar/ADM3f+E98af9DB/5JQ//ABNH/Ce+NP8AoYP/ACSh/wDiawqKPq9L+VB7ap/Mzd/4T3xp/wBDB/5JQ/8AxNH/AAnvjT/oYP8AySh/+JrIs7Sa/vIbW1TfNM4RFyBknpyaS6tpbO7ltrhdssLlHUEHBBwRkcUvYUb25UP21W17s2P+E98af9DB/wCSUP8A8TR/wnvjT/oYP/JKH/4mqmpaSNMs7J5rgG6uY/Ne2C8wofuknPUjnGOBWbSVGi1dRQOrVW7Zu/8ACe+NP+hg/wDJKH/4mj/hPfGn/Qwf+SUP/wATWFRVfV6X8qF7ap/Mzd/4T3xp/wBDB/5JQ/8AxNH/AAnvjT/oYP8AySh/+JrCoo+r0v5UHtqn8zN3/hPfGn/Qwf8AklD/APE0yX4geNI4Xf8At/O1ScfYoef/AB2sWorn/j0m/wBxv5Uvq9L+VD9tU/mZ9G+HrybUfDOl3t0Q01zZxSyEDALMgJ4+prRrH8If8iRof/YOt/8A0WtbFfOy+Jntx2QUUUVIwooooAKKKKACiiigAooooAKKKKACiiigAooooAKK5u6+IXhWyvJrW61iKOeCRo5EMb/KynBH3fUVD/wszwf/ANBuL/v2/wD8TV+zn2ZHPHudVRXK/wDCzPB//Qbi/wC/b/8AxNH/AAszwf8A9BuL/v2//wATT9nPsw54dzqqK5X/AIWZ4P8A+g3F/wB+3/8AiaP+FmeD/wDoNxf9+3/+Jo9nPsw54dzqqK5X/hZng/8A6DcX/ft//iaP+FmeD/8AoNxf9+3/APiaPZz7MOeHc6qiuV/4WZ4P/wCg3F/37f8A+Jo/4WZ4P/6DcX/ft/8A4mj2c+zDnh3Oqorlf+FmeD/+g3F/37f/AOJo/wCFmeD/APoNxf8Aft//AImj2c+zDnh3Ogn0y0udRtb64gWS4tFdYHbny9+NxHv8o5+vrXkHxa/5KFbf9gtP/Rr11s/xZ0CLxHaWkV0k9hcR4e6VWHkSZ43ZA+Ujv2rkfiwyv8QLRkIZW0pCCDkEea9deEjKNZcxzYiUZUnY5CiiivcPJCiiigAHWu98babpNx4nuZrvXo7Scxx5ga1kcj5Bj5gMc1wVbHirVoNc8RT39okiRSKgAlADcKAehPpWM4uU4tO2/wChrCSUXcll061XwDBqQixdtqDQtJuPKBM4xnHX2p2p6baW/hnQLuGLbPeed577id+1wBxnA49KdpesaWfDsmja7Fd+SLj7TDNabSytt2kENgYxRruuadf6ZpNnpltPbx2BkBErBtwZgQc9ycEngAZ4qVz86Wu/4W/zH7vJfy/G/wDkbd7ZeF7Lxh/YX9kTSCaVImnN0y+SXAxsXuBkfezWTp2gWcN/rUup+ZPZ6OSGjRthmbftUE9gcc4qDUddtrvx2utRpMLYXMUuxgN+F254zjPB71NaeJLOPWdYN3bzS6bqzOJFQhZEBYsrDtkenSs1GooLe9tfXT/gmjlByd7Wv+Ay2fRNY1zS7e20drISXSJMguWkWRCQO/IP0NTWOiaedV125vkkOnaS7nyI2wZCXKom49Bx161XjvtA07VtOudKj1Fxb3CyzPc7NxUEHCqvH5mnWPiK1g1jVjd28k2m6oziWNSFkUFiysO24enSralb3b7fqSnG/vW3X6lhbTR9f0PUZ9M01tMu9PjE+1Z2lSVM4Od3II9qcYNB0vwzpF/e6ZJe3V2sm6P7Q0aHa5G4kc5xgADA65qvLrOj6do15ZeHor1pb4BJp7zYCqA52qFz17k1R1PVYLzQNIsYlkEtisokLAbTufIxz/hSUZN21tf57P8AUG4pa2vb9V/wSXxTptnp9/bSaarpbXtrHdJE7bjHuz8ue/SsStbXtVg1RdNFusi/ZLGO2feAMsuckYJ45rJrendRszKbTldBRRRVkBUVz/x6Tf7jfyqWorn/AI9Jv9xv5UPYFufQ3hD/AJEjQ/8AsHW//ota2Kx/CH/IkaH/ANg63/8ARa1sV8tL4mfQR2QUUUVJQUUUUAFFFFABRXKeBfHVp4x07nbBqMK/v7fP/j6+q/y6HsT1dVKLi7MUZKSugoooqRhRRRQAUUUUAFFFFAHkeq/CbXLzXdRvba/09Yru7luFWQOWUMxIB496q/8ACn/EP/QR0v8A75f/AAr2aiutYuslZM53hqbd2jxn/hT/AIh/6COl/wDfL/4Uf8Kf8Q/9BHS/++X/AMK9mop/XK3cX1Wl2PGf+FP+If8AoI6X/wB8v/hR/wAKf8Q/9BHS/wDvl/8ACvZqKPrlbuH1Wl2PGf8AhT/iH/oI6X/3y/8AhR/wp/xD/wBBHS/++X/wr2aij65W7h9Vpdjxn/hT/iH/AKCOl/8AfL/4Uf8ACn/EP/QR0v8A75f/AAr2aij65W7h9Vpdjxn/AIU/4h/6COl/98v/AIUf8Kf8Q/8AQR0v/vl/8K9moo+uVu4fVaXY8Dvvhz4hh1+10ZGtLh7qMyPNErbIUBwWYkf/AK6Xx1o0Xh/xJpmlwTSzpb6Qi+ZK2S376T8h6DsK97wM5xz0zXi3xa/5KFbf9gtP/Rr10YevOrVSkY1qMadNtHH0UUV655gUUUUAFFFFABRSO6xoXdgqqMlicACq9pqNpfNItncJMY8bthzjNK6TsOztcs0VTm1Wxt7z7LPdRxzYB2scdenPSrlCknsDTW4UUUisrqGQhlPQg5zTELRRRQAUUUUAFFFFABUVz/x6Tf7jfyqWorn/AI9Jv9xv5UPYFufQ3hD/AJEjQ/8AsHW//ota2K+abPVdZjsYEh1/Voo1jUJHHeuqoMcADPAHpU39sa7/ANDJrP8A4HP/AI147wE273PTWMglax9IUV83/wBsa7/0Mms/+Bz/AONH9sa7/wBDJrP/AIHP/jS/s+fcf1yHY+kKK+b/AO2Nd/6GTWf/AAOf/Gj+2Nd/6GTWf/A5/wDGj+z59w+uQ7H0hRXzf/bGu/8AQyaz/wCBz/40f2xrv/Qyaz/4HP8A40f2fPuH1yHYzdHnubFbW/02dre8gJaOVfqeD6g+le8+CfG1t4ssSkgW31OAf6RbZ/8AH19VP6fkT4XBCsEKxoSQvTNSwT3NjfQ3+mztb3kB3Ryr/I+oPpXdiMMqsfM5KNd05eR9MUVy3gnxtbeLLEpIFt9TgH+kW2f/AB9fVT+n5E9TXgyi4PlkevGSkroKKKKkoKKKKACiiigDzHUvjBNY6zf2MXh3zxZ3Mlv5n24Lv2MRnGzjOM1X/wCF0XX/AEK3/lQH/wARXWXnw08JX99PeXek+ZPcSNLK/wBplG5mOScBsDk9qh/4VT4L/wCgN/5NTf8Axddqnhbaxf8AXzOVxr30kjmf+F0XX/Qrf+VAf/EUf8Louv8AoVv/ACoD/wCIrpv+FU+C/wDoDf8Ak1N/8XR/wqnwX/0Bv/Jqb/4unz4X+V/18xcuI/mRzP8Awui6/wChW/8AKgP/AIij/hdF1/0K3/lQH/xFdN/wqnwX/wBAb/yam/8Ai6P+FU+C/wDoDf8Ak1N/8XRz4X+V/wBfMOXEfzI5n/hdF1/0K3/lQH/xFH/C6Lr/AKFb/wAqA/8AiK6b/hVPgv8A6A3/AJNTf/F0f8Kp8F/9Ab/yam/+Lo58L/K/6+YcuI/mRzP/AAui6/6Fb/yoD/4ij/hdF1/0K3/lQH/xFdN/wqnwX/0Bv/Jqb/4uj/hVPgv/AKA3/k1N/wDF0c+F/lf9fMOXEfzI5n/hdF1/0K3/AJUB/wDEUf8AC6Lr/oVv/KgP/iK6b/hVPgv/AKA3/k1N/wDF0f8ACqfBf/QG/wDJqb/4ujnwv8r/AK+YcuI/mRw9/wDFzV5dVsLy10n7Lb2wcXNuboSC4Vtv+yMEbTg89fTOc/x/rNpr/irTtS05maCfSVK7hgg+dICCPUHiu11H4P6Dcaxpz2Fv9jsYvMa7RZnZpz8uxQWJwPvZI/8ArjlfilBFa+OrKC2jWKGPSUVEQYCgSvgAVvQlRdWPs1YxqqoqcudnJ0UUV6x5wUUUUAFUtW1OPSdPe6kUvjhVHcnp9Ku1yviDxNYSafd2UIMsxJjwy/KDnk59u1Y1qipwbvZmtKDnJK1yreeNIbrRpYfsrCeZDGw3fKARjOf6VzFleXdnMXsZXjdhg7O4rT8N6AdYuWeYlbWI/OR1Y+gr0G1srayiEdrAkSj+6Ov49682nSrYm05Ox3TqUqF4RVzyqS5ne9+03DM824MS/ciuqbx6fIj2WQ83P7zLfLj2/wA/nXU3mnWmoRGO7gSQHuRyPoeorzvxBojaLfBVJeCTmNz/ACPuKVSnWwqcoS0Y4TpYhpSWqOp1TUPt02lww3M9pHeAmQ42/KRwM+vGPxpI4V0TxDZ2dtcXMlvIjZg3bhGegJHpVe11yx8QWcGk30cqSygBmQALuXnj0zj0704ajo3hzWLmGOG4RiihmzuGeuBnnvXRzxb9pdW017eVjHlaXJbvp+p1dFcBpeq67BbXMkNtcXSTDKyOrNsPqPWtDw94kittOlGsXjtMsmFV1LNjH+Oa1hi4SaT0v3MpYacU7anX0U2ORJYlkjYMjgMrDuDTq7DmCiiigAqK5/49Jv8Acb+VS1Fc/wDHpN/uN/Kh7Atwtv8Aj0h/3F/lUtRW3/HpD/uL/KpaFsD3NSPQZ5bOzmSe3Ml8223t9zeY53lD2wOR1JHH41d0/wAMx3Gp28U2o28lpKzxme3L43qudnKZzyDnGCM4NUYtbkgbSZIIgsmm5KljkOfML8jt1xV6XxQX1O1ux/aEywOzGK8vzMMEYwvyDbwTzz2rCXtdl5/8A1j7Pr5GeujSyCBoLiCWO4uvssbruALYU55UHHzDtnrxVj/hG5wLQPeWiyXk3lQxFmLMRIYyeFwACM5Pbpk5FOsNctLJEjbT5Jo4Lr7VbBrnBVsAYchfmHyr029KY+v7r/Tbn7Nj7DKZNvmffzKZMZxx1x3p/vL2Qe5ZvqQajo0mn26T/ara5jaVoWMDMdjqASpyBnr1GQfWs6r0+pedphs/K25umuN+71AG3GPbrVGtIc1veIny390KKKKokWCe5sb6G/02dre8gO6OVf5H1B9K9x8D+M4PF+mOWj8i/tcLdQjoCejKfQ4PuP1PjWhaFf8AinVhp2lDaq4NzckfLAv9T6D/AOuR7z4f8P2HhrSY9P0yLbGvLufvSN3Zj3NeTj5U3p9o9LBxnv0NOiiivKPQCiiigAooooAKKKKACqNxrelWmqW+mXWp2cF/cjMFpJcKsso55VCct0PQdqvVx2tfDDQdd+IemeMryS8XUtNVBEkcoET7SSpYFSeCx6EULdX2Do+52NUdM1vStbjlfRtTs9QSF/Lla0uFlCN/dJUnB9jVySNZYnjkGUdSrD1Brkvh/wDDTRPhta31voEt5It9KJJDdyK5XAICjCjgZPXJ96F1uD8jo9U1jTNEtBda1qNpp9uWCCa7nWJNx6DcxAzx0q2jrJGrxsHRgCrKcgj1Fct4/wDh7o/xH0SDTNeku4ooJxPHJaSKjhgCP4lYYwx7V0VhZQ6bpttY2wIhtYUhjDHJ2qABk/QULZ3B7qxYooooAKKKKACvFvi1/wAlCtv+wWn/AKNevaa8W+LX/JQrb/sFp/6NeuzBfxkcuK/hM4+iiivfPHCiiigArznxVpEGlX0f2ZnKzKWKuc7efWvRq821vR9UhuLi7u0kkhVyBMzA5GeK4Mcr09r/AKHZg3ae9v1Ov8JRLF4btyvVyzMfU5I/pW1XJ+CdVR7VtOlYCRCWjz/ED1H4H+ddZXRhpKVKNjGvFxqO4Vz3jWJX0Dew+aOVSp+vFdDXF+N9VSTy9OhYMUbfLjsew/X+VTipKNGVx4eLdVWKvhGxgmN1eSRNNNagPEgbGTgnp+ApYJn8ReLLZdStlhEYOY9pBIGTg5pPDegagb20v8GK3J3Fg+CV+noan1eDW11yXVVtwqWh+RgRgoP1PBOa86MZKlG8Xa+um/W53SadR2etvuO2ACgADAHAA7VxvjO0tre/s70xBvMbEyA43gY/pxV6Hxxp7W+6eKaOQDlFAIz7HNYd/qF5q+pWt++nySWSOFjjKkhueefU11YmtSqU+WLuznoUqkJ3lodnpF/BqWnJPaxtFGPkCEAbcduKvUyKNIolWKNY1xwqgDH5U+u+N1FJnHKzegUUUUxBUVz/AMek3+438qlqK5/49Jv9xv5UPYFudVpXww8Taho1leW1zpKw3FvHLGJJJQwVlBGcJjODVv8A4VL4s/5+9G/7+S//ABFeo+EP+RI0P/sHW/8A6LWtivCljKydrnrrC02r2PFv+FS+LP8An70b/v5L/wDEUf8ACpfFn/P3o3/fyX/4ivaaKn67W7j+q0ux4t/wqXxZ/wA/ejf9/Jf/AIij/hUviz/n70b/AL+S/wDxFe00UfXa3cPqtLseLf8ACpfFn/P3o3/fyX/4ij/hUviz/n70b/v5L/8AEV7TRR9drdw+q0ux8wWkzT2qSOAC2c4+taehaFf+KdWGnaUNqrg3NyR8sC/1PoP/AK5FXwloOoeKLiLTdLGwLzcXLD5YFJP5k9h/9cj6D8P+H7Dw1pMen6ZFtjXl3P3pG7sx7mvQxGKVOPLHc46GH53zPYPD/h+w8NaTHp+mRbY15dz96Ru7Me5rToorxG23dnqpJKyCiiikMKKKKACiiigAorKm8U+H7eeSG413TYpY2KPG95GrKwOCCCeCDTP+Ev8ADf8A0MOlf+Bsf/xVVyy7C5l3Niisf/hL/Df/AEMOlf8AgbH/APFUf8Jf4b/6GHSv/A2P/wCKo5Zdhcy7mxRWP/wl/hv/AKGHSv8AwNj/APiqP+Ev8N/9DDpX/gbH/wDFUcsuwcy7mxRWP/wl/hv/AKGHSv8AwNj/APiqP+Ev8N/9DDpX/gbH/wDFUcsuwcy7mxRWP/wl/hv/AKGHSv8AwNj/APiqP+Ev8N/9DDpX/gbH/wDFUcsuwcy7mxRWP/wl/hv/AKGHSv8AwNj/APiqP+Ev8N/9DDpX/gbH/wDFUcsuwcy7mxXi3xa/5KFbf9gtP/Rr16De/EPw9Z6xp9n/AGlazx3m9TcQXCyLCw27Q+DwG3Hn2+pHn3xZ/wCShWv/AGC0/wDRr12YOLjWV0c2JknSdjj6KKK908gKKKKACs3xB550K5W1h852TaV68dzjucVpUUpR5otDi7NM8nSxv4bdb6OCZIlPEoBGD6//AF62bTxvqEEYS4jjuMdGPyt+ld3PH51vJEDjehXOOmRXL6X4KW3vHfUmjuItuEVSRk+pry3hatKSVJ77nofWKdSL9otjKvfGmo3MZSBUtgepTlvzNZTaTqJt1umtZjHI3Dbckn+f411WoeCVn1ASWMiW1uVG5SCSD7f/AK66l/lhb59uF+8e3vQsLVqt+2e2wPEU6aXsluc3P4lOm6YtrMmNTjjQeXsJXJ+nt+tVp/E0k5Fvq1lLa2U0RSRtp3FsdQT2/OneFo1vNavrq6nF3NCQkcpHUcjcB+FdRd20N5aSQXKho3XBz2962gqtWHMpadv8zKTp05crX9eRh2Wg6Xe+G1itlcJN86zSKPMBz/kVs6dYppunxWkTM6xggFup5z/Wuf8ABMzPb3ETXZkEbbUhP8K+o+uf0rqa2w6hKCmlZ2sZVnJScG9AooorpMAooooAKiuf+PSb/cb+VS1Fc/8AHpN/uN/Kh7Atz6G8If8AIkaH/wBg63/9FrWxWP4Q/wCRI0P/ALB1v/6LWtivlpfEz6COyCiiipKCiiigAooooAy/D3h6w8M6RHp+mRbI15dz96Ru7Me5rUoopttu7EkkrIKKKKQwooooAKKKKACiiigDxzV/hL4gvvEGpXtvNo5iu7uWdPOaTcFZiQDhPQ1U/wCFOeJf+emg/wDfUn/xFe3UV1rF1UrI53hqbdzxH/hTniX/AJ6aD/31J/8AEUf8Kc8S/wDPTQf++pP/AIivbqKf1yqL6tTPEf8AhTniX/npoP8A31J/8RR/wpzxL/z00H/vqT/4ivbqKPrlUPq1M8R/4U54l/56aD/31J/8RR/wpzxL/wA9NB/76k/+Ir26ij65VD6tTPEf+FOeJf8AnpoP/fUn/wARR/wpzxL/AM9NB/76k/8AiK9uoo+uVQ+rUzxH/hTniX/npoP/AH1J/wDEUf8ACnPEv/PTQf8AvqT/AOIr26ij65VD6tTPn3Uvht4hsNUsNN8jTribUPM2tbbiIlTbuZyVGB849f5VN440ltC8RaVpsl3LeNb6OimaU8n97JwPQDoB2GK98wM5xz0zXi3xa/5KFbf9gtP/AEa9dGHrzq1YqRjWoxp020cfRRRXrnmBRRRQAUUUUAFFFFABQRkYPIoooA5LUdLv9I1KfVNISGKBEAMKA/OO/wAtNm1HXtWMdgtqtkLlNxlIP3cevb+ddfRXK8Pq+WTSfQ6FW01V2jN0LTP7L0yOKSOIT4/ePGPvcnqe9aVFFdEYqEVFGEpOTuwoooqhBRRRQAVFc/8AHpN/uN/Kpaiuf+PSb/cb+VD2Bbn0N4Q/5EjQ/wDsHW//AKLWtisfwh/yJGh/9g63/wDRa1sV8tL4mfQR2QUUUVJQUUUUAFFFFABRRRQAUUUUAFFFFABRRRQAUUUUAFFFFABRRRQAUUUUAFFFFABRRRQAUUUUAFcP4z+HT+LNdh1OHWDYPHbC3KfZhLuAZmzncMfe/Su4oq4TlB80dyZRU1aR5T/wpe6/6Gn/AMp4/wDi6P8AhS91/wBDT/5Tx/8AF16tRW/1uv8AzGX1el2PKf8AhS91/wBDT/5Tx/8AF0f8KXuv+hp/8p4/+Lr1aij63X/mD6vS7HlP/Cl7r/oaf/KeP/i6P+FL3X/Q0/8AlPH/AMXXq1FH1uv/ADB9Xpdjyn/hS91/0NP/AJTx/wDF0f8ACl7r/oaf/KeP/i69Woo+t1/5g+r0ux5T/wAKXuv+hp/8p4/+Lo/4Uvdf9DT/AOU8f/F16tRR9br/AMwfV6XY8p/4Uvdf9DT/AOU8f/F0f8KXuv8Aoaf/ACnj/wCLr1aij63X/mD6vS7HlP8Awpe6/wChp/8AKeP/AIuj/hS91/0NP/lPH/xderUUfW6/8wfV6XY8p/4Uvdf9DT/5Tx/8XR/wpe6/6Gn/AMp4/wDi69Woo+t1/wCYPq9LseU/8KXuv+hp/wDKeP8A4uj/AIUvdf8AQ0/+U8f/ABderUUfW6/8wfV6XY8p/wCFL3X/AENP/lPH/wAXSN8FLl0Kt4oyGGCP7PH/AMcr1eij63X/AJg+r0uxU0iw/srRbHTxJ5otLeODzNuN21Qucds4q3RRXK9dTfYKKKKACiiigAooooAKKKKACiiigAooooAKKKKACiiigAooooAKKKKACiiigAooooAKKKKACiiigAooooAKKKKACiiigAooooAKKKKACiiigAooooAKKKKACiiigAooooAKKKKACiiigAooooAKKKKACiiigAooooAKKKKACiiigAooooAKKKKACiiigAooooAKKKKACiiigAooooAKKKKACiiigAooooAKKKKACiiigAooooAKKKKACiiigAooooAKKKKACiiigAooooAKKKKACiiigAooooAKKKKACiiigAooooAKKKKAP//Z)"
      ]
    },
    {
      "cell_type": "code",
      "metadata": {
        "id": "wE6yUdUeUL-h"
      },
      "source": [
        "def sumar( op1, op2):\n",
        "    res = op1 + op2\n",
        "    return res"
      ],
      "execution_count": null,
      "outputs": []
    },
    {
      "cell_type": "code",
      "metadata": {
        "colab": {
          "base_uri": "https://localhost:8080/"
        },
        "id": "2a_X4CcmYEM8",
        "outputId": "2ec23434-b0c0-44a6-8387-40bcddfb66ed"
      },
      "source": [
        "res = sumar( 2, 5)\n",
        "print(res)"
      ],
      "execution_count": null,
      "outputs": [
        {
          "output_type": "stream",
          "name": "stdout",
          "text": [
            "7\n"
          ]
        }
      ]
    },
    {
      "cell_type": "code",
      "metadata": {
        "colab": {
          "base_uri": "https://localhost:8080/"
        },
        "id": "pWOIq5HPayny",
        "outputId": "b8b1d1bb-7f2b-4db1-ca77-294c2bbc9e59"
      },
      "source": [
        "print(\"hola\",\"jesus\", sep=\"-\")"
      ],
      "execution_count": null,
      "outputs": [
        {
          "output_type": "stream",
          "name": "stdout",
          "text": [
            "hola-jesus\n"
          ]
        }
      ]
    },
    {
      "cell_type": "code",
      "metadata": {
        "colab": {
          "base_uri": "https://localhost:8080/"
        },
        "id": "4vgJiwa8aS_D",
        "outputId": "e920255e-df78-40d2-fc48-28a6428e5b14"
      },
      "source": [
        "def imprime_cuadro():\n",
        "    print(\"****\")\n",
        "    print(\"****\")\n",
        "    print(\"****\")\n",
        "    print(\"****\")\n",
        "    #return None\n",
        "imprime_cuadro()"
      ],
      "execution_count": null,
      "outputs": [
        {
          "output_type": "stream",
          "name": "stdout",
          "text": [
            "****\n",
            "****\n",
            "****\n",
            "****\n"
          ]
        }
      ]
    },
    {
      "cell_type": "markdown",
      "metadata": {
        "id": "xXw_4SCBa8Su"
      },
      "source": [
        "# valor de retorno de una funcion\n",
        "\n",
        "regla de oro. Una funcion siempre retorna UN SOLO VALOR. Inclusive si ese valor es el vacio."
      ]
    },
    {
      "cell_type": "code",
      "metadata": {
        "colab": {
          "base_uri": "https://localhost:8080/"
        },
        "id": "Ev-5H-MQbMMi",
        "outputId": "2fba54ac-d779-489a-dd16-eef97d7421de"
      },
      "source": [
        "# invocar sumar\n",
        "res = sumar(7 , 8)\n",
        "print(res)\n",
        "# invocar la funcion pintar cuadro\n",
        "res = imprime_cuadro()\n",
        "print(res)"
      ],
      "execution_count": null,
      "outputs": [
        {
          "output_type": "stream",
          "name": "stdout",
          "text": [
            "15\n",
            "****\n",
            "****\n",
            "****\n",
            "****\n",
            "None\n"
          ]
        }
      ]
    },
    {
      "cell_type": "markdown",
      "metadata": {
        "id": "7skbRC-8dK2w"
      },
      "source": [
        "# La palabra reservada None de python\n",
        "Esta palabra reservada significa vacio, equivalente a la palabra reservada void del lenguaje C, C++ y Java.\n",
        "\n",
        "Se usa para indicar ya sea un return vacio o que se recive un parametro un vacio"
      ]
    },
    {
      "cell_type": "code",
      "metadata": {
        "id": "CBpEIRwtdsFA"
      },
      "source": [
        "def multiplicar(valor , veces):\n",
        "    c = valor * veces\n",
        "    return c\n",
        "    "
      ],
      "execution_count": null,
      "outputs": []
    },
    {
      "cell_type": "code",
      "metadata": {
        "id": "dr5FBwbbeIgX"
      },
      "source": [
        "res= multiplicar(None,5)\n",
        "print(res)"
      ],
      "execution_count": null,
      "outputs": []
    },
    {
      "cell_type": "code",
      "metadata": {
        "id": "hMnbcsVyexqv"
      },
      "source": [
        "def multiplicar(valor , veces):\n",
        "    if valor == None:\n",
        "        c=-1\n",
        "    else:\n",
        "        c= valor * veces\n",
        "    return c"
      ],
      "execution_count": null,
      "outputs": []
    },
    {
      "cell_type": "code",
      "metadata": {
        "colab": {
          "base_uri": "https://localhost:8080/"
        },
        "id": "yhFWetkHfJT_",
        "outputId": "08bbc726-5804-4301-efeb-8207413e93fc"
      },
      "source": [
        "res= multiplicar(None,5)\n",
        "print(res)"
      ],
      "execution_count": null,
      "outputs": [
        {
          "output_type": "stream",
          "name": "stdout",
          "text": [
            "-1\n"
          ]
        }
      ]
    },
    {
      "cell_type": "markdown",
      "metadata": {
        "id": "yMWytcUbfhCW"
      },
      "source": [
        "# Parametros y argumentos\n",
        "Son conceptos relacionados y su diferencia esta centrada en el momento que se emplean en una funcion.\n",
        "\n",
        "Es decir en la funcion sumar de arriba, cuando se declara se le llama parametro y cuando se le invoca se le llama argumento."
      ]
    },
    {
      "cell_type": "markdown",
      "metadata": {
        "id": "ou5nWaKFfcWc"
      },
      "source": [
        "# Argumentos posicionales\n",
        "En python es posible determinar a que parametros estan dirigidos los argumentos, segun su posicion."
      ]
    },
    {
      "cell_type": "code",
      "metadata": {
        "id": "m1v9lJkKgmEf"
      },
      "source": [
        "def dividir( op1 , op2 ):\n",
        "    c= op1/op2\n",
        "    return c"
      ],
      "execution_count": null,
      "outputs": []
    },
    {
      "cell_type": "code",
      "metadata": {
        "colab": {
          "base_uri": "https://localhost:8080/"
        },
        "id": "tFzY8viCg2jX",
        "outputId": "86076049-43be-4f80-9103-12129e0b7ae7"
      },
      "source": [
        "num1= 25\n",
        "num2= 5\n",
        "res = dividir( num1, num2 )\n",
        "print(res)\n",
        "res = dividir( num2, num1 )\n",
        "print(res)"
      ],
      "execution_count": null,
      "outputs": [
        {
          "output_type": "stream",
          "name": "stdout",
          "text": [
            "5.0\n",
            "0.2\n"
          ]
        }
      ]
    },
    {
      "cell_type": "markdown",
      "metadata": {
        "id": "Zx6x2_w5hYLU"
      },
      "source": [
        "# Argumentos con palabras clave (keywords)\n",
        "\n",
        "Es la posibilidad de indicarle a la funcion en tiempo de ejecucion a que parametro va dirigido un argumento de entrada.\n",
        "\n",
        "SOLO DISPONIBLE EN PYTHON"
      ]
    },
    {
      "cell_type": "code",
      "metadata": {
        "colab": {
          "base_uri": "https://localhost:8080/"
        },
        "id": "AFfYeoK1hqt0",
        "outputId": "eac01337-bbdf-4f22-c0ef-0823888aa0a5"
      },
      "source": [
        "res = dividir( op2=num2, op1=num1 )\n",
        "print(res)"
      ],
      "execution_count": null,
      "outputs": [
        {
          "output_type": "stream",
          "name": "stdout",
          "text": [
            "5.0\n"
          ]
        }
      ]
    },
    {
      "cell_type": "markdown",
      "source": [
        "# Argumento por defecto\n",
        "\n",
        "Es la capacidad de las funciones de establecer un valor por defecto (Default).\n",
        "Si no se encia un argumento a dicho parametro, entoces se asigna el que el programador asigno por default"
      ],
      "metadata": {
        "id": "ayr9dB9m-DYa"
      }
    },
    {
      "cell_type": "code",
      "source": [
        "def dividir( op1 , op2=2):\n",
        "    c= op1/op2\n",
        "    return c\n",
        "\n",
        "print(dividir(25))\n"
      ],
      "metadata": {
        "colab": {
          "base_uri": "https://localhost:8080/"
        },
        "id": "fudL3L1B-djq",
        "outputId": "3522e8d1-d9b8-4182-fc6d-dc4c57b1c86b"
      },
      "execution_count": 2,
      "outputs": [
        {
          "output_type": "stream",
          "name": "stdout",
          "text": [
            "12.5\n"
          ]
        }
      ]
    },
    {
      "cell_type": "markdown",
      "source": [
        "Este concepto se puede ejemplificar con la funcion **print**."
      ],
      "metadata": {
        "id": "eS1E0Vpt_Fs0"
      }
    },
    {
      "cell_type": "code",
      "source": [
        "help(print)"
      ],
      "metadata": {
        "colab": {
          "base_uri": "https://localhost:8080/"
        },
        "id": "sCpCZpfn_PYr",
        "outputId": "24ad1117-f6f8-4dcd-ebae-cee734c1205f"
      },
      "execution_count": 3,
      "outputs": [
        {
          "output_type": "stream",
          "name": "stdout",
          "text": [
            "Help on built-in function print in module builtins:\n",
            "\n",
            "print(...)\n",
            "    print(value, ..., sep=' ', end='\\n', file=sys.stdout, flush=False)\n",
            "    \n",
            "    Prints the values to a stream, or to sys.stdout by default.\n",
            "    Optional keyword arguments:\n",
            "    file:  a file-like object (stream); defaults to the current sys.stdout.\n",
            "    sep:   string inserted between values, default a space.\n",
            "    end:   string appended after the last value, default a newline.\n",
            "    flush: whether to forcibly flush the stream.\n",
            "\n"
          ]
        }
      ]
    },
    {
      "cell_type": "code",
      "source": [
        "nombre= \"José\"\n",
        "edad = 18\n",
        "print(nombre, edad)\n",
        "print(nombre, edad, sep= \":)\")\n",
        "print(\"hola\", end=\" \")\n",
        "print(\"-----\")"
      ],
      "metadata": {
        "colab": {
          "base_uri": "https://localhost:8080/"
        },
        "id": "B40uLsnu_rAw",
        "outputId": "d51e3b39-b8d2-4129-a775-3f037bf4c1e1"
      },
      "execution_count": 6,
      "outputs": [
        {
          "output_type": "stream",
          "name": "stdout",
          "text": [
            "José 18\n",
            "José:)18\n",
            "hola -----\n"
          ]
        }
      ]
    },
    {
      "cell_type": "markdown",
      "source": [
        "# ejercicio de Argumentos pocisionales"
      ],
      "metadata": {
        "id": "02RBFKgRAkAn"
      }
    },
    {
      "cell_type": "code",
      "source": [
        "def comanda(comensal=1, primer=\"Consome\",segundo=\"Arroz rojo\", tercero=\"Enchiladas\"):\n",
        "    print(f\"El comensal {comensal} quiere:\")\n",
        "    print(\"\\t Entrada:\", primer)\n",
        "    print(\"\\t Medio:\", segundo)\n",
        "    print(\"\\t Plato fuerte:\", tercero)\n",
        "\n",
        "comanda()\n",
        "comanda(3,\"Ensalada\",\"arroz blanco\",\"Esparragos al horno\")\n",
        "comanda(\"arroz blanco\",\"Esparragos al horno\",\"Ensalada\", 3)\n",
        "comanda(segundo=\"arroz blanco\",tercero=\"Esparragos al horno\",primer=\"Ensalada\",comensal= 3)"
      ],
      "metadata": {
        "colab": {
          "base_uri": "https://localhost:8080/"
        },
        "id": "VPkT3NnAA0E2",
        "outputId": "595e4649-14f1-4acd-c7cb-5ddbc07bac8d"
      },
      "execution_count": 9,
      "outputs": [
        {
          "output_type": "stream",
          "name": "stdout",
          "text": [
            "El comensal 1 quiere:\n",
            "\t Entrada: Consome\n",
            "\t Medio: Arroz rojo\n",
            "\t Plato fuerte: Enchiladas\n",
            "El comensal 3 quiere:\n",
            "\t Entrada: Ensalada\n",
            "\t Medio: arroz blanco\n",
            "\t Plato fuerte: Esparragos al horno\n",
            "El comensal arroz blanco quiere:\n",
            "\t Entrada: Esparragos al horno\n",
            "\t Medio: Ensalada\n",
            "\t Plato fuerte: 3\n",
            "El comensal 3 quiere:\n",
            "\t Entrada: Ensalada\n",
            "\t Medio: arroz blanco\n",
            "\t Plato fuerte: Esparragos al horno\n"
          ]
        }
      ]
    },
    {
      "cell_type": "markdown",
      "source": [
        "# argumentos enviados en grupo en una tupla.\n",
        "Esto sirve para enviar multiples argumentos a una funcion empleando el comodin *.\n",
        "\n",
        "```\n",
        "def mifun( arg* ):\n",
        "    <cuerpo de la funcion>\n",
        "```"
      ],
      "metadata": {
        "id": "SdVey5v1DfSG"
      }
    },
    {
      "cell_type": "code",
      "source": [
        "def comanda2( *opciones ):\n",
        "    print(f\"El comensal {opciones[0]} pidio:\")\n",
        "    print(\"\\t entrada: \", opciones[1])\n",
        "    print(\"\\t segundo: \", opciones[2])\n",
        "    print(\"\\t plato fuerte: \", opciones[3])\n",
        "    print(\"indicaciones extra:\")\n",
        "    for instrucciones in opciones[4::]:\n",
        "        print(\"\\n\", instrucciones)\n",
        "\n",
        "comanda2(1,\"Sopa de fideo\",\"Arroz\",\"Arrachera\",\"Que aun se mueva\" \"Pechiga asada\")\n"
      ],
      "metadata": {
        "colab": {
          "base_uri": "https://localhost:8080/"
        },
        "id": "TvT4ndpkESby",
        "outputId": "70b525a3-16fa-4143-c6c9-fa1a73ea6bb4"
      },
      "execution_count": 13,
      "outputs": [
        {
          "output_type": "stream",
          "name": "stdout",
          "text": [
            "El comensal 1 pidio:\n",
            "\t entrada:  Sopa de fideo\n",
            "\t segundo:  Arroz\n",
            "\t plato fuerte:  Pechiga asada\n"
          ]
        }
      ]
    },
    {
      "cell_type": "markdown",
      "source": [
        "#Argumentos enviados en grupo en un diccionario.\n",
        "Es el mismo concepto que el anterior pero se usa el comodin ** y se mapea a un diccionario."
      ],
      "metadata": {
        "id": "qgluRaS7G1Sy"
      }
    },
    {
      "cell_type": "code",
      "source": [
        "def comanda3( **opciones ):\n",
        "    ops = opciones.keys()\n",
        "    print(ops)\n",
        "    for key in ops:\n",
        "        print(f\"{key} = {opciones[key]}\")\n",
        "    print(opciones)\n",
        "    print(f\"El comensal {opciones['comensal']} pidio:\")\n",
        "comanda3(segundo=\"arroz blanco\",tercero=\"Esparragos al horno\",primer=\"Ensalada\",comensal=3)"
      ],
      "metadata": {
        "colab": {
          "base_uri": "https://localhost:8080/"
        },
        "id": "XwrU745sHEae",
        "outputId": "d1a61f0b-6c4b-433a-bba1-37a249bcbb6d"
      },
      "execution_count": 18,
      "outputs": [
        {
          "output_type": "stream",
          "name": "stdout",
          "text": [
            "dict_keys(['segundo', 'tercero', 'primer', 'comensal'])\n",
            "segundo = arroz blanco\n",
            "tercero = Esparragos al horno\n",
            "primer = Ensalada\n",
            "comensal = 3\n",
            "{'segundo': 'arroz blanco', 'tercero': 'Esparragos al horno', 'primer': 'Ensalada', 'comensal': 3}\n",
            "El comensal 3 pidio:\n"
          ]
        }
      ]
    },
    {
      "cell_type": "code",
      "source": [
        "# modilaridad y biblioteca\n",
        "Todos los lenguajes de programacion tiene la capacidad de compartir codigo entre la comunidad de programadores.\n",
        "\n",
        "Para ello cada lenguaje establece un mecanismo para escribir y compartir bibliotecas\n"
      ],
      "metadata": {
        "id": "kNDvStWmJnwA"
      },
      "execution_count": null,
      "outputs": []
    },
    {
      "cell_type": "code",
      "source": [
        "!pip install simple_chalk"
      ],
      "metadata": {
        "colab": {
          "base_uri": "https://localhost:8080/"
        },
        "id": "PdRN0YD2MBvR",
        "outputId": "14e0d4a4-e6f4-46ca-fa32-fa8c0e54d2f5"
      },
      "execution_count": 21,
      "outputs": [
        {
          "output_type": "stream",
          "name": "stdout",
          "text": [
            "Collecting simple_chalk\n",
            "  Downloading simple_chalk-0.1.0.tar.gz (13 kB)\n",
            "Building wheels for collected packages: simple-chalk\n",
            "  Building wheel for simple-chalk (setup.py) ... \u001b[?25l\u001b[?25hdone\n",
            "  Created wheel for simple-chalk: filename=simple_chalk-0.1.0-py3-none-any.whl size=22163 sha256=45d4c3c6d621a49e902d9eeb51aec6365fdd7812ae6c66da2ef9ff804cf41fcc\n",
            "  Stored in directory: /root/.cache/pip/wheels/24/e2/84/d54838032016039eef79df1137b91defaa6db068d825dfcdcd\n",
            "Successfully built simple-chalk\n",
            "Installing collected packages: simple-chalk\n",
            "Successfully installed simple-chalk-0.1.0\n"
          ]
        }
      ]
    },
    {
      "cell_type": "code",
      "source": [
        "from simple_chalk import chalk, yellow\n",
        "print(chalk.yellow(\"hola en color amarillo\"))"
      ],
      "metadata": {
        "colab": {
          "base_uri": "https://localhost:8080/"
        },
        "id": "3hxi6-ArM1N5",
        "outputId": "1face018-7b30-439c-9965-8dfd6b3a9fa2"
      },
      "execution_count": 22,
      "outputs": [
        {
          "output_type": "stream",
          "name": "stdout",
          "text": [
            "\u001b[33mhola en color amarillo\u001b[0m\n"
          ]
        }
      ]
    },
    {
      "cell_type": "markdown",
      "source": [
        "# Como escribo un modulo o una biblioteca?\n",
        "Se define en un archivo de biblioteca."
      ],
      "metadata": {
        "id": "nyJD4I-1PBji"
      }
    },
    {
      "cell_type": "code",
      "source": [
        "!cat mi_modulo.py"
      ],
      "metadata": {
        "colab": {
          "base_uri": "https://localhost:8080/"
        },
        "id": "SpechmBVPQ6F",
        "outputId": "e021ecd3-c174-4fc7-9335-0a8a261bcfd1"
      },
      "execution_count": 23,
      "outputs": [
        {
          "output_type": "stream",
          "name": "stdout",
          "text": [
            "def sumar( a, b):\r\n",
            "    return a + b\r\n",
            "\r\n",
            "def mi_print( texto, final):\r\n",
            "    print(\"Super:\", text, end= final)"
          ]
        }
      ]
    },
    {
      "cell_type": "code",
      "source": [
        "import mi_modulo\n",
        "\n",
        "res = mi_modulo.sumar( 7, 5)\n",
        "print(res)\n",
        "\n",
        "mi_modulo.mi_print(\"Luis\",\"\\n\")"
      ],
      "metadata": {
        "colab": {
          "base_uri": "https://localhost:8080/"
        },
        "id": "DpE3cpXIQwZD",
        "outputId": "02b23235-bdb4-4bcf-ba60-bdc20ef3d00f"
      },
      "execution_count": 1,
      "outputs": [
        {
          "output_type": "stream",
          "name": "stdout",
          "text": [
            "12\n",
            "Super: Luis\n"
          ]
        }
      ]
    },
    {
      "cell_type": "code",
      "source": [
        "from mi_modulo import sumar, mi_print\n",
        "res = sumar( 5, 3)\n",
        "print(res)\n",
        "mi_print(\"luis\", \"\\n\")"
      ],
      "metadata": {
        "colab": {
          "base_uri": "https://localhost:8080/"
        },
        "id": "TV1dFAM1R7_Z",
        "outputId": "49732e31-8439-4e37-f92f-936a6063446e"
      },
      "execution_count": 2,
      "outputs": [
        {
          "output_type": "stream",
          "name": "stdout",
          "text": [
            "8\n"
          ]
        }
      ]
    },
    {
      "cell_type": "markdown",
      "source": [
        "# Manejo de archivos con python3\n",
        "\n",
        "-leer archivos\n",
        "-escribir en un archivo\n",
        "-manipular la información leida desde un archivo\n",
        "-formatos de archivo."
      ],
      "metadata": {
        "id": "T7GbzoPXSogW"
      }
    },
    {
      "cell_type": "code",
      "source": [
        "archivo = open( \"salida.txt\", \"wt\")\n",
        "archivo.write(\"hola mundo\")\n",
        "archivo.close()"
      ],
      "metadata": {
        "id": "ROWN85kwS5Vp"
      },
      "execution_count": 6,
      "outputs": []
    },
    {
      "cell_type": "code",
      "source": [
        "!cat salida.txt"
      ],
      "metadata": {
        "colab": {
          "base_uri": "https://localhost:8080/"
        },
        "id": "qtQA_hXJTLzp",
        "outputId": "a8f7c96b-179a-4db7-f9bf-a4f6b56f5a39"
      },
      "execution_count": 7,
      "outputs": [
        {
          "output_type": "stream",
          "name": "stdout",
          "text": [
            "hola mundo"
          ]
        }
      ]
    }
  ]
}