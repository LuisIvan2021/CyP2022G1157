{
  "nbformat": 4,
  "nbformat_minor": 0,
  "metadata": {
    "colab": {
      "name": "Fundamentos3.ipynb.ipynb",
      "provenance": [],
      "collapsed_sections": [],
      "authorship_tag": "ABX9TyMzvvKHD17FYmf6CCarAhJW",
      "include_colab_link": true
    },
    "kernelspec": {
      "name": "python3",
      "display_name": "Python 3"
    },
    "language_info": {
      "name": "python"
    }
  },
  "cells": [
    {
      "cell_type": "markdown",
      "metadata": {
        "id": "view-in-github",
        "colab_type": "text"
      },
      "source": [
        "<a href=\"https://colab.research.google.com/github/LuisIvan2021/CyP2022G1157/blob/main/Fundamentos3_ipynb.ipynb\" target=\"_parent\"><img src=\"https://colab.research.google.com/assets/colab-badge.svg\" alt=\"Open In Colab\"/></a>"
      ]
    },
    {
      "cell_type": "markdown",
      "metadata": {
        "id": "_wMzTZiPFjxr"
      },
      "source": [
        " Repetición:\n",
        "  - Este tipo de estructura nos permite automatizar la ejecucion, repetitiva de código muientras ciertas condiciones se cumplan, tenemos tres variantes de esta estructura en todos los lenguajes de programación:\n",
        "    - Desde...Hasta (estructura for)\n",
        "    - haz mientras (estructura While)\n",
        "    - haz y luego validas mientras (estructura Do-While)\n",
        "\n",
        "#FOR CON PYTHON\n",
        "\n",
        "```\n",
        "for j in range(10):\n",
        "    print(f\"hola {j})\n",
        "```\n",
        "# FOR CON LENG C Y/O JAVA\n",
        "```\n",
        "for( int j=0 ; j<10 ; j=j+1){\n",
        "  printf(\"hola &i \\n\", j);\n",
        "```\n",
        "\n",
        "En todos los lenguajes de programacion existe un tipo especial de for, conocido como **for-each**\n",
        "\n",
        "# FOR-each en python\n",
        "```\n",
        "for color in colores:\n",
        "    print(f\"este es el color {color}\")\n",
        "```"
      ]
    },
    {
      "cell_type": "code",
      "metadata": {
        "colab": {
          "base_uri": "https://localhost:8080/"
        },
        "id": "52Oy0RphFRPF",
        "outputId": "f4ff0f3f-780a-47ae-d079-2fc92beb8798"
      },
      "source": [
        "# funcion range()\n",
        "#range(<INICIO>,<STOP>,<INCREMENTO>)\n",
        "x= range(0,10,2)\n",
        "print(x)\n",
        "\n",
        "\n",
        "for j in range(10): #range(0,10)--> 0,1,2,3,4,5,6,7,8,9\n",
        "    print(f\"hola {j}\")\n",
        "print(\"----------\")\n",
        "for j in range(0,10,2): #range(0,10)--> 0,2,4,6,8\n",
        "    print(f\"hola {j}\")\n",
        "\n",
        "frutas = [\"Uva\",\"aguacate\",\"pera\",\"manzana\",\"sandia\"]\n",
        "\n",
        "print(frutas[0])\n",
        "print(frutas[1])\n",
        "print(frutas[2])\n",
        "print(frutas[3])\n",
        "print(frutas[4])\n",
        "\n",
        "print(\"_--------\")\n",
        "for index in range(5):\n",
        "    print(frutas[index])"
      ],
      "execution_count": 5,
      "outputs": [
        {
          "output_type": "stream",
          "name": "stdout",
          "text": [
            "range(0, 10, 2)\n",
            "hola 0\n",
            "hola 1\n",
            "hola 2\n",
            "hola 3\n",
            "hola 4\n",
            "hola 5\n",
            "hola 6\n",
            "hola 7\n",
            "hola 8\n",
            "hola 9\n",
            "----------\n",
            "hola 0\n",
            "hola 2\n",
            "hola 4\n",
            "hola 6\n",
            "hola 8\n",
            "Uva\n",
            "aguacate\n",
            "pera\n",
            "manzana\n",
            "sandia\n",
            "_--------\n",
            "Uva\n",
            "aguacate\n",
            "pera\n",
            "manzana\n",
            "sandia\n"
          ]
        }
      ]
    },
    {
      "cell_type": "markdown",
      "metadata": {
        "id": "7sHWmL13LTvX"
      },
      "source": [
        ""
      ]
    },
    {
      "cell_type": "code",
      "metadata": {
        "colab": {
          "base_uri": "https://localhost:8080/"
        },
        "id": "SUuoKHFxLZ1s",
        "outputId": "0d7d5977-79c4-4f90-c718-4f2e4f1d1837"
      },
      "source": [
        "for i in range(5):\n",
        "    print(\"+++++\")\n",
        "C= 1"
      ],
      "execution_count": 12,
      "outputs": [
        {
          "output_type": "stream",
          "name": "stdout",
          "text": [
            "+++++\n",
            "+++++\n",
            "+++++\n",
            "+++++\n",
            "+++++\n",
            "2\n",
            "2\n",
            "2\n",
            "2\n",
            "2\n",
            "2\n"
          ]
        }
      ]
    }
  ]
}