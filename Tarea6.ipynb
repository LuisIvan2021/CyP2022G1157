{
  "nbformat": 4,
  "nbformat_minor": 0,
  "metadata": {
    "colab": {
      "name": "Tarea6.ipynb",
      "provenance": [],
      "collapsed_sections": [],
      "authorship_tag": "ABX9TyMTcqCjW3tufsyA1T3ElcJp",
      "include_colab_link": true
    },
    "kernelspec": {
      "name": "python3",
      "display_name": "Python 3"
    },
    "language_info": {
      "name": "python"
    }
  },
  "cells": [
    {
      "cell_type": "markdown",
      "metadata": {
        "id": "view-in-github",
        "colab_type": "text"
      },
      "source": [
        "<a href=\"https://colab.research.google.com/github/LuisIvan2021/CyP2022G1157/blob/main/Tarea6.ipynb\" target=\"_parent\"><img src=\"https://colab.research.google.com/assets/colab-badge.svg\" alt=\"Open In Colab\"/></a>"
      ]
    },
    {
      "cell_type": "code",
      "metadata": {
        "colab": {
          "base_uri": "https://localhost:8080/"
        },
        "id": "1Pcs7xnpOwUQ",
        "outputId": "f859e22b-7745-462e-8acf-8c535b7dbc0d"
      },
      "source": [
        "#ejercicio 2.1\n",
        "#if\n",
        "N = int(input(\"¿Cuantas veces el grillo emitio el sonido en un minuto? \"))\n",
        "if N > 0:\n",
        "    T = N/4+40\n",
        "    print(f\"La temperatura es de {T} grados Fahrenheit\")\n",
        "prinprint(\"--------\")t(\"FIN DEL PROGRAMA\")\n",
        "\n",
        "# if-else\n",
        "N = float(input(\"¿Cuantas veces el grillo emitio el sonido en un minuto? \"))\n",
        "if N > 0:\n",
        "    T = N/4+40\n",
        "    print(f\"La temperatura es de {T} grados Fahrenheit\")\n",
        "else:\n",
        "    print(\"ponga un número mayor a cero\")\n",
        "print(\"FIN DEL PROGRAMA\")"
      ],
      "execution_count": 15,
      "outputs": [
        {
          "output_type": "stream",
          "name": "stdout",
          "text": [
            "¿Cuantas veces el grillo emitio el sonido en un minuto? 50\n",
            "La temperatura es de 52.5 grados Fahrenheit\n",
            "FIN DEL PROGRAMA\n",
            "--------\n",
            "¿Cuantas veces el grillo emitio el sonido en un minuto? 50\n",
            "La temperatura es de 52.5 grados Fahrenheit\n",
            "FIN DEL PROGRAMA\n"
          ]
        }
      ]
    },
    {
      "cell_type": "code",
      "metadata": {
        "colab": {
          "base_uri": "https://localhost:8080/"
        },
        "id": "URdDxGc2sp5E",
        "outputId": "2bb28288-a6ad-42b8-dd96-4c985beb6049"
      },
      "source": [
        "#ejercicio 2.2\n",
        "# if\n",
        "P = float(input(\"Ponga un número: \"))\n",
        "Q = float(input(\"Ponga un segundo número: \"))\n",
        "EXP = P**3+Q**4-2*P**2\n",
        "if EXP < 680:\n",
        "    print(f\"El número {P} y {Q} al hacer la operacióm el resultado es mayor a 680\")\n",
        "print(\"FIN DEL PROGRAMA\")\n",
        "print(\"--------\")\n",
        "# if-else\n",
        "print(\"¿Que números que hagan la siguiente operación da un número mayor a 680?\")\n",
        "print(\"P^3+Q^4-2xP^2\")\n",
        "P = float(input(\"Ponga un número (P): \"))\n",
        "Q = float(input(\"Ponga un segundo número (Q): \"))\n",
        "EXP = P**3+Q**4-2*P**2\n",
        "if EXP < 680:\n",
        "    print(f\"El número {P} y {Q} al hacer la operacióm el resultado es mayor a 680\")\n",
        "else:\n",
        "    print(\"el resultado no es mayor, intente con otros números\")\n",
        "print(\"FIN DEL PROGRAMA\")"
      ],
      "execution_count": 16,
      "outputs": [
        {
          "output_type": "stream",
          "name": "stdout",
          "text": [
            "Ponga un número (P): 3\n",
            "Ponga un segundo número (Q): 5\n",
            "El número 3.0 y 5.0 al hacer la operacióm el resultado es mayor a 680\n",
            "FIN DEL PROGRAMA\n",
            "--------\n",
            "¿Que números que hagan la siguiente operación da un número mayor a 680?\n",
            "P^3+Q^4-2xP^2\n",
            "Ponga un número (P): 3\n",
            "Ponga un segundo número (Q): 5\n",
            "El número 3.0 y 5.0 al hacer la operacióm el resultado es mayor a 680\n",
            "FIN DEL PROGRAMA\n"
          ]
        }
      ]
    },
    {
      "cell_type": "code",
      "metadata": {
        "colab": {
          "base_uri": "https://localhost:8080/"
        },
        "id": "c83uJe_IyuE4",
        "outputId": "18e2afcb-47fc-4c65-b1cb-2d84ab204950"
      },
      "source": [
        "# ejercicio 2.3\n",
        "#if\n",
        "A = float(input(\"Pon tu digito A de la ecucacion: \"))\n",
        "B = float(input(\"Pon tu digito B de la ecucacion: \"))\n",
        "C = float(input(\"Pon tu digito C de la ecucacion: \"))\n",
        "DIS = B**2-4*A*C\n",
        "print(DIS)\n",
        "if DIS >= 0:\n",
        "    X1= ((-B)+DIS**.5)/(2*A)\n",
        "    X2= ((-B)-DIS**.5)/(2*A)\n",
        "    print(f\"Raices reales: X1={X1}, X2={X2}: \")\n",
        "print(\"FIN DEL PROGRAMA\")\n",
        "print(\"--------\")\n",
        "# if-else\n",
        "A = float(input(\"Pon tu digito A de la ecucacion: \"))\n",
        "B = float(input(\"Pon tu digito B de la ecucacion: \"))\n",
        "C = float(input(\"Pon tu digito C de la ecucacion: \"))\n",
        "DIS = B**2-4*A*C\n",
        "if DIS > 0:\n",
        "    X1= ((-B)+DIS**.5)/(2*A)\n",
        "    X2= ((-B)-DIS**.5)/(2*A)\n",
        "    print(f\"Raices reales: X1={X1}, X2={X2}\")\n",
        "else:\n",
        "    print(\"El resultado no esta en las raices reales\")\n",
        "print(\"FIN DEL PROGRAMA\")\n"
      ],
      "execution_count": 21,
      "outputs": [
        {
          "output_type": "stream",
          "name": "stdout",
          "text": [
            "Pon tu digito A de la ecucacion: 3\n",
            "Pon tu digito B de la ecucacion: 9\n",
            "Pon tu digito C de la ecucacion: 1.5\n",
            "63.0\n",
            "Raices reales: X1=-0.17712434446770464, X2=-2.8228756555322954: \n",
            "FIN DEL PROGRAMA\n",
            "Pon tu digito A de la ecucacion: 3\n",
            "Pon tu digito B de la ecucacion: 9\n",
            "Pon tu digito C de la ecucacion: 1.5\n",
            "Raices reales: X1=-0.17712434446770464, X2=-2.8228756555322954\n",
            "FIN DEL PROGRAMA\n"
          ]
        }
      ]
    },
    {
      "cell_type": "code",
      "metadata": {
        "colab": {
          "base_uri": "https://localhost:8080/"
        },
        "id": "6ehW7dGSwSZ4",
        "outputId": "6a22db23-ef98-492e-a417-95add56402b4"
      },
      "source": [
        "#ejercicio 2.4\n",
        "MAT = int(input(\"Escribe tu matricula: \"))\n",
        "CAL1 = float(input(\"Escribe tu primera calificación: \"))\n",
        "CAL2 = float(input(\"Escribe tu segunda calificación: \"))\n",
        "CAL3 = float(input(\"Escribe tu tercera calificación: \"))\n",
        "CAL4 = float(input(\"Escribe tu cuarta calificación: \"))\n",
        "CAL5 = float(input(\"Escribe tu quinta calificación: \"))\n",
        "PRO = (CAL1+CAL2+CAL3+CAL4+CAL5)/5\n",
        "if PRO >= 6:\n",
        "    print(f\"Matricula: {MAT}, promedio: {PRO} usted fue aprobado\")\n",
        "else:\n",
        "    print(f\"Matricula: {MAT}, promedio: {PRO} usted no fue aprobado\")\n",
        "print(\"FIN DEL PROGRAMA\")"
      ],
      "execution_count": 24,
      "outputs": [
        {
          "output_type": "stream",
          "name": "stdout",
          "text": [
            "Escribe tu matricula: 4\n",
            "Escribe tu primera calificación: 5\n",
            "Escribe tu segunda calificación: 4.8\n",
            "Escribe tu tercera calificación: 7\n",
            "Escribe tu cuarta calificación: 6.3\n",
            "Escribe tu quinta calificación: 5.9\n",
            "Matricula: 4, promedio: 5.8 usted no fue aprobado\n"
          ]
        }
      ]
    },
    {
      "cell_type": "code",
      "metadata": {
        "colab": {
          "base_uri": "https://localhost:8080/"
        },
        "id": "CU2KLn-oR1Zf",
        "outputId": "50b81446-005f-4414-838d-c0750c5d63d9"
      },
      "source": [
        "#ejercicio 2.5\n",
        "#if-else\n",
        "NUM = int(input(\"introduce un número entero: \"))\n",
        "if NUM > 0:\n",
        "    print(\"el número es positivo\")\n",
        "else:\n",
        "    if NUM ==0:\n",
        "        print(\"número nulo\")\n",
        "    else:\n",
        "        print(\"número negativo\")\n",
        "print(\"FIN DEL PROGRAMA\")\n",
        "print(\"--------\")\n",
        "#if-else elif\n",
        "NUM = int(input(\"introduce un número entero: \"))\n",
        "if NUM > 0:\n",
        "    print(\"el número es positivo\")\n",
        "elif NUM ==0:\n",
        "    print(\"número nulo\")\n",
        "else:\n",
        "    print(\"número negativo\")\n",
        "print(\"FIN DEL PROGRAMA\")"
      ],
      "execution_count": 18,
      "outputs": [
        {
          "output_type": "stream",
          "name": "stdout",
          "text": [
            "introduce un número entero: -2\n",
            "número negativo\n",
            "FIN DEL PROGRAMA\n",
            "introduce un número entero: -2\n",
            "número negativo\n",
            "FIN DEL PROGRAMA\n"
          ]
        }
      ]
    },
    {
      "cell_type": "code",
      "metadata": {
        "colab": {
          "base_uri": "https://localhost:8080/"
        },
        "id": "wTJpQ4fso6Fg",
        "outputId": "538b00d3-0aa6-4e0e-9a79-7ac5d916d752"
      },
      "source": [
        "#ejercicio 2.6\n",
        "#if-else\n",
        "A = int(input(\"introduce un número entero: \"))\n",
        "if A == 0:\n",
        "    print(\"el número es nulo\")\n",
        "else:\n",
        "    if (A % 2) == 0:\n",
        "        print(\"número par\")\n",
        "    else:\n",
        "        print(\"número impar\")\n",
        "print(\"FIN DEL PROGRAMA\")"
      ],
      "execution_count": 32,
      "outputs": [
        {
          "output_type": "stream",
          "name": "stdout",
          "text": [
            "introduce un número entero: 0\n",
            "el número es nulo\n",
            "número par\n",
            "FIN DEL PROGRAMA\n"
          ]
        }
      ]
    },
    {
      "cell_type": "code",
      "metadata": {
        "colab": {
          "base_uri": "https://localhost:8080/"
        },
        "id": "suINPjC9EqHY",
        "outputId": "544e9212-2563-49a1-8912-5bed773e7e37"
      },
      "source": [
        "#ejercicio 2.7\n",
        "#if-else\n",
        "A = int(input(\"introduce un número entero: \"))\n",
        "B = int(input(\"introduce un segundo número entero: \"))\n",
        "C = int(input(\"introduce un tercer número entero: \"))\n",
        "if A < B:\n",
        "    if B < C:\n",
        "        print(\"Los números están en orden creciente\")\n",
        "    else:\n",
        "        print(\"Los números no están en orden creciente\")\n",
        "else:\n",
        "    print(\"Los números no están en orden creciente\")\n",
        "print(\"FIN DEL PROGRAMA\")"
      ],
      "execution_count": 35,
      "outputs": [
        {
          "output_type": "stream",
          "name": "stdout",
          "text": [
            "introduce un número entero: 1\n",
            "introduce un segundo número entero: 2\n",
            "introduce un tercer número entero: 3\n",
            "Los números están en orden creciente\n",
            "FIN DEL PROGRAMA\n"
          ]
        }
      ]
    },
    {
      "cell_type": "code",
      "metadata": {
        "colab": {
          "base_uri": "https://localhost:8080/"
        },
        "id": "4wpFgC5dJDwk",
        "outputId": "e56a686b-ac4b-4a08-e919-a2c33e5f82f9"
      },
      "source": [
        "# ejercicio 2.8\n",
        "COMPRA = float(input(\"Total de compra: \"))\n",
        "if COMPRA < 500:\n",
        "    PAGAR = COMPRA\n",
        "    print(\"Su cuenta es de $\", PAGAR)\n",
        "elif COMPRA <= 1000:\n",
        "    PAGAR = COMPRA-COMPRA*0.05\n",
        "    print(\"Su cuenta es de $\", PAGAR)\n",
        "elif COMPRA <= 7000:\n",
        "    PAGAR = COMPRA-COMPRA*0.11\n",
        "    print(\"Su cuenta es de $\", PAGAR)\n",
        "elif COMPRA <= 15000:\n",
        "    PAGAR = COMPRA-COMPRA*0.18\n",
        "    print(\"Su cuenta es de $\", PAGAR)\n",
        "else:    \n",
        "    PAGAR = COMPRA-COMPRA*0.25\n",
        "    print(\"Su cuenta es de $\", PAGAR)\n",
        "print(\"FIN DEL PROGRAMA\")"
      ],
      "execution_count": 55,
      "outputs": [
        {
          "output_type": "stream",
          "name": "stdout",
          "text": [
            "Total de compra: 1318.5\n",
            "Su cuenta es de $ 1173.465\n"
          ]
        }
      ]
    },
    {
      "cell_type": "code",
      "metadata": {
        "colab": {
          "base_uri": "https://localhost:8080/"
        },
        "id": "GXf2QRfJQ-BQ",
        "outputId": "9b261e94-c710-4e9a-8baf-bd318a826efc"
      },
      "source": [
        "# ejercicio 2.9\n",
        "PREBAS = float(input(\"Total de compra: \"))\n",
        "if PREBAS > 500:\n",
        "    IMP = 20*0.3+(PREBAS-40)*0.5\n",
        "    PRETOT = PREBAS+IMP\n",
        "    print(f\"Precio del articulo sin impuesto {PREBAS}, con {PRETOT}\")\n",
        "elif PREBAS > 40:\n",
        "    IMP = 20*0.3+(PREBAS-40)*0.4\n",
        "    PRETOT = PREBAS+IMP\n",
        "    print(f\"Precio del articulo sin impuesto {PREBAS}, con {PRETOT}\")\n",
        "elif PREBAS > 20:\n",
        "    IMP = (PREBAS-20)*0.3\n",
        "    PRETOT = PREBAS+IMP\n",
        "    print(f\"Precio del articulo sin impuesto {PREBAS}, con {PRETOT}\")\n",
        "else:    \n",
        "    IMP = 0\n",
        "    PRETOT = PREBAS+IMP\n",
        "    print(f\"Precio del articulo sin impuesto {PREBAS}, con {PRETOT}\")\n",
        "print(\"FIN DEL PROGRAMA\")"
      ],
      "execution_count": 60,
      "outputs": [
        {
          "output_type": "stream",
          "name": "stdout",
          "text": [
            "Total de compra: 217.8\n",
            "Precio del articulo sin impuesto 217.8, con 294.92\n"
          ]
        }
      ]
    },
    {
      "cell_type": "code",
      "metadata": {
        "colab": {
          "base_uri": "https://localhost:8080/"
        },
        "id": "7ugyStTdsoyb",
        "outputId": "d0db2d9e-ef1b-4d88-d2f9-5343c0583424"
      },
      "source": [
        "# ejercicio 2.10\n",
        "A = int(input(\"introduce un número entero: \"))\n",
        "B = int(input(\"introduce un segundo número entero: \"))\n",
        "C = int(input(\"introduce un tercer número entero: \"))\n",
        "if A > B :\n",
        "    if A > C:\n",
        "        print(A,\" es el mayor\")\n",
        "    elif A == C:\n",
        "        print(f\"{A} y {C} son los mayores\")\n",
        "    else:\n",
        "        print(C,\" es el mayor\")\n",
        "else:\n",
        "    if A == B:\n",
        "        if A > C:\n",
        "            print(f\"{A} y {B} son los mayores\")\n",
        "        elif A == C:\n",
        "            print(f\"{A},{B} y {C} son iguales\")\n",
        "        else:\n",
        "            print(C,\" es el mayor\")\n",
        "    else:\n",
        "        if B > C:\n",
        "            print(B,\" es el mayor\")\n",
        "        elif B == C:\n",
        "            print(f\"{B} y {C} son los mayores\")\n",
        "        else:\n",
        "            print(C,\" es el mayor\")\n",
        "print(\"FIN DEL PROGRAMA\")"
      ],
      "execution_count": 67,
      "outputs": [
        {
          "output_type": "stream",
          "name": "stdout",
          "text": [
            "introduce un número entero: 17\n",
            "introduce un segundo número entero: 17\n",
            "introduce un tercer número entero: 17\n",
            "17,17 y 17 son iguales\n",
            "FIN DEL PROGRAMA\n"
          ]
        }
      ]
    },
    {
      "cell_type": "code",
      "metadata": {
        "colab": {
          "base_uri": "https://localhost:8080/"
        },
        "id": "gAIiL2ZR0S9W",
        "outputId": "5b377be5-7e17-4284-f33c-5219a1c98bfe"
      },
      "source": [
        "#ejercicio 2.11\n",
        "CLAVE = int(input(\"¿Cual es la clave de la zona geografica a la que quieres llamar? \"))\n",
        "NUMIN = int(input(\"Duracion de llamada:\"))\n",
        "if CLAVE == 12:\n",
        "    COST = NUMIN*2\n",
        "    print(\"Costo total de la llamada $\", COST)\n",
        "elif CLAVE == 15:\n",
        "    COST = NUMIN*2.2\n",
        "    print(\"Costo total de la llamada $\", COST)\n",
        "elif CLAVE == 18:\n",
        "    COST = NUMIN*4.5\n",
        "    print(\"Costo total de la llamada $\", COST)\n",
        "elif CLAVE == 19:\n",
        "    COST = NUMIN*3.5\n",
        "    print(\"Costo total de la llamada $\", COST)\n",
        "elif CLAVE == 23 or CLAVE == 25:\n",
        "    COST = NUMIN*6\n",
        "    print(\"Costo total de la llamada $\", COST)\n",
        "elif CLAVE == 29:\n",
        "    COST = NUMIN*5\n",
        "    print(\"Costo total de la llamada $\", COST)\n",
        "print(\"FIN DEL PROGRAMA\")"
      ],
      "execution_count": 77,
      "outputs": [
        {
          "output_type": "stream",
          "name": "stdout",
          "text": [
            "¿Cual es la clave de la zona geografica a la que quieres llamar? 18\n",
            "Duracion de llamada:12\n",
            "Costo total de la llamada 54.0\n",
            "FIN DEL PROGRAMA\n"
          ]
        }
      ]
    },
    {
      "cell_type": "code",
      "metadata": {
        "colab": {
          "base_uri": "https://localhost:8080/"
        },
        "id": "-jGDvPR45w_Q",
        "outputId": "c3423075-7aec-4a4d-c0f8-6c8ab72667bf"
      },
      "source": [
        "# ejercicio 2.12\n",
        "SUE = int(input(\"Sueldo base: $\"))\n",
        "CATE = int(input(\"categoria del trabajador: \"))\n",
        "HE = int(input(\"Horas extras trabajadas: \"))\n",
        "\n",
        "if CATE == 1:\n",
        "    PHE= 30\n",
        "elif CATE == 2:\n",
        "    PHE= 38\n",
        "elif CATE == 3:\n",
        "    PHE= 50\n",
        "elif CATE == 4:\n",
        "    PHE= 70\n",
        "elif CATE >= 5:\n",
        "    PHE= 0\n",
        "if HE > 30:\n",
        "    NSUE = SUE+30*PHE\n",
        "    print(\"Tu sueldo es de $\",NSUE)\n",
        "else:\n",
        "    NSUE = SUE +HE*PHE\n",
        "    print(\"Tu sueldo es de $\",NSUE)\n",
        "print(\"FIN DEL PROGRAMA\")"
      ],
      "execution_count": 80,
      "outputs": [
        {
          "output_type": "stream",
          "name": "stdout",
          "text": [
            "Sueldo base: $3200\n",
            "categoria del trabajador: 3\n",
            "Horas extras trabajadas: 8\n",
            "Tu sueldo es de $ 3600\n",
            "FIN DEL PROGRAMA\n"
          ]
        }
      ]
    },
    {
      "cell_type": "code",
      "metadata": {
        "colab": {
          "base_uri": "https://localhost:8080/"
        },
        "id": "wuHg-IHG6Q3D",
        "outputId": "ae0f05cf-8aa5-4274-f085-d29edfc72de5"
      },
      "source": [
        "# ejercicio 2.13\n",
        "MAT = int(input(\"Matricula del alumno: \"))\n",
        "print(\"Economía,Computación,Contabilidad,Administración\")\n",
        "CARR = str(input(\"Carrera en la que estas inscrito: \"))\n",
        "SEM = int(input(\"Semestre aprobado: \"))\n",
        "PROM = float(input(\"Promedio:\"))\n",
        "if CARR == \"Economía\":\n",
        "    if SEM >= 6 and PROM >= 8.8:\n",
        "        print(MAT, CARR,\"Aceptado\")\n",
        "if CARR == \"Computación\":\n",
        "    if SEM > 6 and PROM > 8.5:\n",
        "        print(MAT, CARR,\"Aceptado\")\n",
        "if CARR == \"Contabilidad\" or CARR == \"Administración\":\n",
        "    if SEM > 5 and PROM > 8.5:\n",
        "        print(MAT, CARR,\"Aceptado\")"
      ],
      "execution_count": 12,
      "outputs": [
        {
          "output_type": "stream",
          "name": "stdout",
          "text": [
            "Matricula del alumno: 26000\n",
            "Economía,Computación,Contabilidad,Administración\n",
            "Carrera en la que estas inscrito: Administración\n",
            "Semestre aprobado: 6\n",
            "Promedio:9\n",
            "26000 Administración Aceptado\n"
          ]
        }
      ]
    }
  ]
}