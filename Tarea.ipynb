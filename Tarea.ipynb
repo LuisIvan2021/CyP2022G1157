{
  "nbformat": 4,
  "nbformat_minor": 0,
  "metadata": {
    "colab": {
      "name": "Tarea.ipynb",
      "provenance": [],
      "collapsed_sections": [],
      "authorship_tag": "ABX9TyO6kYSmXC8AN70aAD+nZ9TI",
      "include_colab_link": true
    },
    "kernelspec": {
      "name": "python3",
      "display_name": "Python 3"
    },
    "language_info": {
      "name": "python"
    }
  },
  "cells": [
    {
      "cell_type": "markdown",
      "metadata": {
        "id": "view-in-github",
        "colab_type": "text"
      },
      "source": [
        "<a href=\"https://colab.research.google.com/github/LuisIvan2021/CyP2022G1157/blob/main/Tarea.ipynb\" target=\"_parent\"><img src=\"https://colab.research.google.com/assets/colab-badge.svg\" alt=\"Open In Colab\"/></a>"
      ]
    },
    {
      "cell_type": "code",
      "metadata": {
        "id": "7lRtZDb8a_aT",
        "colab": {
          "base_uri": "https://localhost:8080/"
        },
        "outputId": "ba97855e-5224-423b-d953-dae1353d85dd"
      },
      "source": [
        "# hacer un programa que pida dos numeros enteros y que imprima en pantalla lo siguiente\n",
        "#1 cual de ellos es el numero mayor\n",
        "#2 cual de ellos es el numero menor\n",
        "#o si son iguales\n",
        "\n",
        "NUM1= int(input(\"Dame un numero entero: \"))\n",
        "NUM2= int(input(\"Dame un segundo numero entero: \"))\n",
        "if NUM1 > NUM2:\n",
        "    print(f\"{NUM1} es el numero mayor y {NUM2} es el numero menor\")\n",
        "elif NUM1 < NUM2:\n",
        "    print(f\"{NUM2} es el numero mayor y {NUM1} es el numero menor\")\n",
        "else:\n",
        "     print(f\"{NUM1} es igual al numero {NUM2}\")\n",
        "\n",
        "# Hacer un programa que solicite 3 numeros enteros diferentes entre si y que imprima\n",
        "# cual de los 3 es el mayor\n",
        "\n",
        "NUM1= int(input(\"Dame un numero entero: \"))\n",
        "NUM2= int(input(\"Dame un segundo numero entero: \"))\n",
        "NUM3= int(input(\"Dame un tercer numero entero: \"))\n",
        "if NUM1 > NUM2 and NUM1 > NUM3:\n",
        "    print(f\"{NUM1} es el numero mayor\")\n",
        "elif NUM2 > NUM3:\n",
        "    print(f\"{NUM2} es el numero mayor\")\n",
        "else:\n",
        "    print(f\"{NUM3} es el numero mayor\")\n",
        "\n",
        "# Hacer un programa que solicite 3 numeros enteros diferentes entre si y que imprima\n",
        "# cual de los 3 es el menor\n",
        "\n",
        "NUM1= int(input(\"Dame un numero entero: \"))\n",
        "NUM2= int(input(\"Dame un segundo numero entero: \"))\n",
        "NUM3= int(input(\"Dame un tercer numero entero: \"))\n",
        "if NUM1 < NUM2 and NUM1 < NUM3:\n",
        "    print(f\"{NUM1} es el numero menor\")\n",
        "elif NUM2 < NUM3:\n",
        "    print(f\"{NUM2} es el numero menor\")\n",
        "else:\n",
        "    print(f\"{NUM3} es el numero menor\")\n",
        "\n",
        "# Hacer un programa que solicite 4 numeros enteros diferentes entre si y que\n",
        "#imprima cual de ellos es el menor y cual el mayor\n",
        "NUM1= int(input(\"Dame un numero entero: \"))\n",
        "NUM2= int(input(\"Dame un segundo numero entero diretente al anterior: \"))\n",
        "NUM3= int(input(\"Dame un tercer numero entero diretente a los anteriores: \"))\n",
        "NUM4= int(input(\"Dame un tercer numero entero diretente a los anteriores: \"))\n",
        "if NUM1 == NUM2:\n",
        "    print(f\"por favor ponga un numero difetente al {NUM1} en la casilla 2\")\n",
        "elif NUM1 == NUM3:\n",
        "    print(f\"por favor ponga un numero difetente al {NUM1} en la casilla 3\")\n",
        "elif NUM1 == NUM4:\n",
        "    print(f\"por favor ponga un numero difetente al {NUM1} en la casilla 4\")\n",
        "elif NUM2 == NUM1:\n",
        "    print(f\"por favor ponga un numero difetente al {NUM2} en la casilla 1\")\n",
        "elif NUM2 == NUM3:\n",
        "    print(f\"por favor ponga un numero difetente al {NUM2} en la casilla 3\")\n",
        "elif NUM2 == NUM4:\n",
        "    print(f\"por favor ponga un numero difetente al {NUM2} en la casilla 4\")\n",
        "elif NUM3 == NUM1:\n",
        "    print(f\"por favor ponga un numero difetente al {NUM3} en la casilla 1\")\n",
        "elif NUM3 == NUM2:\n",
        "    print(f\"por favor ponga un numero difetente al {NUM3} en la casilla 2\")\n",
        "elif NUM3 == NUM4:\n",
        "    print(f\"por favor ponga un numero difetente al {NUM3} en la casilla 4\")\n",
        "else:\n",
        "    print(\"Todos los numeros son diferentes\")\n",
        "#Determinar cual es mayor\n",
        "if NUM1 > NUM2 and NUM1 > NUM3 and NUM1 > NUM4:\n",
        "    print(f\"El numero {NUM1} es el mayor\")\n",
        "elif NUM2 > NUM3:\n",
        "    print(f\"El numero {NUM2} es el mayor\")\n",
        "elif NUM3 > NUM4:\n",
        "    print(f\"El numero {NUM4} es el mayor\")\n",
        "else:\n",
        "    print(f\"El numero {NUM4} es el mayor\")\n",
        "#Determinar cual es menor\n",
        "if NUM1 < NUM2:\n",
        "    print(f\"El numero {NUM1} es el menor\")\n",
        "elif NUM2 < NUM3:\n",
        "    print(f\"El numero {NUM2} es el menor\")\n",
        "elif NUM3 < NUM4:\n",
        "    print(f\"El numero {NUM3} es el menor\")\n",
        "else:\n",
        "    print(f\"El numero {NUM4} es el menor\")"
      ],
      "execution_count": 97,
      "outputs": [
        {
          "output_type": "stream",
          "name": "stdout",
          "text": [
            "Dame un numero entero: 40\n",
            "Dame un segundo numero entero diretente al anterior: 10\n",
            "Dame un tercer numero entero diretente a los anteriores: 35\n",
            "Dame un tercer numero entero diretente a los anteriores: 60\n",
            "Todos los numeros son diferentes\n",
            "El numero 60 es el mayor\n",
            "El numero 10 es el menor\n"
          ]
        }
      ]
    }
  ]
}